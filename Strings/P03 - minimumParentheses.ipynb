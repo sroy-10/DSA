{
 "cells": [
  {
   "cell_type": "markdown",
   "metadata": {},
   "source": [
    "## Problem Statement\n",
    "\n",
    "Given a string \"pattern\", which contains only two types of characters ‘(’, ‘)’\\\n",
    "Your task is to find the minimum number of parentheses either ‘(’, ‘)’ we must add the parentheses in string ‘pattern’ and the resulted string is valid\\\n",
    "Condition for valid string-\\\n",
    "Every opening parenthesis ‘(’ must have a correct closing parenthesis ‘)’.\\\n",
    "Example - ‘(()(()))’, ‘()()()’, ‘((()))’ are valid string, and ‘(((’, ‘(()’, ‘)(())’ are invalid string\\\n",
    "\n",
    "**Note:**\n",
    "\n",
    "You are not required to print the output explicitly, it has already been taken care of. Just implement the function and return the minimum number of parentheses required to make a string valid.\n",
    "Detailed explanation ( Input/output format, Notes, Images )\n",
    "\n",
    "**Constraints:**\n",
    "\n",
    "1 <= T <= 50\n",
    "\n",
    "1 <= N <= 10^4\n",
    "\n",
    "Where ‘T’ is the total number of test cases, ‘N’ denotes the length of string \"pattern\".\n",
    "\n",
    "**Time limit:** 1 second\n",
    "\n",
    "**Sample Input 1:**\n",
    "\n",
    "2\\\n",
    ")((()\\\n",
    "((\n",
    "\n",
    "**Sample Output 1:**\n",
    "\n",
    "3\\\n",
    "2\n",
    "\n",
    "**Explanation of sample input 1:**\n",
    "\n",
    "**Test Case 1:**\n",
    "\n",
    "In the given \"pattern\" = \")((()\", only one pair of parentheses ( at index ‘3’ and ‘4’) is valid and parentheses at index ‘0’, ‘1’ and ‘2’ are invalid\\\n",
    "As you can see, we need three extra parentheses to make the string valid in the above image, one opening parenthesis ‘(’ for index ‘0’, two closing parentheses ‘)’ for index ‘1’ and ‘2’\\\n",
    "So return 3 number of minimum extra parentheses to make string \"pattern\" valid\n",
    "\n",
    "**Test Case 2:**\n",
    "\n",
    "In the given \"pattern\" = \"((\" so we need two extra closing parentheses ‘)’ to make string \"pattern\" valid.\n",
    "So return 2 number of minimum extra parentheses to make string \"pattern\" valid.\n",
    "\n",
    "**Sample Input 2:**\n",
    "\n",
    "2\\\n",
    "(((((\\\n",
    "))(\n",
    "\n",
    "**Sample Output 2:**\n",
    "\n",
    "5\\\n",
    "3"
   ]
  },
  {
   "cell_type": "markdown",
   "metadata": {},
   "source": [
    "## Implementation"
   ]
  },
  {
   "cell_type": "code",
   "execution_count": 2,
   "metadata": {},
   "outputs": [],
   "source": [
    "def minimumParentheses(pattern):\n",
    "\n",
    "    # Write your code here\n",
    "    # Return the minimum number of parentheses required.\n",
    "    l = []\n",
    "    for i in pattern:\n",
    "        if l and l[-1] == \"(\" and i == \")\":\n",
    "            l.pop()\n",
    "        else:\n",
    "            l.append(i)\n",
    "\n",
    "    return len(l)"
   ]
  },
  {
   "cell_type": "code",
   "execution_count": 3,
   "metadata": {},
   "outputs": [
    {
     "data": {
      "text/plain": [
       "5"
      ]
     },
     "execution_count": 3,
     "metadata": {},
     "output_type": "execute_result"
    }
   ],
   "source": [
    "minimumParentheses(pattern=\"(((((\")"
   ]
  }
 ],
 "metadata": {
  "kernelspec": {
   "display_name": "Python 3",
   "language": "python",
   "name": "python3"
  },
  "language_info": {
   "codemirror_mode": {
    "name": "ipython",
    "version": 3
   },
   "file_extension": ".py",
   "mimetype": "text/x-python",
   "name": "python",
   "nbconvert_exporter": "python",
   "pygments_lexer": "ipython3",
   "version": "3.11.5"
  }
 },
 "nbformat": 4,
 "nbformat_minor": 2
}
