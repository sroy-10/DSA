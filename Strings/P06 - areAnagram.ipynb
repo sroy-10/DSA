{
 "cells": [
  {
   "cell_type": "markdown",
   "metadata": {},
   "source": [
    "## Problem Statement\n",
    "You have been given two strings `'STR1'` and `'STR2'`. You have to check whether the two strings are anagram to each other or not.\n",
    "\n",
    "**Note:**\\\n",
    "Two strings are said to be anagram if they contain the same characters, irrespective of the order of the characters.\\\n",
    "\n",
    "**Example :**\\\n",
    "If `'STR1'` = “listen” and `'STR2'` = “silent” then the output will be 1.\n",
    "\n",
    "Both the strings contain the same set of characters.\n",
    "\n",
    "**Constraints:**\\\n",
    "1 <= T <= 100\\\n",
    "1 <= |STR1|, |STR2| <= 10^3\n",
    "\n",
    "Where |STR1| and |STR2| are the lengths of the string `'STR1'` and `'STR2'` respectively.\n",
    "\n",
    "**Time limit:** 1 sec\n",
    "\n",
    "**Sample Input 1:**\\\n",
    "2\\\n",
    "listen silent\\\n",
    "east eats\n",
    "\n",
    "**Sample Output 1:**\\\n",
    "1\\\n",
    "1\n",
    "\n",
    "**Explanation for Sample Output 1:**\\\n",
    "In test case 1, \"listen\" and \"silent\" has same set of characters.\n",
    "\n",
    "In test case 2, \"east\" and \"eats\" has same set of characters.\n",
    "\n",
    "**Sample Input 2:**\\\n",
    "2\\\n",
    "triangle integral\\\n",
    "hearts earth\n",
    "\n",
    "**Sample Output 2:**\\\n",
    "1\\\n",
    "0\n",
    "\n",
    "**Explanation for Sample Output 1:**\\\n",
    "In test case 1, \"triangle\" and \"integral\" has same set of characters.\n",
    "\n",
    "In test case 2, \"hearts\" and \"earth\" does not have same set of characters."
   ]
  },
  {
   "cell_type": "markdown",
   "metadata": {},
   "source": [
    "## Algorithm\n",
    "\n",
    "To solve this problem efficiently, we can use a HashMap (in languages like Java) or a dictionary (in Python) to count the frequency of each character in both strings, then compare the character frequencies from both strings. Alternatively, if the character set is known and limited (e.g., only ASCII characters), we can use an array to store frequencies.\n",
    "\n",
    "**Here's a step-by-step approach:**\n",
    "\n",
    "1. Check if the lengths of the two strings are equal. If not, they cannot be anagrams.\n",
    "\n",
    "1. Create a frequency array or dictionary to count occurrences of each character in the first string.\n",
    "\n",
    "1. Iterate over the second string, decreasing the frequency of each character in the array/dictionary. If a character is not found or its frequency drops below zero, the strings are not anagrams.\n",
    "\n",
    "1. If the frequency array/dictionary is reduced to all zeros after processing the second string, the strings are anagrams.\n",
    "\n",
    "Here is an example of how you might implement this in Python:\n",
    "\n",
    "```python\n",
    "def are_anagrams(str1, str2):\n",
    "    if len(str1) != len(str2):\n",
    "        return 0  # The strings have different lengths, cannot be anagrams\n",
    "    \n",
    "    # Initialize a dictionary to count the frequency of each character\n",
    "    char_count = {}\n",
    "    \n",
    "    # Count characters for the first string\n",
    "    for char in str1:\n",
    "        char_count[char] = char_count.get(char, 0) + 1\n",
    "    \n",
    "    # Decrease the count for the second string\n",
    "    for char in str2:\n",
    "        if char in char_count:\n",
    "            char_count[char] -= 1\n",
    "            if char_count[char] < 0:\n",
    "                return 0  # Character count went negative, not an anagram\n",
    "        else:\n",
    "            return 0  # Character not found in the first string, not an anagram\n",
    "    \n",
    "    # Check if all counts are zero\n",
    "    for count in char_count.values():\n",
    "        if count != 0:\n",
    "            return 0  # Counts are not zero, not an anagram\n",
    "            \n",
    "    # If we reached this point, the strings are anagrams\n",
    "    return 1\n",
    "\n",
    "# Example usage:\n",
    "t = int(input())  # Number of test cases\n",
    "for _ in range(t):\n",
    "    str1, str2 = input().split()\n",
    "    print(are_anagrams(str1, str2))\n",
    "```\n",
    "This algorithm has **O(n)** time complexity, where n is the length of the strings since we're simply iterating over each character a constant number of times. The space complexity is also **O(n)** due to the additional dictionary (or array) used to store character counts. However, if the character set is fixed and small (e.g., ASCII characters), the space complexity can be considered **O(1)** since the size of the frequency array will not depend on the size of the input strings."
   ]
  },
  {
   "cell_type": "markdown",
   "metadata": {},
   "source": [
    "## Actual Implementation"
   ]
  },
  {
   "cell_type": "code",
   "execution_count": 1,
   "metadata": {},
   "outputs": [],
   "source": [
    "def areAnagram(str1, str2):\n",
    "    # Write your code here.\n",
    "    str1 = \"\".join(sorted(str1))\n",
    "    str2 = \"\".join(sorted(str2))\n",
    "    if str1 == str2:\n",
    "        return 1\n",
    "    else:\n",
    "        return 0"
   ]
  },
  {
   "cell_type": "code",
   "execution_count": 2,
   "metadata": {},
   "outputs": [
    {
     "name": "stdout",
     "output_type": "stream",
     "text": [
      "1\n"
     ]
    }
   ],
   "source": [
    "print(areAnagram(str1=\"listen\", str2=\"silent\"))"
   ]
  },
  {
   "cell_type": "code",
   "execution_count": null,
   "metadata": {},
   "outputs": [],
   "source": []
  }
 ],
 "metadata": {
  "kernelspec": {
   "display_name": "Python 3",
   "language": "python",
   "name": "python3"
  },
  "language_info": {
   "codemirror_mode": {
    "name": "ipython",
    "version": 3
   },
   "file_extension": ".py",
   "mimetype": "text/x-python",
   "name": "python",
   "nbconvert_exporter": "python",
   "pygments_lexer": "ipython3",
   "version": "3.11.5"
  }
 },
 "nbformat": 4,
 "nbformat_minor": 2
}
