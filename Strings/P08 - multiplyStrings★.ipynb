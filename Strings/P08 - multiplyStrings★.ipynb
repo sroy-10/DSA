{
 "cells": [
  {
   "cell_type": "markdown",
   "metadata": {},
   "source": [
    "## Problem Statement\n",
    "\n",
    "You are given two big numbers ‘A’ and ‘B’ as strings. Your task is to find the product of both the numbers.\n",
    "\n",
    "**Note:**\\\n",
    "There are no leading zeros in both the strings, except the number 0 itself.\\\n",
    "Do not use any built-in Big Integer Library.\n",
    "\n",
    "For Example:\\\n",
    "If, A = 123, and B = 456.\\\n",
    "So the product of both numbers will be 56088.\n",
    "\n",
    "**Constraints:**\\\n",
    "1 <= T <= 100\\\n",
    "1 <= |A|, |B| <= 100\\\n",
    "where |A| and |B| denote the length of string, ‘A’ and ‘B’ respectively.   \\\n",
    "All the characters of the string ‘A’ and ‘B’ contain digits only.\n",
    "\n",
    "**Time limit:** 1 second\n",
    "\n",
    "**Sample Input 1:**\\\n",
    "2\\\n",
    "17281 \\\n",
    "91276\\\n",
    "123\\\n",
    "456\n",
    "\n",
    "**Sample Output 1:**\\\n",
    "1577340556\\\n",
    "56088    \n",
    "\n",
    "**Explanation for sample 1:**\\\n",
    "\n",
    "**For the first test case:**\\\n",
    "A=17281, and B=91276\\\n",
    "The product of both numbers is 1577340556.\n",
    "\n",
    "**For the second test case:**\\\n",
    "A=123, B=456\\\n",
    "The product of both numbers is 56088\\\n",
    "\n",
    "**Sample Input 2:**\\\n",
    "1\\\n",
    "5\\\n",
    "10\n",
    "\n",
    "**Sample output 2:**\\\n",
    "50"
   ]
  },
  {
   "cell_type": "markdown",
   "metadata": {},
   "source": [
    "## Algorithm\n",
    "\n",
    "To solve this problem, we can simulate the multiplication process that we use in paper-and-pencil arithmetic. Since we cannot use any built-in Big Integer library, we have to handle the multiplication manually, digit by digit.\n",
    "\n",
    "Below is a step-by-step algorithm to multiply two strings representing large numbers:\n",
    "1. Reverse both input strings to make the multiplication process easier since we usually multiply digits from right to left.\n",
    "2. Create an array result to store the intermediate results, with a size equal to the sum of lengths of the two input strings (A and B). This array will be used to accumulate the product of each digit multiplication.\n",
    "3. For each digit in the first number (from the least significant digit to the most significant one), multiply it with each digit of the second number, and add the result to the corresponding position in the result array.\n",
    "4. Handle carry over for each position in the result array (if a position is greater than 9, carry over to the next position).\n",
    "5. Convert the result array back to a string, taking care to skip any leading zeros.\n",
    "6. Reverse the result string to get the final product.\n",
    "\n",
    "The time complexity of this algorithm is O(n * m), where n is the length of string A and m is the length of string B, because we are iterating through eachCompletions call failed. Please try again."
   ]
  },
  {
   "cell_type": "markdown",
   "metadata": {},
   "source": [
    "## Implementation"
   ]
  },
  {
   "cell_type": "code",
   "execution_count": 1,
   "metadata": {},
   "outputs": [],
   "source": [
    "def multiplyStrings(a, b):\n",
    "    # Write your code here\n",
    "    # Return the product of both given numbers\n",
    "    if a == \"0\" or b == \"0\":\n",
    "        return \"0\"\n",
    "\n",
    "    arr1, arr2, res, carry = list(a), list(b), [0] * (len(a) + len(b)), 0\n",
    "\n",
    "    for i in range(len(b) - 1, -1, -1):\n",
    "        carry = 0\n",
    "        for j in range(len(a) - 1, -1, -1):\n",
    "            p = (int(arr1[j]) * int(arr2[i])) + res[i + j + 1] + carry\n",
    "            res[i + j + 1] = p % 10\n",
    "            carry = p // 10\n",
    "        if carry:\n",
    "            res[i + j] = carry\n",
    "\n",
    "    s = \"\".join(map(str, res))\n",
    "    s = s.lstrip(\"0\")\n",
    "    return s"
   ]
  },
  {
   "cell_type": "code",
   "execution_count": 2,
   "metadata": {},
   "outputs": [
    {
     "name": "stdout",
     "output_type": "stream",
     "text": [
      "1577340556\n"
     ]
    }
   ],
   "source": [
    "print(multiplyStrings(a=\"17281\", b=\"91276\"))"
   ]
  },
  {
   "cell_type": "code",
   "execution_count": null,
   "metadata": {},
   "outputs": [],
   "source": []
  }
 ],
 "metadata": {
  "kernelspec": {
   "display_name": "Python 3",
   "language": "python",
   "name": "python3"
  },
  "language_info": {
   "codemirror_mode": {
    "name": "ipython",
    "version": 3
   },
   "file_extension": ".py",
   "mimetype": "text/x-python",
   "name": "python",
   "nbconvert_exporter": "python",
   "pygments_lexer": "ipython3",
   "version": "3.11.5"
  }
 },
 "nbformat": 4,
 "nbformat_minor": 2
}
