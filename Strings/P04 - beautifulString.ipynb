{
 "cells": [
  {
   "cell_type": "markdown",
   "metadata": {},
   "source": [
    "## Problem Statement\n",
    "Ninja has been given a binary string ‘STR’ containing either ‘0’ or ‘1’. A binary string is called beautiful if it contains alternating 0s and 1s.\n",
    "\n",
    "For Example: ‘0101’, ‘1010’, ‘101’, ‘010’ are beautiful strings.\n",
    "\n",
    "He wants to make ‘STR’ beautiful by performing some operations on it. In one operation, Ninja can convert ‘0’ into ‘1’ or vice versa.\n",
    "\n",
    "Your task is to determine the minimum number of operations Ninja should perform to make ‘STR’ beautiful.\n",
    "\n",
    "**For Example :**\\\n",
    "Minimum operations to make ‘STR’ ‘0010’ beautiful is ‘1’. In one operation, we can convert ‘0’ at index ‘0’ (0-based indexing) to ‘1’. The ‘STR’ now becomes ‘1010’ which is a beautiful string. \n",
    "\n",
    "**Detailed explanation ( Input/output format, Notes, Images )**\n",
    "\n",
    "**Constraints :**\n",
    "1 <= T <= 100\n",
    "2 <= |STR| <= 10^5\n",
    "STR[i] = ‘1’ or ‘0’\n",
    "\n",
    "Where '|STR|' denotes the length of ‘STR’.\n",
    "\n",
    "**Time Limit:** 1 sec \n",
    "\n",
    "**Sample Input 1 :**\\\n",
    "2\\\n",
    "0000\\\n",
    "1010\n",
    "\n",
    "**Sample Output 1 :**\\\n",
    "2\\\n",
    "0\n",
    "\n",
    "**Explanation of Sample Input 1 :**\\\n",
    "\n",
    "`For the first test case:`\n",
    "\n",
    "The two beautiful strings that can be formed from the given ‘STR’\n",
    "are “1010” and “0101”. Ninja can transform ‘STR’ to “1010” by \n",
    "performing the following operations:\n",
    "\n",
    "Replace ‘0’ at index 0 by ‘1’.\n",
    "\n",
    "Replace ‘0’ at index 2 by ‘1’.\n",
    "\n",
    "Ninja can transform ‘STR’ to “0101” by performing the following \n",
    "operations:\n",
    "Replace ‘0' at index 1 by ‘1’.\n",
    "Replace ‘0’ at index 3 by ‘1’.\n",
    "\n",
    "The minimum number of operations in transforming ‘STR’ to either of the two beautiful strings is 2.\n",
    "\n",
    "For the second test case:\n",
    "Given ‘STR’ is already beautiful so the minimum number of operations required is 0.\n",
    "\n",
    "**Sample Input 2 :**\\\n",
    "2\\\n",
    "01011\\\n",
    "1001\n",
    "\n",
    "**Sample Output 2 :**\\\n",
    "1\\\n",
    "2\n",
    "\n",
    "**Explanation of Sample Input 2 :**\n",
    "\n",
    "For the first test case:\n",
    "\n",
    "The two beautiful strings that can be formed from the given ‘STR’ are “10101” and “01010”. Ninja can transform ‘STR’ to “10101” by performing the following operations:\n",
    "\n",
    "Replace ‘0’ at index 0 by ‘1’.\n",
    "Replace ‘1’ at index 1 by ‘0’.\n",
    "Replace ‘0’ at index 2 by ‘1’\n",
    "Replace ‘1’ at index 4 by ‘0’.\n",
    "\n",
    "Ninja can transform ‘STR’ to “01010” by performing the following operations:\n",
    "\n",
    "Replace ‘1’ at index 4 by ‘0’.\n",
    "\n",
    "The minimum number of operations in transforming ‘STR’ to beautiful is the minimum of the above two which is 1.\n",
    "\n",
    "**For the second test case:**\n",
    "\n",
    "The two beautiful strings that can be formed from the given ‘STR’ are “1010” and “0101”. Ninja can transform ‘STR’ to “1010” by performing the following operations:\n",
    "Replace ‘0’ at index 2 by ‘1’.\n",
    "Replace ‘1’ at index 3 by ‘0’.\n",
    "\n",
    "Ninja can transform ‘STR’ to “0101” by performing the following operations:\n",
    "Replace ‘0’ at index 0 by ‘1’.\n",
    "Replace ‘1’ at index 1 by ‘0’.\n",
    "\n",
    "The minimum number of operations in transforming ‘STR’ to either of the two beautiful strings is 2.\n"
   ]
  },
  {
   "cell_type": "markdown",
   "metadata": {},
   "source": [
    "## Implementation"
   ]
  },
  {
   "cell_type": "code",
   "execution_count": 1,
   "metadata": {},
   "outputs": [],
   "source": [
    "def makeBeautiful(s):\n",
    "\t# Write your code here\n",
    "\tl = len(s)\n",
    "\t\n",
    "\tp1 = \"01\" * l\n",
    "\tp2 = \"10\" * l\n",
    "\n",
    "\td1 = sum(c1 != c2 for c1, c2 in zip(p1,s))\n",
    "\td2 = sum(c1 != c2 for c1, c2 in zip(p2,s))\n",
    "\treturn min(d1, d2)"
   ]
  },
  {
   "cell_type": "code",
   "execution_count": 2,
   "metadata": {},
   "outputs": [
    {
     "data": {
      "text/plain": [
       "0"
      ]
     },
     "execution_count": 2,
     "metadata": {},
     "output_type": "execute_result"
    }
   ],
   "source": [
    "makeBeautiful(s=\"1010\")"
   ]
  }
 ],
 "metadata": {
  "kernelspec": {
   "display_name": "Python 3",
   "language": "python",
   "name": "python3"
  },
  "language_info": {
   "codemirror_mode": {
    "name": "ipython",
    "version": 3
   },
   "file_extension": ".py",
   "mimetype": "text/x-python",
   "name": "python",
   "nbconvert_exporter": "python",
   "pygments_lexer": "ipython3",
   "version": "3.11.5"
  }
 },
 "nbformat": 4,
 "nbformat_minor": 2
}
