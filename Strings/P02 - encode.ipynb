{
 "cells": [
  {
   "cell_type": "markdown",
   "metadata": {},
   "source": [
    "## Problem Statement\n",
    "\n",
    "You have been given a text message. You have to return the Run-length Encoding of the given message.\n",
    "\n",
    "Run-length encoding is a fast and simple method of encoding strings. The basic idea is to represent repeated successive characters as the character and a single count. For example, the string \"aaaabbbccdaa\" would be encoded as \"a4b3c2d1a2\".\n",
    "\n",
    "**Detailed explanation ( Input/output format, Notes, Images )**\\\n",
    "**Constraints :**\n",
    "1 <= T <= 10\\\n",
    "1 <= N <= 100000\\\n",
    "Where 'N' is the length of the message string.\n",
    "\n",
    "**Time Limit:** 1 sec\n",
    "\n",
    "**Sample Input 1 :**\\\n",
    "3\\\n",
    "aabbc\\\n",
    "abcd\\\n",
    "abbdcaas\n",
    "\n",
    "**Sample Output 1 :**\\\n",
    "a2b2c1\\\n",
    "a1b1c1d1\\\n",
    "a1b2d1c1a2s1\n",
    "\n",
    "**Explaination for Sample Input 1:**\\\n",
    "**Test Case 1:** As 2 consecutive 'a', 2 consecutive 'b', and 1 'c' are present in the given string so output is \"a2b2c1\".\\\n",
    "**Test Case 2:** As 1 consecutive 'a', 1 consecutive 'b', 1 consecutive 'c' and 1 consecutive 'd' are present in the given string so output is \"a1b1c1d1\".\\\n",
    "**Test Case 3:** As 1 consecutive 'a', 2 consecutive 'b', 1 consecutive 'd', 1consecutive 'c', 2 consecutive 'a' and 1 consecutive 's' are present in the given string so output is \"a1b2d1c1a2s1\".\n",
    "\n",
    "**Sample Input 2:**\\\n",
    "2\\\n",
    "sadasd\\\n",
    "adsad\n",
    "\n",
    "**Sample Output 2:**\\\n",
    "s1a1d1a1s1d1\\\n",
    "a1d1s1a1d1\n",
    "\n",
    "To solve this problem, you'll want to iterate through the input string and keep track of the current character as well as the count of how many times it has been repeated consecutively. Once you encounter a different character or reach the end of the string, you append the current character and its count to the output string. You then reset the count and update the current character to the new one. This process is repeated until the end of the string.\n",
    "\n",
    "This solution has a time complexity of `O(N)` where N is the length of the input string, since it processes each character exactly once. The space complexity is `O(N)` in the worst case, where all characters are unique, and we need to store each character followed by the number '1' in the result string."
   ]
  },
  {
   "cell_type": "markdown",
   "metadata": {},
   "source": [
    "## Algorithm\n",
    "\n",
    "To solve this problem, you'll want to iterate through the input string and keep track of the current character as well as the count of how many times it has been repeated consecutively. Once you encounter a different character or reach the end of the string, you append the current character and its count to the output string. You then reset the count and update the current character to the new one. This process is repeated until the end of the string.\n",
    "\n",
    "This solution has a time complexity of `O(N)` where N is the length of the input string, since it processes each character exactly once. The space complexity is `O(N)` in the worst case, where all characters are unique, and we need to store each character followed by the number '1' in the result string."
   ]
  },
  {
   "cell_type": "markdown",
   "metadata": {},
   "source": [
    "## Implementation"
   ]
  },
  {
   "cell_type": "code",
   "execution_count": 1,
   "metadata": {},
   "outputs": [],
   "source": [
    "def encode(message):\n",
    "    # Write your code here.\n",
    "    f, prev = \"\", message[0]\n",
    "    c = 0\n",
    "    for i in message:\n",
    "        if i == prev:\n",
    "            c += 1\n",
    "        else:\n",
    "            f += prev+str(c)\n",
    "            prev = i\n",
    "            c = 1\n",
    "    f += prev+str(c)\n",
    "    return f"
   ]
  },
  {
   "cell_type": "code",
   "execution_count": 2,
   "metadata": {},
   "outputs": [
    {
     "data": {
      "text/plain": [
       "'a2b2c1'"
      ]
     },
     "execution_count": 2,
     "metadata": {},
     "output_type": "execute_result"
    }
   ],
   "source": [
    "encode(message=\"aabbc\")"
   ]
  }
 ],
 "metadata": {
  "kernelspec": {
   "display_name": "Python 3",
   "language": "python",
   "name": "python3"
  },
  "language_info": {
   "codemirror_mode": {
    "name": "ipython",
    "version": 3
   },
   "file_extension": ".py",
   "mimetype": "text/x-python",
   "name": "python",
   "nbconvert_exporter": "python",
   "pygments_lexer": "ipython3",
   "version": "3.11.5"
  }
 },
 "nbformat": 4,
 "nbformat_minor": 2
}
