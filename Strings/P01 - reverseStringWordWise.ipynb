{
 "cells": [
  {
   "cell_type": "markdown",
   "metadata": {},
   "source": [
    "## Problem statement\n",
    "\n",
    "Reverse the given string word-wise. The last word in the given string should come at 1st place, the last-second word at 2nd place, and so on. Individual words should remain as it is.\n",
    "\n",
    "**Detailed explanation ( Input/output format, Notes, Images )**\n",
    "\n",
    "`Constraints:`\\\n",
    "0 <= |S| <= 10^5\\\n",
    "where |S| represents the length of string, S\n",
    "\n",
    "**Sample Input 1:**\\\n",
    "Welcome to Coding Ninjas\n",
    "\n",
    "**Sample Output 1:**\\\n",
    "Ninjas Coding to Welcome\n",
    "\n",
    "**Sample Input 2:**\\\n",
    "Always indent your code\n",
    "\n",
    "**Sample Output 2:**\\\n",
    "code your indent Always"
   ]
  },
  {
   "cell_type": "markdown",
   "metadata": {},
   "source": [
    "## Algorithm\n",
    "To solve this problem, you can follow these steps:\n",
    "1. Iterate over the string to find the words.\n",
    "2. Store the words in a stack or an array (since stacks naturally reverse the order when popped).\n",
    "3. Pop words from the stack or iterate the array in reverse to construct the reversed string.\n",
    "\n",
    "Here is a step-by-step algorithm using a stack:\n",
    "\n",
    "1. Initialize an empty stack.\n",
    "2. Use two pointers, `start` and `end`, to identify the words. Initially, both `start` and `end` are at the beginning of the string.\n",
    "3. Iterate over the characters of the string using `end` pointer.\n",
    "\t1. If a space is encountered, push the substring from `start` to `end - 1` onto the stack (this is a word), and update `start` to be `end + 1`.\n",
    "\t2. Increment `end` to move to the next character.\n",
    "4. After the loop, push the last word onto the stack (from `start` to the `end` of the string).\n",
    "5. `Pop` elements from the stack and `append` them to the result string, adding a space between words (but not after the last word).\n",
    "6. Return the result string.\n",
    "\n",
    "This algorithm has a time complexity of `O(n)`, where n is the length of the string, because we iterate over the string once to find the words, and then iterate over the words to construct the reversed string.\n",
    "\n",
    "The space complexity of the algorithm is also `O(n)`, as we store all the words in the stack or list. This is necessary to reverse the order of the words, so it's the best space complexity we can achieve for this problem."
   ]
  },
  {
   "cell_type": "markdown",
   "metadata": {},
   "source": [
    "## Implementation"
   ]
  },
  {
   "cell_type": "code",
   "execution_count": 2,
   "metadata": {},
   "outputs": [],
   "source": [
    "def reverseStringWordWise(string):\n",
    "    #Your code goes here\n",
    "    return \" \".join(string.split()[-1::-1])"
   ]
  },
  {
   "cell_type": "code",
   "execution_count": 3,
   "metadata": {},
   "outputs": [
    {
     "data": {
      "text/plain": [
       "'Ninjas Coding to Welcome'"
      ]
     },
     "execution_count": 3,
     "metadata": {},
     "output_type": "execute_result"
    }
   ],
   "source": [
    "reverseStringWordWise(string=\"Welcome to Coding Ninjas\")"
   ]
  }
 ],
 "metadata": {
  "kernelspec": {
   "display_name": "Python 3",
   "language": "python",
   "name": "python3"
  },
  "language_info": {
   "codemirror_mode": {
    "name": "ipython",
    "version": 3
   },
   "file_extension": ".py",
   "mimetype": "text/x-python",
   "name": "python",
   "nbconvert_exporter": "python",
   "pygments_lexer": "ipython3",
   "version": "3.11.5"
  }
 },
 "nbformat": 4,
 "nbformat_minor": 2
}
