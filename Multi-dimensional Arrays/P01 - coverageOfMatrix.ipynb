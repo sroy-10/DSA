{
 "cells": [
  {
   "cell_type": "markdown",
   "metadata": {},
   "source": [
    "## Problem Statement\n",
    "You are given a binary matrix (it contains only 0s and 1s) with dimensions ‘N * M’. You need to find and return the sum of coverages of all zeros of the given matrix.\n",
    "\n",
    "Coverage for a particular 0 is defined as the total number of ‘1s’ around it (i.e., immediate left, immediate right, immediate up, and immediate bottom positions).\n",
    "\n",
    "**Constraints:**\n",
    "1 <= T <= 10\n",
    "1 <= N, M <= 10^3\n",
    "\n",
    "**Time limit:** 1 second\n",
    "\n",
    "**Sample Input 1:**\\\n",
    "1\\\n",
    "2 2\\\n",
    "1 0\\\n",
    "0 1\n",
    "\n",
    "**Sample Output 1:**\\\n",
    "4\n",
    "\n",
    "**Explanation of Input 1:**\\\n",
    "In the given matrix, there are 2 zeros\\\n",
    "For the 0 at the 1st row, 2nd column position, coverage is 2(there is 1 adjacent top one and 1 adjacent right one)\\\n",
    "For the 0 at the 2nd row, 2nd column the coverage is 2(there is 1 adjacent top one and 1 adjacent right one).\n",
    "\n",
    "Hence the net coverage is 2 + 2 = 4.\n",
    "\n",
    "**Sample Input 2:**\\\n",
    "1\\\n",
    "2 3\\\n",
    "0 0 0\\\n",
    "0 0 0\n",
    "\n",
    "**Sample Output 2**\\\n",
    "0\n"
   ]
  },
  {
   "cell_type": "markdown",
   "metadata": {},
   "source": [
    "## Implementation"
   ]
  },
  {
   "cell_type": "code",
   "execution_count": 2,
   "metadata": {},
   "outputs": [],
   "source": [
    "def coverageOfMatrix(mat):\n",
    "    total_row, total_col = len(mat), len(mat[0])\n",
    "    total = 0\n",
    "    for i in range(total_row):\n",
    "        for j in range(total_col):\n",
    "            if mat[i][j] == 0:\n",
    "                if i-1 >= 0:\n",
    "                    total += mat[i-1][j]\n",
    "                if i+1 < total_row:\n",
    "                    total += mat[i+1][j]\n",
    "                if j-1 >= 0:\n",
    "                    total += mat[i][j-1]\n",
    "                if j+1 < total_col:\n",
    "                    total += mat[i][j+1]\n",
    "    return total"
   ]
  },
  {
   "cell_type": "code",
   "execution_count": 3,
   "metadata": {},
   "outputs": [
    {
     "data": {
      "text/plain": [
       "4"
      ]
     },
     "execution_count": 3,
     "metadata": {},
     "output_type": "execute_result"
    }
   ],
   "source": [
    "coverageOfMatrix(mat=[[1,0],[0,1]])"
   ]
  }
 ],
 "metadata": {
  "kernelspec": {
   "display_name": "Python 3",
   "language": "python",
   "name": "python3"
  },
  "language_info": {
   "codemirror_mode": {
    "name": "ipython",
    "version": 3
   },
   "file_extension": ".py",
   "mimetype": "text/x-python",
   "name": "python",
   "nbconvert_exporter": "python",
   "pygments_lexer": "ipython3",
   "version": "3.11.5"
  }
 },
 "nbformat": 4,
 "nbformat_minor": 2
}
