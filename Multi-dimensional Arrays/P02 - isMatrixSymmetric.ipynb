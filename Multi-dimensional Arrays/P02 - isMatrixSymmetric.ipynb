{
 "cells": [
  {
   "cell_type": "markdown",
   "metadata": {},
   "source": [
    "## Problem statement\n",
    "\n",
    "You are given a square matrix, return true if the matrix is symmetric otherwise return false.\n",
    "\n",
    "A symmetric matrix is that matrix whose transpose is equal to the matrix itself.\n",
    "\n",
    "Example of symmetric matrix :\n",
    "\n",
    "1 2 3\\\n",
    "2 4 5\\\n",
    "3 5 8\n",
    "\n",
    "↕ \n",
    "\n",
    "1 2 3\\\n",
    "2 4 5\\\n",
    "3 5 8\n",
    "\n",
    "**Constraints:**\\\n",
    "1 <= T <= 10\\\n",
    "1 <= N  <= 10^2\\\n",
    "-10^9 <= data <= 10^9\n",
    "\n",
    "Where 'data' denotes the element in the given 'matrix'.\n",
    "\n",
    "**Time Limit:** 1 sec\n",
    "\n",
    "**Sample Input 1 :**\\\n",
    "1\\\n",
    "3\\\n",
    "1 2 3 2 4 5 3 5 8\n",
    "\n",
    "**Sample Output 1 :**\\\n",
    "Yes\\\n",
    "Explanation For The Sample Output 1 :\n",
    "\n",
    "1 2 3\\\n",
    "2 4 5\\\n",
    "3 5 8\n",
    "\n",
    "↕ \n",
    "\n",
    "1 2 3\\\n",
    "2 4 5\\\n",
    "3 5 8\n",
    "\n",
    "\n",
    "**Sample Input 2 :**\\\n",
    "1\\\n",
    "3\\\n",
    "1 2 3 1 4 5 3 5 8\n",
    "\n",
    "**Sample Output 2 :**\\\n",
    "No\n",
    "\n",
    "**Explanation For The Sample Output 2 :**\n",
    "\n",
    "1 2 3\\\n",
    "1 4 5\\\n",
    "3 5 8\n",
    "\n",
    "≠\n",
    "\n",
    "1 1 3\\\n",
    "2 4 5\\\n",
    "3 5 8"
   ]
  },
  {
   "cell_type": "markdown",
   "metadata": {},
   "source": [
    "## Implementation"
   ]
  },
  {
   "cell_type": "code",
   "execution_count": 1,
   "metadata": {},
   "outputs": [],
   "source": [
    "def isMatrixSymmetric(matrix):\n",
    "    total_rec = len(matrix)\n",
    "    total_col = len(matrix[0])\n",
    "    if total_rec != total_col:\n",
    "        return False\n",
    "\n",
    "    for i in range(total_rec):\n",
    "        row_rec = matrix[i]\n",
    "        # check if this row equals column\n",
    "        for j in range(total_rec):\n",
    "            if row_rec[j] != matrix[j][i]:\n",
    "                return False\n",
    "    return True"
   ]
  },
  {
   "cell_type": "code",
   "execution_count": 3,
   "metadata": {},
   "outputs": [
    {
     "data": {
      "text/plain": [
       "True"
      ]
     },
     "execution_count": 3,
     "metadata": {},
     "output_type": "execute_result"
    }
   ],
   "source": [
    "isMatrixSymmetric(matrix=[[1,2,3], [2,4,5], [3,5,8]])"
   ]
  }
 ],
 "metadata": {
  "kernelspec": {
   "display_name": "Python 3",
   "language": "python",
   "name": "python3"
  },
  "language_info": {
   "codemirror_mode": {
    "name": "ipython",
    "version": 3
   },
   "file_extension": ".py",
   "mimetype": "text/x-python",
   "name": "python",
   "nbconvert_exporter": "python",
   "pygments_lexer": "ipython3",
   "version": "3.11.5"
  }
 },
 "nbformat": 4,
 "nbformat_minor": 2
}
