{
 "cells": [
  {
   "cell_type": "markdown",
   "metadata": {},
   "source": [
    "## Problem statement\n",
    "\n",
    "Given a matrix with ‘N’ rows and ‘M’ columns and an integer ‘K’. Your task is to find the “Kth” element which is obtained while traversing the matrix in spiral form.\n",
    "Spiral Traversing in the matrix:\n",
    "The below picture can clearly show how to traverse a matrix in spiral form.\n",
    "\n",
    "**Constraints:**\\\n",
    "1 <= T <= 100\\\n",
    "1 <= N * M <= 5 * 10^3 \\\n",
    "1 <= K  <= N * M\\\n",
    "-10^9 <= mat[i][j] <= 10^9\n",
    "\n",
    "**Time limit:** 1 second\n",
    "\n",
    "**Sample Input 1:**\\\n",
    "2\\\n",
    "3 4 8\\\n",
    "1 2 3 4\\\n",
    "5 6 7 8\\\n",
    "7 9 2 1\\\n",
    "4 4 10\\\n",
    "1 2 3 4\\\n",
    "5 6 7 8\\\n",
    "9 10 11 12\\\n",
    "13 14 15 16\n",
    "\n",
    "**Sample Output 2:**\\\n",
    "9\\\n",
    "13\n",
    "\n",
    "**Explanation For sample input 1:**\n",
    "\n",
    "**Test Case 1:**\n",
    "\n",
    "Given matrix is: \n",
    "\n",
    "Spiral form traversal of given matrix is -  \\\n",
    "1=> 2=> 3=> 4=> 8=> 1=> 2=> 9=> 7 => 5=> 6 => 7\\\n",
    "Hence at the 8'th position element is ‘9’ in spiral form traversal of the given matrix so return the integer ‘9’.\n",
    "\n",
    "**Test Case 2:**\\\n",
    "Given matrix is \n",
    "\n",
    "Spiral form traversal of given matrix is -  \\\n",
    "1=> 2=> 3=> 4=> 8=> 12=> 16=> 15=> 14=> 13=> 9=> 5=> 6=> 7=> 11=>10\\\n",
    "Hence at the 10'th position element is ‘13’ in spiral form traversal of the given matrix so return the integer ‘13’.\n",
    "\n",
    "**Sample Input 2:**\\\n",
    "2\\\n",
    "2 3 6\\\n",
    "2 3 1\\\n",
    "2 1 5\\\n",
    "4 2 7\\\n",
    "1 2 \\\n",
    "3 2\\\n",
    "8 3\\\n",
    "3 4\\\n",
    "**Sample Output 2:**\\\n",
    "2\\\n",
    "8\n",
    "\n",
    "`Source:` https://www.codingninjas.com/studio/problems/find-nth-elements-of-spiral-matrix_981305?utm_source=youtube&utm_medium=affiliate&utm_campaign=parikh_youtube\n"
   ]
  },
  {
   "cell_type": "markdown",
   "metadata": {},
   "source": [
    "## Implementation"
   ]
  },
  {
   "cell_type": "code",
   "execution_count": 2,
   "metadata": {},
   "outputs": [],
   "source": [
    "from os import *\n",
    "from sys import *\n",
    "from collections import *\n",
    "from math import *\n",
    "\n",
    "\n",
    "def findKthElement(matrix, k):\n",
    "    # Write your code here\n",
    "    # Return k'th element in spiral form of matrix\n",
    "    row, col = len(matrix), len(matrix[0])\n",
    "\n",
    "    top, bottom, left, right, cnt = 0, row - 1, 0, col - 1, 0\n",
    "    direction = 0  # 0 = right, 1 = down, 2 = left, 3 = up\n",
    "    while top <= bottom and left <= right:\n",
    "        # right\n",
    "        if direction == 0:\n",
    "            for i in range(left, right + 1):\n",
    "                cnt += 1\n",
    "                if cnt == k:\n",
    "                    return matrix[top][i]\n",
    "            top += 1\n",
    "\n",
    "        # down\n",
    "        elif direction == 1:\n",
    "            for i in range(top, bottom + 1):\n",
    "                cnt += 1\n",
    "                if cnt == k:\n",
    "                    return matrix[i][right]\n",
    "            right -= 1\n",
    "\n",
    "        # left\n",
    "        elif direction == 2:\n",
    "            for i in range(right, left - 1, -1):\n",
    "                cnt += 1\n",
    "                if cnt == k:\n",
    "                    return matrix[bottom][i]\n",
    "            bottom -= 1\n",
    "\n",
    "        # up\n",
    "        elif direction == 3:\n",
    "            for i in range(bottom, top - 1, -1):\n",
    "                cnt += 1\n",
    "                if cnt == k:\n",
    "                    return matrix[i][left]\n",
    "            left += 1\n",
    "        direction = (direction + 1) % 4\n",
    "    return -1"
   ]
  },
  {
   "cell_type": "code",
   "execution_count": 3,
   "metadata": {},
   "outputs": [
    {
     "name": "stdout",
     "output_type": "stream",
     "text": [
      "9\n"
     ]
    }
   ],
   "source": [
    "print(findKthElement(matrix=[[1, 2, 3, 4], [5, 6, 7, 8], [7, 9, 2, 1]], k=8))"
   ]
  },
  {
   "cell_type": "code",
   "execution_count": null,
   "metadata": {},
   "outputs": [],
   "source": []
  }
 ],
 "metadata": {
  "kernelspec": {
   "display_name": "Python 3",
   "language": "python",
   "name": "python3"
  },
  "language_info": {
   "codemirror_mode": {
    "name": "ipython",
    "version": 3
   },
   "file_extension": ".py",
   "mimetype": "text/x-python",
   "name": "python",
   "nbconvert_exporter": "python",
   "pygments_lexer": "ipython3",
   "version": "3.11.5"
  }
 },
 "nbformat": 4,
 "nbformat_minor": 2
}
