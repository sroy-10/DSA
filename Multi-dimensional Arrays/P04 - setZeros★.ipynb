{
 "cells": [
  {
   "cell_type": "markdown",
   "metadata": {},
   "source": [
    "## Problem Statement\n",
    "\n",
    "Given an ‘N’ x ‘M’ integer matrix, if an element is 0, set its entire row and column to 0's, and return the matrix. In particular, your task is to modify it in such a way that if a cell has a value 0 (matrix[i][j] == 0), then all the cells of the ith row and jth column should be changed to 0.\n",
    "You must do it in place.\n",
    "\n",
    "**For Example:**\\\n",
    "If the given grid is this:\\\n",
    "[7, 19, 3]\\\n",
    "[4, 21, 0]\n",
    "\n",
    "Then the modified grid will be:\\\n",
    "[7, 19, 0]\\\n",
    "[0, 0,  0]\n",
    "\n",
    "**Sample Input 1 :**\\\n",
    "2\\\n",
    "2 3\\\n",
    "7 19 3\\\n",
    "4 21 0\\\n",
    "3 3\\\n",
    "1 2 3\\\n",
    "4 0 6\\\n",
    "7 8 9\n",
    "\n",
    "**Sample Output 1 :**\\\n",
    "7 19 0\\\n",
    "0 0 0\\\n",
    "1 0 3\\\n",
    "0 0 0\\\n",
    "7 0 9\n",
    "\n",
    "**Explanation For Sample Input 1 :**\\\n",
    "**For First Case** - Similar to the example explained above.\n",
    "\n",
    "**For Second Case** -\\\n",
    "Only the cell (2,2) has zero. So all the elements of the second row and second column are changed to zeros.\n",
    "\n",
    "**Sample Input 2 :**\\\n",
    "2\\\n",
    "4 2\\\n",
    "1 0\\\n",
    "2 7\\\n",
    "3 0\\\n",
    "4 8\\\n",
    "3 3\\\n",
    "0 2 3\\\n",
    "1 0 3\\\n",
    "1 2 0\n",
    "\n",
    "**Sample Output 2 :**\\\n",
    "0 0\\\n",
    "2 0\\\n",
    "0 0\\\n",
    "4 0\\\n",
    "0 0 0\\\n",
    "0 0 0\\\n",
    "0 0 0\n"
   ]
  },
  {
   "cell_type": "markdown",
   "metadata": {},
   "source": [
    "## Algorithm\n",
    "\n",
    "To solve this problem with optimal time and space complexity, you need to find a way to mark the rows and columns that need to be set to zero without using extra space for another matrix.\n",
    "\n",
    "Here is an approach to solve the problem in O(N*M) time complexity and O(1) space complexity:\n",
    "\n",
    "1. Use the first row and the first column of the matrix as markers.\n",
    "2. Iterate through the matrix, and for each cell that is zero, mark its corresponding marker in the first row and first column to zero.\n",
    "3. To avoid losing the information of the first row and first column themselves, use two variables to remember if the first row and/or first column should be set to zero.\n",
    "4. After the marking process, iterate through the rest of the matrix (excluding the first row and column) and set the cell to zero if its corresponding row marker or column marker is zero.\n",
    "\n",
    "Finally, use the variables from step 3 to set the first row and/or first column to zero if needed."
   ]
  },
  {
   "cell_type": "markdown",
   "metadata": {},
   "source": [
    "## Implemenation"
   ]
  },
  {
   "cell_type": "code",
   "execution_count": 6,
   "metadata": {},
   "outputs": [],
   "source": [
    "from typing import List\n",
    "\n",
    "\n",
    "def setZeros(matrix: List[List[int]]) -> None:\n",
    "    m, n = len(matrix), len(matrix[0])\n",
    "    first_row_has_zero = False\n",
    "    first_col_has_zero = False\n",
    "\n",
    "    # Check if first row or column has zero\n",
    "    for j in range(n):\n",
    "        if matrix[0][j] == 0:\n",
    "            first_row_has_zero = True\n",
    "            break\n",
    "\n",
    "    for i in range(m):\n",
    "        if matrix[i][0] == 0:\n",
    "            first_col_has_zero = True\n",
    "            break\n",
    "\n",
    "    # Use first row and column to mark zeros\n",
    "    for i in range(1, m):\n",
    "        for j in range(1, n):\n",
    "            if matrix[i][j] == 0:\n",
    "                matrix[i][0] = matrix[0][j] = 0\n",
    "\n",
    "    # Set zeros\n",
    "    for i in range(1, m):\n",
    "        for j in range(1, n):\n",
    "            if matrix[i][0] == 0 or matrix[0][j] == 0:\n",
    "                matrix[i][j] = 0\n",
    "\n",
    "    # Set zeros for first row and column if necessary\n",
    "    if first_row_has_zero:\n",
    "        for j in range(n):\n",
    "            matrix[0][j] = 0\n",
    "\n",
    "    if first_col_has_zero:\n",
    "        for i in range(m):\n",
    "            matrix[i][0] = 0\n",
    "\n",
    "    return matrix"
   ]
  },
  {
   "cell_type": "code",
   "execution_count": 7,
   "metadata": {},
   "outputs": [
    {
     "data": {
      "text/plain": [
       "[[7, 19, 0], [0, 0, 0]]"
      ]
     },
     "execution_count": 7,
     "metadata": {},
     "output_type": "execute_result"
    }
   ],
   "source": [
    "setZeros(matrix=[[7, 19, 3], [4, 21, 0]])"
   ]
  },
  {
   "cell_type": "markdown",
   "metadata": {},
   "source": [
    "## FAQ\n",
    "\n",
    "**Question: Please tell me why first_row_has_zero and first_col_has_zero is needed? what is the intuition behind this?**\n",
    "\n",
    "**Answer:**\n",
    "The variables first_row_has_zero and first_col_has_zero are necessary because they are used to track whether the first row or the first column of the matrix initially contains any zeros before using these parts of the matrix to store information about where zeros are located in the rest of the matrix. This is an important step in the algorithm because the first row and the first column are used to mark zeros for the rest of the matrix without using extra space for auxiliary arrays.\n",
    "\n",
    "Here's the intuition behind this approach:\n",
    "1. Instead of using additional arrays to keep track of which rows and columns have zeros, this approach utilizes the first row and the first column of the input matrix itself to store this information. This is done to achieve the \"in-place\" requirement of the problem.\n",
    "\n",
    "2. The algorithm first iterates through the first row and the first column to check if they contain any zeros. This is important because later, the algorithm will use the first row and the first column to mark other rows and columns that should be set to zero. If we don't record the initial state of the first row and the first column, we may incorrectly modify them when we are setting other rows and columns to zero.\n",
    "\n",
    "3. The algorithm then uses the rest of the matrix (starting from the second row and the second column) to mark the first row and the first column. If matrix[i][j] is zero, it sets matrix[i][0] and matrix[0][j] to zero, effectively using the first row and the first column as flags that indicate which row and column should be zeroed out.\n",
    "\n",
    "4. Once the marking is complete, the algorithm uses the flags in the first row and the first column to set the appropriate rows and columns to zero. This is done for all cells except those in the first row and the first column.\n",
    "\n",
    "5. Finally, the algorithm checks the first_row_has_zero and first_col_has_zero flags. If the first row initially had a zero, all elements in the first row are set to zero. Similarly, if the first column initially had a zero, all elements in the first column are set to zero.\n",
    "\n",
    "**Without these two flags, if there were zeros in the first row or the first column, we would lose this information and wouldn't be able to correctly zero out the first row or the first column in the end. The algorithm ensures that the first row and the first column are treated correctly, preserving the integrity of the solution.**\n",
    "\n",
    "The resulting matrix meets the requirements of the problem, and the space complexity is optimized by not using any extra space for storing rows and columns that need to be zeroed out.\n"
   ]
  },
  {
   "cell_type": "code",
   "execution_count": null,
   "metadata": {},
   "outputs": [],
   "source": []
  }
 ],
 "metadata": {
  "kernelspec": {
   "display_name": "Python 3",
   "language": "python",
   "name": "python3"
  },
  "language_info": {
   "codemirror_mode": {
    "name": "ipython",
    "version": 3
   },
   "file_extension": ".py",
   "mimetype": "text/x-python",
   "name": "python",
   "nbconvert_exporter": "python",
   "pygments_lexer": "ipython3",
   "version": "3.11.5"
  }
 },
 "nbformat": 4,
 "nbformat_minor": 2
}
