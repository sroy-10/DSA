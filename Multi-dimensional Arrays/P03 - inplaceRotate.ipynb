{
 "cells": [
  {
   "cell_type": "markdown",
   "metadata": {},
   "source": [
    "## Problem statement\n",
    "\n",
    "You are given a square matrix of non-negative integers of size 'N x N'. Your task is to rotate that array by 90 degrees in an anti-clockwise direction without using any extra space.\n",
    "\n",
    "**For example:**\\\n",
    "**For given 2D array :**\\\n",
    "[[ 1,  2,  3 ],\\\n",
    " [ 4,  5,  6 ],\\\n",
    " [ 7,  8,  9 ]]\n",
    " \n",
    "After 90 degree rotation in anti-clockwise direction, it will become:\\\n",
    "[[ 3,  6,  9 ],\\\n",
    " [ 2,  5,  8 ],\\\n",
    " [ 1,  4,  7 ]]\n",
    "\n",
    "**Constraints:**\\\n",
    "1 ≤ T ≤ 50\\\n",
    "1 ≤ N ≤ 100\\\n",
    "1 ≤ ARR[i][j] ≤ 10^9\n",
    "\n",
    "**Time Limit:** 1 sec\n",
    "\n",
    "**Sample Input 1:**\\\n",
    "2\\\n",
    "3\\\n",
    "1  2  3\\\n",
    "4  5  6\\\n",
    "7  8  9\\\n",
    "4\\\n",
    "1  2  3  4 \\\n",
    "5  6  7  8 \\\n",
    "9 10 11 12 \\\n",
    "13 14 15 16\n",
    "\n",
    "**Sample Output 1:**\\\n",
    "3  6  9 \\\n",
    "2  5  8 \\\n",
    "1  4  7\\\n",
    "4  8 12 16 \\\n",
    "3  7 11 15 \\\n",
    "2  6 10 14 \\\n",
    "1  5  9 13\\\n",
    "Explanation of Input 1:\\\n",
    "(i) The array has been rotated by 90 degrees in an anticlockwise direction as the first row is now the first column inverted and so on for second and third rows.\\\n",
    "(ii) The array has been rotated by 90 degrees in an anticlockwise direction as the first row is now first column inverted and so on for second, third and fourth rows.\n",
    "\n",
    "**Sample Input 2:**\\\n",
    "2\\\n",
    "3\\\n",
    "7  4  1 \\\n",
    "8  5  2 \\\n",
    "9  6  3\\\n",
    "4\\\n",
    "13  9  5  1 \\\n",
    "14  10  6  2 \\\n",
    "15 11 7 3 \\\n",
    "16 12 8 4\n",
    "\n",
    "**Sample Output 2:**\\\n",
    "1  2  3\\\n",
    "4  5  6\\\n",
    "7  8  9\\\n",
    "1  2  3  4 \\\n",
    "5  6  7  8 \\\n",
    "9 10 11 12 \\\n",
    "13 14 15 16"
   ]
  },
  {
   "cell_type": "markdown",
   "metadata": {},
   "source": [
    "## Algorithm\n",
    "\n",
    "To solve this problem in-place without using any extra space, you can follow a two-step process: first transpose the matrix and then reverse each row. The transposition of the matrix will exchange rows with columns, and the reversal of each row will give the effect of rotating the matrix by 90 degrees in an anti-clockwise direction.\n",
    "\n",
    "**Here's a step-by-step algorithm:**\n",
    "\n",
    "1. Transpose the matrix. To transpose a square matrix, you need to swap the element at position [i][j] with the element at position [j][i] for all i < j.\n",
    "\t\n",
    "2. Reverse each row. After the transposition, the elements will be in the correct columns, but in reverse order. By reversing each row, you'll get the matrix rotated by 90 degrees in the anti-clockwise direction."
   ]
  },
  {
   "cell_type": "markdown",
   "metadata": {},
   "source": [
    "## Implementation"
   ]
  },
  {
   "cell_type": "code",
   "execution_count": 1,
   "metadata": {},
   "outputs": [],
   "source": [
    "def inplaceRotate(inputArray, n):\n",
    "    # Write your code here.\n",
    "    # reverse and then make row to column\n",
    "    total_rec, total_col = len(inputArray), len(inputArray[0])\n",
    "    f = [[] for _ in range(total_rec)]\n",
    "\n",
    "    for i in range(total_rec):\n",
    "        row_rec = inputArray[i]\n",
    "        row_rec = row_rec[::-1]\n",
    "        # convert it to col\n",
    "        for j in range(total_col):\n",
    "            f[j].append(row_rec[j])\n",
    "    return f"
   ]
  },
  {
   "cell_type": "code",
   "execution_count": 2,
   "metadata": {},
   "outputs": [
    {
     "data": {
      "text/plain": [
       "[[3, 6, 9], [2, 5, 8], [1, 4, 7]]"
      ]
     },
     "execution_count": 2,
     "metadata": {},
     "output_type": "execute_result"
    }
   ],
   "source": [
    "inplaceRotate(inputArray=[[1,2,3],[4,5,6],[7,8,9]], n=3)"
   ]
  }
 ],
 "metadata": {
  "kernelspec": {
   "display_name": "Python 3",
   "language": "python",
   "name": "python3"
  },
  "language_info": {
   "codemirror_mode": {
    "name": "ipython",
    "version": 3
   },
   "file_extension": ".py",
   "mimetype": "text/x-python",
   "name": "python",
   "nbconvert_exporter": "python",
   "pygments_lexer": "ipython3",
   "version": "3.11.5"
  }
 },
 "nbformat": 4,
 "nbformat_minor": 2
}
