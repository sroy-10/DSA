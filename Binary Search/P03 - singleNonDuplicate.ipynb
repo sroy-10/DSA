{
 "cells": [
  {
   "cell_type": "markdown",
   "metadata": {},
   "source": [
    "## Problem Statement\n",
    "\n",
    "You are given a sorted array ‘arr’ of ‘n’ numbers such that every number occurred twice in the array except one, which appears only once.\n",
    "\n",
    "Return the number that appears once.\n",
    "\n",
    "**Example:**\\\n",
    "**Input:** 'arr' = [1,1,2,2,4,5,5]\\\n",
    "**Output:** 4\n",
    "\n",
    "**Explanation:** \\\n",
    "Number 4 only appears once the array.\n",
    "\n",
    "**Note :**\\\n",
    "Exactly one number in the array 'arr' appears once.\n",
    "\n",
    "**Sample Input 1 :**\\\n",
    "5 \\\n",
    "1 1 3 5 5 \n",
    "\n",
    "**Sample Output 1 :**\\\n",
    "3 \n",
    "\n",
    "**Explanation of Sample Input 1 :**\\\n",
    "Given array is [1, 1, 3, 5, 5]    \\\n",
    "Here, 3 occurs once in the array. So, the answer is 3.\n",
    "\n",
    "**Sample Input 2 :**\\\n",
    "5\\\n",
    "1 1 4 4 15\n",
    "\n",
    "**Sample Output 2 :**\\\n",
    "15\n",
    "\n",
    "**Explanation of Sample Input 2 :**\\\n",
    "The array is [1, 1, 4, 4, 15].\\\n",
    "Here, 15 occurs once in the array. So, the answer is 15.\n",
    "\n",
    "**Expected Time Complexity:**\\\n",
    "Try to solve this in O(log(n)).\n",
    "\n",
    "**Constraints :**\\\n",
    "1 <= n <= 10^5\\\n",
    "0 <= arr[i] <= 10^9\n",
    "\n",
    "**Time Limit:** 1 sec"
   ]
  },
  {
   "cell_type": "markdown",
   "metadata": {},
   "source": [
    "## Algorithm\n",
    "\n",
    "To solve this problem with an optimal time complexity of **O(log(n))**, we can use a binary search approach, since the array is sorted. The idea is to leverage the fact that the array is sorted and every number except one occurs twice, which will help us identify the pattern that breaks when we encounter the unique number. \n",
    "\n",
    "Here's how you can approach the problem:\n",
    "\n",
    "1. Set low to 0 and high to `n - 1`, where n is the length of the array.\n",
    "\n",
    "2. Run a loop while low is less than high:\n",
    "    - Calculate mid as the middle index `(low + high) / 2`\n",
    "    - Check if mid is even. If so, compare `arr[mid]` with `arr[mid + 1]`\n",
    "        - If they are the same, the unique number must be to the right, so set `low` to `mid + 2`.\n",
    "\t\t- Otherwise, the unique number must be to the left (or at mid), so set `high` to `mid`.\n",
    "\n",
    "3. If mid is odd, compare `arr[mid]` with `arr[mid - 1]`.\n",
    "\t\t- If they are the same, the unique number must be to the right, so set low to `mid + 1`.\n",
    "\t\t- Otherwise, the unique number must be to the left (or at mid), so set high to `mid - 1`.\n",
    "\n",
    "After the loop ends, the low pointer will be at the index of the unique number, so return `arr[low]`."
   ]
  },
  {
   "cell_type": "markdown",
   "metadata": {},
   "source": [
    "## Implementation"
   ]
  },
  {
   "cell_type": "code",
   "execution_count": 13,
   "metadata": {},
   "outputs": [
    {
     "name": "stdout",
     "output_type": "stream",
     "text": [
      "0 ,  3 ,  6\n",
      "--> 4 ,  2 ,  6\n",
      "4 ,  5 ,  6\n",
      "--> 4 ,  4 ,  4\n",
      "4\n"
     ]
    }
   ],
   "source": [
    "def singleNonDuplicate(arr):\n",
    "    low = 0\n",
    "    high = len(arr) - 1\n",
    "\n",
    "    while low < high:\n",
    "        mid = (low + high) // 2\n",
    "        print(low, \", \", mid, \", \", high)\n",
    "        # Ensure mid is even\n",
    "        if mid % 2 == 1:\n",
    "            mid -= 1\n",
    "        # Check if the pair is not broken\n",
    "        if arr[mid] == arr[mid + 1]:\n",
    "            low = mid + 2\n",
    "        else:\n",
    "            high = mid\n",
    "        print(\"-->\", low, \", \", mid, \", \", high)\n",
    "    return arr[low]\n",
    "\n",
    "\n",
    "# Test cases\n",
    "# print(singleNonDuplicate([1, 1, 3, 5, 5]))  # Output: 3\n",
    "# print(singleNonDuplicate([1, 1, 4, 4, 15]))  # Output: 15\n",
    "print(singleNonDuplicate(arr=[1, 1, 2, 2, 4, 5, 5]))  # Output: 15"
   ]
  }
 ],
 "metadata": {
  "kernelspec": {
   "display_name": "Python 3",
   "language": "python",
   "name": "python3"
  },
  "language_info": {
   "codemirror_mode": {
    "name": "ipython",
    "version": 3
   },
   "file_extension": ".py",
   "mimetype": "text/x-python",
   "name": "python",
   "nbconvert_exporter": "python",
   "pygments_lexer": "ipython3",
   "version": "3.11.5"
  }
 },
 "nbformat": 4,
 "nbformat_minor": 2
}
