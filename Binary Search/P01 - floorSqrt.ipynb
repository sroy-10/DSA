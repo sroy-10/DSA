{
 "cells": [
  {
   "cell_type": "markdown",
   "metadata": {},
   "source": [
    "## Problem Statement\n",
    "\n",
    "You are given a positive integer ‘n’.\n",
    "\n",
    "Your task is to find and return its square root. If ‘n’ is not a perfect square, then return the floor value of sqrt(n).\n",
    "\n",
    "**Example:**\\\n",
    "**Input:** ‘n’ = 7\n",
    "\n",
    "**Output:** 2\\\n",
    "**Explanation:**\\\n",
    "The square root of the number 7 lies between 2 and 3, so the floor value is 2.\n",
    "\n",
    "**Sample Input 1:**\\\n",
    "6\\\n",
    "**Sample Output 1:**\\\n",
    "2\\\n",
    "**Explanation of Sample Input 1:**\\\n",
    "The square root of the given number 6 lies between 2 and 3, so the floor value is 2.\\\n",
    "**Sample Input 2:**\\\n",
    "100\\\n",
    "**Sample Output 2:**\\\n",
    "10\n",
    "\n",
    "**Explanation of Sample Output 2:**\\\n",
    "The square root of the given number 100 is 10.\n",
    "\n",
    "**Expected Time Complexity:**\\\n",
    "Try solving this in O(log(n)).\n",
    "\n",
    "**Constraints:**\\\n",
    "0 <= n <= 10 ^ 9\n",
    "\n",
    "**Time Limit:** 1 sec"
   ]
  },
  {
   "cell_type": "markdown",
   "metadata": {},
   "source": [
    "## Algorithm\n",
    "\n",
    "To solve this problem with an optimal time complexity of **O(log(n))**, we can use a binary search algorithm. The space complexity of this approach will be **O(1)** since we are not using any additional space that grows with the input size.\n",
    "\n",
    "**Here's the step-by-step algorithm:**\n",
    "1. If n is 0 or 1, return n directly since the square root of 0 is 0, and the square root of 1 is 1.\n",
    "2. Initialize two variables, start and end. Let start be 1 and end be n.\n",
    "3. While start is less than or equal to end, do the following:\n",
    "\t- Compute mid as the midpoint of start and end (use start + (end - start) / 2 to avoid integer overflow).\n",
    "\t- Calculate mid squared and compare it with n.\n",
    "\t- If mid squared is less than or equal to n, it could be the potential answer, so store it. Then, to find if there's a higher value whose square is still less than or equal to n, set start to mid + 1.\n",
    "\t- If mid squared is greater than n, we have gone too far, so set end to mid - 1.\n",
    "\n",
    "After the loop ends, return the stored potential answer."
   ]
  },
  {
   "cell_type": "markdown",
   "metadata": {},
   "source": [
    "## Implementation"
   ]
  },
  {
   "cell_type": "code",
   "execution_count": 6,
   "metadata": {},
   "outputs": [
    {
     "name": "stdout",
     "output_type": "stream",
     "text": [
      "1\n"
     ]
    }
   ],
   "source": [
    "def floorSqrt(n):\n",
    "    # write your code logic here .\n",
    "    start, end, mid, ans = 0, n, 0, 0\n",
    "    if n == 0 or n == 1:\n",
    "        return n\n",
    "    while start <= end:\n",
    "        mid = start + (end - start) // 2\n",
    "        # mid = (start + end) // 2 #this too can be used\n",
    "        if mid * mid == n:\n",
    "            return mid\n",
    "        if mid * mid < n:\n",
    "            start = mid + 1\n",
    "            ans = mid\n",
    "        else:\n",
    "            end = mid - 1\n",
    "    return ans\n",
    "\n",
    "\n",
    "n = int(input())\n",
    "print(floorSqrt(n))"
   ]
  },
  {
   "cell_type": "code",
   "execution_count": null,
   "metadata": {},
   "outputs": [],
   "source": []
  }
 ],
 "metadata": {
  "kernelspec": {
   "display_name": "Python 3",
   "language": "python",
   "name": "python3"
  },
  "language_info": {
   "codemirror_mode": {
    "name": "ipython",
    "version": 3
   },
   "file_extension": ".py",
   "mimetype": "text/x-python",
   "name": "python",
   "nbconvert_exporter": "python",
   "pygments_lexer": "ipython3",
   "version": "3.11.5"
  }
 },
 "nbformat": 4,
 "nbformat_minor": 2
}
