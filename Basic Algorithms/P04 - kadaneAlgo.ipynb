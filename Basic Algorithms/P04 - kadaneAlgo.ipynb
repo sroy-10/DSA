{
 "cells": [
  {
   "cell_type": "markdown",
   "metadata": {},
   "source": [
    "## Kadane's algorithm\n",
    "\n",
    "**Kadane's algorithm** is a dynamic programming algorithm used to find the maximum sum of a contiguous subsequence in an array (or the maximum sum subarray problem). The algorithm is named after Jay Kadane, who is credited with its discovery.\n",
    "\n",
    "The algorithm is simple, efficient, and only needs a single pass through the input array, making it run in **O(n)** time, where n is the number of elements in the array. The basic idea behind Kadane's algorithm is to iterate through the array while keeping track of the maximum subarray sum found so far, as well as the current sum of the subarray ending at the current position.\n",
    "\n",
    "**Here's a brief description of how Kadane's algorithm works:**\n",
    "1. Initialize two variables: max_so_far to the first element of the array, and max_ending_here to 0.\n",
    "\n",
    "1. Iterate through each element of the array, starting from the first element:\n",
    "    - Update max_ending_here by adding the current element to it.\n",
    "    - If max_ending_here becomes negative, reset it to 0. This means that the maximum subarray sum ending at this position is not worth starting here, as any sum starting from a negative value would only decrease the sum.\n",
    "    - Update max_so_far if max_ending_here is greater than max_so_far. This step ensures that the maximum sum is recorded.\n",
    "\n",
    "1. After the iteration is complete, max_so_far contains the maximum sum of any contiguous subarray within the given array."
   ]
  },
  {
   "cell_type": "markdown",
   "metadata": {},
   "source": [
    "## Scenario 1 – When `some` elements are `positive`"
   ]
  },
  {
   "cell_type": "code",
   "execution_count": 6,
   "metadata": {},
   "outputs": [
    {
     "name": "stdout",
     "output_type": "stream",
     "text": [
      "7\n"
     ]
    }
   ],
   "source": [
    "def kadanes_algorithm(nums):\n",
    "    max_so_far = nums[0]\n",
    "    max_ending_here = 0\n",
    "\n",
    "    for number in nums:\n",
    "        max_ending_here += number\n",
    "        if max_ending_here < 0:\n",
    "            max_ending_here = 0\n",
    "        elif max_so_far < max_ending_here:\n",
    "            max_so_far = max_ending_here\n",
    "\n",
    "    return max_so_far\n",
    "\n",
    "# Example usage:\n",
    "array = [-2, -3, 4, -1, -2, 1, 5, -3]\n",
    "print(kadanes_algorithm(array))  # Output will be 7, which is the sum of the subarray [4, -1, -2, 1, 5]"
   ]
  },
  {
   "cell_type": "markdown",
   "metadata": {},
   "source": [
    "## Scenario 2 – When `all` elements are `negative`"
   ]
  },
  {
   "cell_type": "code",
   "execution_count": 7,
   "metadata": {},
   "outputs": [
    {
     "name": "stdout",
     "output_type": "stream",
     "text": [
      "-2\n"
     ]
    }
   ],
   "source": [
    "def kadanes_algorithm(nums):\n",
    "    max_so_far = nums[0]\n",
    "    max_ending_here = nums[0]\n",
    "\n",
    "    for i in range(1, len(nums)):\n",
    "        number = nums[i]\n",
    "        max_ending_here = max(number, max_ending_here + number)\n",
    "        max_so_far = max(max_so_far, max_ending_here)\n",
    "\n",
    "    return max_so_far\n",
    "\n",
    "# Example usage:\n",
    "negative_array = [-8, -3, -6, -2, -5, -4]\n",
    "print(kadanes_algorithm(negative_array))  # Output will be -2, which is the maximum subarray sum"
   ]
  },
  {
   "cell_type": "markdown",
   "metadata": {},
   "source": [
    "## Scenario 3 – Subarray Elements that form the Maximum Sum"
   ]
  },
  {
   "cell_type": "code",
   "execution_count": 1,
   "metadata": {},
   "outputs": [
    {
     "name": "stdout",
     "output_type": "stream",
     "text": [
      "Maximum sum: 7\n",
      "Subarray: [4, -1, -2, 1, 5]\n"
     ]
    }
   ],
   "source": [
    "def kadanes_algorithm_with_subarray(nums):\n",
    "    if len(nums) == 0:\n",
    "        return 0, []\n",
    "\n",
    "    max_so_far = nums[0]\n",
    "    max_ending_here = nums[0]\n",
    "    start = end = 0\n",
    "    temp_start = 0\n",
    "\n",
    "    for i in range(1, len(nums)):\n",
    "        if nums[i] > max_ending_here + nums[i]:\n",
    "            max_ending_here = nums[i]\n",
    "            temp_start = i\n",
    "        else:\n",
    "            max_ending_here += nums[i]\n",
    "\n",
    "        if max_ending_here > max_so_far:\n",
    "            max_so_far = max_ending_here\n",
    "            start = temp_start\n",
    "            end = i\n",
    "\n",
    "    return max_so_far, nums[start : end + 1]\n",
    "\n",
    "\n",
    "# Example usage:\n",
    "array = [-2, -3, 4, -1, -2, 1, 5, -3]\n",
    "max_sum, subarray = kadanes_algorithm_with_subarray(array)\n",
    "print(f\"Maximum sum: {max_sum}\")\n",
    "print(f\"Subarray: {subarray}\")"
   ]
  },
  {
   "cell_type": "code",
   "execution_count": null,
   "metadata": {},
   "outputs": [],
   "source": []
  }
 ],
 "metadata": {
  "kernelspec": {
   "display_name": "Python 3",
   "language": "python",
   "name": "python3"
  },
  "language_info": {
   "codemirror_mode": {
    "name": "ipython",
    "version": 3
   },
   "file_extension": ".py",
   "mimetype": "text/x-python",
   "name": "python",
   "nbconvert_exporter": "python",
   "pygments_lexer": "ipython3",
   "version": "3.11.5"
  }
 },
 "nbformat": 4,
 "nbformat_minor": 2
}
