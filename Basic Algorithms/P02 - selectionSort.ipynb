{
 "cells": [
  {
   "cell_type": "markdown",
   "metadata": {},
   "source": [
    "## Selection Sort\n",
    "\n",
    "**Selection Sort** is another simple and intuitive sorting algorithm. It works by repeatedly selecting the smallest (or largest, depending on sorting order) element from the unsorted portion of the array and moving it to the end of the sorted portion.\n",
    "\n",
    "The algorithm can be described in the following steps:\n",
    "1. Start with the first element of the array as the initial \"sorted portion,\" even though it contains only one element at this stage.\n",
    "1. From the remaining unsorted portion of the array, find the smallest element.\n",
    "1. Swap this smallest element with the first element of the unsorted portion, effectively growing the sorted portion by one and shrinking the unsorted portion by one.\n",
    "1. Repeat steps 2 and 3, moving the starting index of the unsorted portion one element forward each time, until the entire array is sorted.\n",
    "\n",
    "The **Selection Sort** algorithm has a time complexity of **O(n^2)** for all cases (best, average, and worst), where n is the number of items in the array. This is because it must scan the unsorted portion of the list n-1 times to complete the sort, and each scan takes **O(n)** time.\n",
    "\n",
    "**Selection Sort** is not adaptive, meaning it will have the same runtime even if the input array is already sorted. It is also not stable, which means that it may change the relative order of elements with equal keys. However, like Insertion Sort, Selection Sort is in-place and does not require additional memory beyond what is needed for the original array.\n"
   ]
  },
  {
   "cell_type": "markdown",
   "metadata": {},
   "source": [
    "## Implementation"
   ]
  },
  {
   "cell_type": "code",
   "execution_count": 2,
   "metadata": {},
   "outputs": [],
   "source": [
    "def selectionSort(arr, n):\n",
    "    for i in range(n):\n",
    "        pos = i\n",
    "        for j in range(i + 1, n):\n",
    "            if arr[j] < arr[pos]:\n",
    "                pos = j\n",
    "        temp = arr[i]\n",
    "        arr[i] = arr[pos]\n",
    "        arr[pos] = temp\n",
    "    print(arr)"
   ]
  },
  {
   "cell_type": "code",
   "execution_count": 3,
   "metadata": {},
   "outputs": [
    {
     "name": "stdout",
     "output_type": "stream",
     "text": [
      "[2, 4, 6, 8, 10]\n"
     ]
    }
   ],
   "source": [
    "selectionSort(arr=[6, 2, 8, 4, 10], n=5)"
   ]
  },
  {
   "cell_type": "code",
   "execution_count": null,
   "metadata": {},
   "outputs": [],
   "source": []
  }
 ],
 "metadata": {
  "kernelspec": {
   "display_name": "Python 3",
   "language": "python",
   "name": "python3"
  },
  "language_info": {
   "codemirror_mode": {
    "name": "ipython",
    "version": 3
   },
   "file_extension": ".py",
   "mimetype": "text/x-python",
   "name": "python",
   "nbconvert_exporter": "python",
   "pygments_lexer": "ipython3",
   "version": "3.11.5"
  }
 },
 "nbformat": 4,
 "nbformat_minor": 2
}
