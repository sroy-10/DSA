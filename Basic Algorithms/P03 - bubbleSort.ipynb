{
 "cells": [
  {
   "cell_type": "markdown",
   "metadata": {},
   "source": [
    "## Bubble Sort\n",
    "\n",
    "**Bubble Sort** is a straightforward sorting algorithm that repeatedly steps through the list, compares adjacent elements, and swaps them if they are in the wrong order. The pass through the list is repeated until the list is sorted. The algorithm gets its name because smaller elements \"bubble\" to the top of the list (beginning of the array) with each iteration.\n",
    "\n",
    "**Here is how the Bubble Sort algorithm works:**\n",
    "1. Start at the beginning of the array.\n",
    "\n",
    "1. Compare the current element with the next element.\n",
    "\n",
    "1. If the current element is greater than the next element, swap them.\n",
    "\n",
    "1. Move to the next element and repeat steps 2-3 until you reach the end of the array.\n",
    "\n",
    "1. After reaching the end of the array, repeat the entire process for the remaining elements, excluding the last one with each pass, because with each full iteration, the largest element will have \"bubbled up\" to its correct position at the end of the array.\n",
    "\n",
    "1. Continue the iterations until no swaps are needed, which indicates that the array is sorted.\n",
    "\n",
    "Despite its simplicity, Bubble Sort is not efficient for large datasets due to its high time complexity relative to other sorting algorithms like quicksort, mergesort, or heapsort.\n",
    "\n",
    "**However, it has some advantages:**\n",
    "\n",
    "- Simple to understand and implement.\n",
    "- In-place sort (requires only a constant amount O(1) of additional memory space).\n",
    "- Stable (does not change the relative order of elements with equal keys)."
   ]
  },
  {
   "cell_type": "markdown",
   "metadata": {},
   "source": [
    "## Implementation"
   ]
  },
  {
   "cell_type": "code",
   "execution_count": 3,
   "metadata": {},
   "outputs": [],
   "source": [
    "def bubbleSort(arr, n):\n",
    "    # Write your code here\n",
    "    # Do not return anything. Update the given array in-place\n",
    "    for i in range(n - 1):\n",
    "        for j in range(n - 1 - i):\n",
    "            if arr[j] > arr[j + 1]:\n",
    "                arr[j], arr[j + 1] = arr[j + 1], arr[j]\n",
    "    print(arr)"
   ]
  },
  {
   "cell_type": "code",
   "execution_count": 4,
   "metadata": {},
   "outputs": [
    {
     "name": "stdout",
     "output_type": "stream",
     "text": [
      "[2, 4, 6, 8, 10]\n"
     ]
    }
   ],
   "source": [
    "bubbleSort(arr=[6, 2, 8, 4, 10], n=5)"
   ]
  },
  {
   "cell_type": "code",
   "execution_count": null,
   "metadata": {},
   "outputs": [],
   "source": []
  }
 ],
 "metadata": {
  "kernelspec": {
   "display_name": "Python 3",
   "language": "python",
   "name": "python3"
  },
  "language_info": {
   "codemirror_mode": {
    "name": "ipython",
    "version": 3
   },
   "file_extension": ".py",
   "mimetype": "text/x-python",
   "name": "python",
   "nbconvert_exporter": "python",
   "pygments_lexer": "ipython3",
   "version": "3.11.5"
  }
 },
 "nbformat": 4,
 "nbformat_minor": 2
}
