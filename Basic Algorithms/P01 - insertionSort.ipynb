{
 "cells": [
  {
   "cell_type": "markdown",
   "metadata": {},
   "source": [
    "## Insertion Sort\n",
    "\n",
    "**Insertion Sort** is a simple and intuitive sorting algorithm that builds the final sorted array (or list) one item at a time. It is much less efficient on large lists than more advanced algorithms such as quicksort, heapsort, or merge sort.\n",
    "\n",
    "**However, insertion sort provides several advantages**:\n",
    "1. Simple implementation: It is straightforward to implement and understand.\n",
    "1. Efficient for small data sets: It can perform well on small lists or arrays.\n",
    "1. Adaptive: It is efficient for data sets that are already substantially sorted; the time complexity is **O(n)** in the best case.\n",
    "1. Stable: It does not change the relative order of elements with equal keys.\n",
    "1. In-place: It only requires a constant amount **O(1)** of additional memory space.\n",
    "1. Online: It can sort a list as it receives it.\n",
    "\n",
    "**Here is how the Insertion Sort algorithm works**:\n",
    "1. Start from the second element of the list (the first element is trivially sorted).\n",
    "1. Compare this element (the current element) with the elements before it, moving from right to left.\n",
    "1. If the current element is smaller than the compared element, shift the compared element one position to the right.\n",
    "1. Repeat step 3 until you find the correct position for the current element, then insert it there.\n",
    "1. Move to the next element in the list and repeat steps 2-4 until you reach the end of the list.\n",
    "\n",
    "Insertion Sort's average and worst-case time complexity is **O(n^2)**, where n is the number of items being sorted. Despite this, for small datasets or nearly sorted data, Insertion Sort can be a practical and efficient choice."
   ]
  },
  {
   "cell_type": "markdown",
   "metadata": {},
   "source": [
    "## Implementation"
   ]
  },
  {
   "cell_type": "code",
   "execution_count": 6,
   "metadata": {},
   "outputs": [],
   "source": [
    "from typing import List\n",
    "\n",
    "\n",
    "def insertionSort(n: int, arr: List[int]) -> None:\n",
    "    for i in range(1, n):\n",
    "        j = i - 1\n",
    "        current = arr[i]\n",
    "        while j >= 0 and current < arr[j]:\n",
    "            arr[j + 1] = arr[j]\n",
    "            j -= 1\n",
    "        arr[j + 1] = current\n",
    "    print(arr)"
   ]
  },
  {
   "cell_type": "code",
   "execution_count": 5,
   "metadata": {},
   "outputs": [
    {
     "name": "stdout",
     "output_type": "stream",
     "text": [
      "[1, 2, 2, 3]\n"
     ]
    }
   ],
   "source": [
    "insertionSort(n=4, arr=[3, 1, 2, 2])"
   ]
  },
  {
   "cell_type": "code",
   "execution_count": null,
   "metadata": {},
   "outputs": [],
   "source": []
  }
 ],
 "metadata": {
  "kernelspec": {
   "display_name": "Python 3",
   "language": "python",
   "name": "python3"
  },
  "language_info": {
   "codemirror_mode": {
    "name": "ipython",
    "version": 3
   },
   "file_extension": ".py",
   "mimetype": "text/x-python",
   "name": "python",
   "nbconvert_exporter": "python",
   "pygments_lexer": "ipython3",
   "version": "3.11.5"
  }
 },
 "nbformat": 4,
 "nbformat_minor": 2
}
