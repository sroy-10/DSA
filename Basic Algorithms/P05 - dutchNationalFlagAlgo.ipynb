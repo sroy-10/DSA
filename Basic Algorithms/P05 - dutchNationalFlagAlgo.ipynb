{
 "cells": [
  {
   "cell_type": "markdown",
   "metadata": {},
   "source": [
    "## Dutch National Flag algorithm\n",
    "\n",
    "The Dutch National Flag algorithm is a programming problem that was proposed by Edsger W. Dijkstra. The problem is named after the national flag of the Netherlands, which consists of three horizontal bands of color: red, white, and blue.\n",
    "\n",
    "The goal of the Dutch National Flag algorithm is to sort an array of elements into three categories, akin to the three colours of the Dutch flag. Typically, this problem is formulated with 0s, 1s, and 2s. The task is to sort the array such that all 0s are at the beginning, all 1s are in the middle, and all 2s are at the end. The algorithm should be efficient, ideally operating in linear time (**O(n)**), and should sort the array in-place to use constant space (**O(1)**).\n",
    "\n",
    "**Here is a high-level description of how the algorithm works:**\n",
    "1. Maintain three pointers—low, mid, and high—to track the positions where the next 0, 1, or 2 should be placed, respectively.\n",
    "\n",
    "1. Initialize low and mid to the beginning of the array, and high to the end of the array.\n",
    "\n",
    "1. Iterate over the array with the mid pointer. During the iteration:\n",
    "    - If array[mid] is 0, swap it with array[low] and increment both low and mid.\n",
    "    - If array[mid] is 1, just increment mid.\n",
    "    - If array[mid] is 2, swap it with array[high] and decrement high, but do not increment mid because the element swapped from high could be 0 or 1 and needs to be processed.\n",
    "\n",
    "1. Repeat this process until the mid pointer passes the high pointer.\n",
    "\n",
    "The Dutch National Flag algorithm is often used as a subroutine in more complex algorithms, such as quicksort, where it is used to deal with duplicate elements (three-way partitioning)."
   ]
  },
  {
   "cell_type": "markdown",
   "metadata": {},
   "source": [
    "## Implementation"
   ]
  },
  {
   "cell_type": "code",
   "execution_count": 1,
   "metadata": {},
   "outputs": [
    {
     "name": "stdout",
     "output_type": "stream",
     "text": [
      "[0, 0, 1, 1, 2, 2]\n"
     ]
    }
   ],
   "source": [
    "def dutch_national_flag(arr):\n",
    "    low, mid, high = 0, 0, len(arr) - 1\n",
    "\n",
    "    while mid <= high:\n",
    "        if arr[mid] == 0:\n",
    "            arr[low], arr[mid] = arr[mid], arr[low]\n",
    "            low += 1\n",
    "            mid += 1\n",
    "        elif arr[mid] == 1:\n",
    "            mid += 1\n",
    "        else:\n",
    "            arr[mid], arr[high] = arr[high], arr[mid]\n",
    "            high -= 1\n",
    "    return arr\n",
    "\n",
    "\n",
    "# Example usage:\n",
    "arr = [2, 0, 1, 2, 1, 0]\n",
    "sorted_arr = dutch_national_flag(arr)\n",
    "print(sorted_arr)  # Output will be [0, 0, 1, 1, 2, 2]"
   ]
  },
  {
   "cell_type": "code",
   "execution_count": null,
   "metadata": {},
   "outputs": [],
   "source": []
  }
 ],
 "metadata": {
  "kernelspec": {
   "display_name": "Python 3",
   "language": "python",
   "name": "python3"
  },
  "language_info": {
   "codemirror_mode": {
    "name": "ipython",
    "version": 3
   },
   "file_extension": ".py",
   "mimetype": "text/x-python",
   "name": "python",
   "nbconvert_exporter": "python",
   "pygments_lexer": "ipython3",
   "version": "3.11.5"
  }
 },
 "nbformat": 4,
 "nbformat_minor": 2
}
