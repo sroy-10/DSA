{
 "cells": [
  {
   "cell_type": "markdown",
   "metadata": {},
   "source": [
    "## Problem Statement\n",
    "\n",
    "You are given an array/list 'ARR' of integers of length ‘N’. You are supposed to find all the elements that occur strictly more than floor(N/3) times in the given array/list.\n",
    "\n",
    "**Constraints :**\\\n",
    "1 <= T <= 100\\\n",
    "3 <= N <= 5000\\\n",
    "1 <= ARR[i] <= 10^5\n",
    "\n",
    "**Time Limit:** 1 sec\n",
    "\n",
    "**Sample Input 1 :**\\\n",
    "2\\\n",
    "7\\\n",
    "3 2 2 1 5 2 3\\\n",
    "5\\\n",
    "7 4 4 9 7\n",
    "\n",
    "**Sample Output 1:**\\\n",
    "2\\\n",
    "4 7\n",
    "\n",
    "**Explanation of Sample Input 1:**\\\n",
    "In the first test case, floor(N/3) = floor(7/3) is equal to 2, and 2 occurs 3 times which is strictly more than N/3. No other element occurs more than 2 times.\\\n",
    "In the second test case, floor(N/3) = floor(5/3) is equal to 1, and 4 and 7 both occur 2 times. No other element occurs more than once.\n",
    "\n",
    "**Sample Input 2:**\\\n",
    "2\\\n",
    "6\\\n",
    "1 2 4 4 3 4\\\n",
    "4\\\n",
    "6 6 6 7\n",
    "\n",
    "**Sample Output 2:**\\\n",
    "4\\\n",
    "6\n",
    "\n",
    "**Explanation of Sample Input 2:**\\\n",
    "In the first test case, floor(N/3) = floor(6/3) is equal to 2, and 4 occurs 3 times which is strictly more than N/3. No other element occurs more than 2 times.\\\n",
    "In the second test case, floor(N/3) = floor(4/3) is equal to 1, and 6 occurs 3 times. No other element occurs more than once."
   ]
  },
  {
   "cell_type": "markdown",
   "metadata": {},
   "source": [
    "## Implementation"
   ]
  },
  {
   "cell_type": "code",
   "execution_count": 1,
   "metadata": {},
   "outputs": [],
   "source": [
    "def majorityElementII(arr):\n",
    "    # Write your code here.\n",
    "    d = {}\n",
    "    for i in arr:\n",
    "        if d.get(i):\n",
    "            d[i] += 1\n",
    "        else:\n",
    "            d[i] = 1\n",
    "    r, coff = [], len(arr) // 3\n",
    "    for k, v in d.items():\n",
    "        if v > coff:\n",
    "            r.append(k)\n",
    "    # print(d)\n",
    "    return r"
   ]
  },
  {
   "cell_type": "code",
   "execution_count": 2,
   "metadata": {},
   "outputs": [
    {
     "name": "stdout",
     "output_type": "stream",
     "text": [
      "[2]\n",
      "[7, 4]\n"
     ]
    }
   ],
   "source": [
    "print(majorityElementII(arr=[3, 2, 2, 1, 5, 2, 3]))\n",
    "print(majorityElementII(arr=[7, 4, 4, 9, 7]))"
   ]
  },
  {
   "cell_type": "code",
   "execution_count": null,
   "metadata": {},
   "outputs": [],
   "source": []
  }
 ],
 "metadata": {
  "kernelspec": {
   "display_name": "Python 3",
   "language": "python",
   "name": "python3"
  },
  "language_info": {
   "codemirror_mode": {
    "name": "ipython",
    "version": 3
   },
   "file_extension": ".py",
   "mimetype": "text/x-python",
   "name": "python",
   "nbconvert_exporter": "python",
   "pygments_lexer": "ipython3",
   "version": "3.11.5"
  }
 },
 "nbformat": 4,
 "nbformat_minor": 2
}
