{
 "cells": [
  {
   "cell_type": "markdown",
   "metadata": {},
   "source": [
    "## Problem Statement\n",
    "\n",
    "You have been given a vector/list 'ARR' consisting of ‘N’ integers. You are also given a positive integer ‘K’.\\\n",
    "Let’s define a vector/list 'CONCAT' of size 'N * K' formed by concatenating 'ARR' ‘K’ times. For example, if 'ARR' = [0, -1, 2] and 'K' = 3, then 'CONCAT' is given by [0, -1, 2, 0, -1, 2, 0, -1, 2].\\\n",
    "Your task is to find the maximum possible sum of any non-empty subarray (contagious) of 'CONCAT'.\n",
    "\n",
    "**Constraints:**\\\n",
    "1 <= T <= 100\n",
    "1 <= N <= 10^4\n",
    "1 <= K <= 10^4    \n",
    "-10^5 <= ARR[i] <= 10^5\n",
    "\n",
    "**Time Limit:** 1sec\n",
    "\n",
    "**Sample Input 1 :**\\\n",
    "2\\\n",
    "2 3\\\n",
    "1 3\\\n",
    "3 2\\\n",
    "1 -2 1\n",
    "\n",
    "**Sample Output 1 :**\\\n",
    "12\\\n",
    "2\n",
    "\n",
    "**Sample Output 1 Explanation:**\\\n",
    "For the first test case, vector 'CONCAT' is obtained by concatenating vector [1, 3] three times.\\\n",
    "\n",
    "'CONCAT' = [1, 3, 1, 3, 1, 3]\n",
    "\n",
    "The subarray with a maximum sum of 12 is [1, 3, 1, 3, 1, 3].\n",
    "\n",
    "For the second test case, vector 'CONCAT' is obtained by concatenating vector [1, -2, 1] two times. \n",
    "\n",
    "'CONCAT' = [1, -2, 1, 1, -2, 1]\n",
    "\n",
    "The subarray with a maximum sum of 2 is [1, 1].\n",
    "\n",
    "**Sample Input 2 :**\\\n",
    "1\\\n",
    "2 3\\\n",
    "-2 1\n",
    "\n",
    "**Sample Output 2 :**\\\n",
    "1"
   ]
  },
  {
   "cell_type": "markdown",
   "metadata": {},
   "source": [
    "## Algorithm\n",
    "\n",
    "To solve this problem, we can use a variation of the **Kadane's algorithm**, which is used to find the maximum subarray sum within a one-dimensional array. However, since the array is concatenated K times, we need to modify the algorithm to consider the effects of concatenation.\n",
    "\n",
    "The following insights will help us design an efficient solution:\n",
    "1. If K is 1, the problem reduces to finding the maximum subarray sum of ARR, which can be solved using the standard Kadane's algorithm.\n",
    "\n",
    "1. If the sum of the entire array ARR is positive, then for K > 1, the maximum subarray sum can be obtained by taking the sum of all elements in ARR multiplied by K-2 and adding the maximum prefix sum and the maximum suffix sum of ARR.\n",
    "\n",
    "1. If the sum of the entire array ARR is negative or zero, concatenating the whole array multiple times will not increase the maximum subarray sum, and we can simply apply Kadane's algorithm to twice concatenated array (ARR concatenated with itself) to find the result.\n",
    "\n",
    "**Here's the step-by-step approach:**\n",
    "\n",
    "1. Apply Kadane's algorithm to find the maximum subarray sum in ARR.\n",
    "\n",
    "1. Calculate the prefix sum and suffix sum of ARR and keep track of their maximum values.\n",
    "\n",
    "1. Calculate the total sum of ARR.\n",
    "\n",
    "1. Based on the total sum of ARR:\n",
    "\t- If it is positive, the result will be the maximum of the result from step 1 and the sum of the following:\n",
    "\t\t- Maximum prefix sum + Maximum suffix sum + (K-2) * total sum of ARR\n",
    "\t- If it is negative or zero, the result will be the maximum subarray sum of ARR concatenated with itself (no need to actually concatenate, just simulate by running Kadane's algorithm twice)."
   ]
  },
  {
   "cell_type": "markdown",
   "metadata": {},
   "source": [
    "## Implementation"
   ]
  },
  {
   "cell_type": "code",
   "execution_count": 3,
   "metadata": {},
   "outputs": [],
   "source": [
    "from os import *\n",
    "from sys import *\n",
    "from collections import *\n",
    "from math import *\n",
    "\n",
    "\n",
    "def get_max(arr, n):\n",
    "    m, s = arr[0], 0\n",
    "    for i in range(n):\n",
    "        s += arr[i]\n",
    "        m = max(s, m)\n",
    "        if s < 0:\n",
    "            s = 0\n",
    "    return m\n",
    "\n",
    "\n",
    "def maxSubSumKConcat(arr, n, k):\n",
    "    if k == 1:\n",
    "        return get_max(arr, n)\n",
    "    else:\n",
    "        total = sum(arr)\n",
    "        m1 = get_max(arr, n)\n",
    "        ex = arr + arr\n",
    "        m2 = get_max(ex, len(ex))\n",
    "        if total > 0:\n",
    "            return max(m1, m2, (total * (k - 2) + m2))\n",
    "        else:\n",
    "            return max(m1, m2)"
   ]
  },
  {
   "cell_type": "code",
   "execution_count": 4,
   "metadata": {},
   "outputs": [
    {
     "name": "stdout",
     "output_type": "stream",
     "text": [
      "2\n"
     ]
    }
   ],
   "source": [
    "print(maxSubSumKConcat(arr=[1, -2, 1], n=3, k=2))"
   ]
  }
 ],
 "metadata": {
  "kernelspec": {
   "display_name": "Python 3",
   "language": "python",
   "name": "python3"
  },
  "language_info": {
   "codemirror_mode": {
    "name": "ipython",
    "version": 3
   },
   "file_extension": ".py",
   "mimetype": "text/x-python",
   "name": "python",
   "nbconvert_exporter": "python",
   "pygments_lexer": "ipython3",
   "version": "3.11.5"
  }
 },
 "nbformat": 4,
 "nbformat_minor": 2
}
