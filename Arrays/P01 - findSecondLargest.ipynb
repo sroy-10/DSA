{
 "cells": [
  {
   "cell_type": "markdown",
   "metadata": {},
   "source": [
    "## Problem statement\n",
    "You have been given an array/list 'ARR' of integers. Your task is to find the second largest element present in the 'ARR'.\n",
    "\n",
    "Note:<br/>\n",
    "a) Duplicate elements may be present.\n",
    "\n",
    "b) If no such element is present return -1.\n",
    "\n",
    "**Example:**<br/>\n",
    "Input: Given a sequence of five numbers 2, 4, 5, 6, 8.\n",
    "\n",
    "Output:  6\n",
    "\n",
    "**Explanation:**<br/>\n",
    "In the given sequence of numbers, number 8 is the largest element, followed by number 6 which is the second-largest element. Hence we return number 6 which is the second-largest element in the sequence.<br/>\n",
    "Detailed explanation ( Input/output format, Notes, Images )<br/>\n",
    "Constraints:<br/>\n",
    "1 <= T <= 100<br/>\n",
    "1 <= N <= 5000<br/>\n",
    "-10 ^ 9 <= 'SIZE' <= 10 ^ 9<br/>\n",
    "\n",
    "Where ‘T’ is the total number of test cases, ‘N’ denotes the number of elements in the array and ‘SIZE’ denotes the range of the elements in the array.<br/>\n",
    "\n",
    "**Time limit: 1 sec.**<br/>\n",
    "`Sample Input 1:`<br/>\n",
    "2<br/>\n",
    "6<br/>\n",
    "12 1 35 10 34 1<br/>\n",
    "5<br/>\n",
    "10 10 10 10 10<br/>\n",
    "`Sample Output 1:`<br/>\n",
    "34<br/>\n",
    "-1<br/>\n",
    "Explanation of sample input 1:<br/>\n",
    "`Test case 1:` In the given sequence of numbers, number 35 is the largest element, followed by number 34 which is the second-largest element. Hence we return number 34 which is the second-largest element in the sequence.<br/>\n",
    "\n",
    "`Test case 2:` In the given sequence of numbers, number 10 is the largest element. However, since all the elements are the same, the second largest element does not exist. So, we return -1.<br/>\n",
    "\n",
    "`Sample Input 2:`<br/>\n",
    "1<br/>\n",
    "6<br/>\n",
    "7 8 8 1 4 3<br/> \n",
    "\n",
    "`Sample Output 2:`<br/>\n",
    "7<br/>\n",
    "Explanation of sample input 2:<br/>\n",
    "In the given sequence of numbers, 8 exists two times and is the largest element, followed by 7 which is the second-largest element. Hence we return the number 7 as the second-largest element."
   ]
  },
  {
   "cell_type": "markdown",
   "metadata": {},
   "source": [
    "## Implementation"
   ]
  },
  {
   "cell_type": "code",
   "execution_count": 1,
   "metadata": {},
   "outputs": [],
   "source": [
    "from os import *\n",
    "from sys import *\n",
    "from collections import *\n",
    "from math import *\n",
    "\n",
    "from sys import stdin\n",
    "import sys\n",
    "\n",
    "def findSecondLargest(sequenceOfNumbers):\n",
    "    # Write your code here.\n",
    "    l= sorted(set(sequenceOfNumbers), reverse=True)\n",
    "    if len(l) == 1:\n",
    "        return -1\n",
    "    else:\n",
    "        return l[1]"
   ]
  },
  {
   "cell_type": "code",
   "execution_count": 3,
   "metadata": {},
   "outputs": [
    {
     "data": {
      "text/plain": [
       "34"
      ]
     },
     "execution_count": 3,
     "metadata": {},
     "output_type": "execute_result"
    }
   ],
   "source": [
    "findSecondLargest([12, 1, 35, 10, 34, 1])"
   ]
  }
 ],
 "metadata": {
  "kernelspec": {
   "display_name": "Python 3",
   "language": "python",
   "name": "python3"
  },
  "language_info": {
   "codemirror_mode": {
    "name": "ipython",
    "version": 3
   },
   "file_extension": ".py",
   "mimetype": "text/x-python",
   "name": "python",
   "nbconvert_exporter": "python",
   "pygments_lexer": "ipython3",
   "version": "3.11.5"
  }
 },
 "nbformat": 4,
 "nbformat_minor": 2
}
