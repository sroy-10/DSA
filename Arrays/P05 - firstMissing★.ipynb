{
 "cells": [
  {
   "cell_type": "markdown",
   "metadata": {},
   "source": [
    "## Problem Statement\n",
    "You are given an array 'ARR' of integers of length N. Your task is to find the first missing positive integer in linear time and constant space. In other words, find the lowest positive integer that does not exist in the array. The array can have negative numbers as well\n",
    "\n",
    "For example, the input [3, 4, -1, 1] should give output 2 because it is the smallest positive number that is missing in the input array\n",
    "\n",
    "**Detailed explanation ( Input/output format, Notes, Images )**\\\n",
    "**Sample Input 1 :**\\\n",
    "1\\\n",
    "5\\\n",
    "3 2 -6 1 0\\\n",
    "**Sample Output 1:**\\\n",
    "4\\\n",
    "**Explanation for Input 1:**\\\n",
    "The first positive number is 1 and it is present in the array similarly 2 and 3 are also present in the array. 4 is missing from the array. Thus, the minimum positive integer that is missing is 4\n",
    "\n",
    "**Sample Input 2 :**\\\n",
    "1\\\n",
    "5\\\n",
    "0 1 2 3 4\\\n",
    "**Sample Output 2:**\\\n",
    "5\n"
   ]
  },
  {
   "cell_type": "markdown",
   "metadata": {},
   "source": [
    "## Algorithm\n",
    "\n",
    "To solve this problem, we can use the idea that the first missing positive integer must be in the range `[1, N+1]` where `N` is the size of the given array `ARR`. This is because if all positive integers from 1 to N are present, the next missing integer would be `N+1`.\n",
    "\n",
    "Here's a step-by-step approach to solving the problem:\n",
    "1. **Segregate Positive Numbers:** Move all non-positive numbers (0 and negatives) to one side of the array. We only care about positive numbers because the first missing positive cannot be a non-positive number. This can be done in linear time without using extra space.\n",
    "\n",
    "1. **Marking Elements:** Once we have all the positive numbers in one part of the array, we can use the indices of the array itself to mark the presence of elements. For each positive number x that we encounter, we mark the element at index x-1 (if it's within the array bounds) as negative to signify that the number x is present in the array.\n",
    "\n",
    "1. **Finding the Missing Number:** After marking the elements, we iterate through the array, and the first index i which is not marked (i.e., the element at i is positive), the missing positive integer will be i+1."
   ]
  },
  {
   "cell_type": "markdown",
   "metadata": {},
   "source": [
    "## Implementation"
   ]
  },
  {
   "cell_type": "code",
   "execution_count": 2,
   "metadata": {},
   "outputs": [],
   "source": [
    "def firstMissing(arr, n):\n",
    "    # Write your function here.\n",
    "    for i in range(n):\n",
    "        while arr[i] >= 0 and arr[i] <= n and arr[i] != arr[arr[i]-1]:\n",
    "                temp = arr[i]\n",
    "                arr[i] = arr[temp-1]\n",
    "                arr[temp-1] = temp\n",
    "    \n",
    "    for i in range(n):\n",
    "        if arr[i] != i+1:\n",
    "            return i+1\n",
    "    return n+1"
   ]
  },
  {
   "cell_type": "code",
   "execution_count": 3,
   "metadata": {},
   "outputs": [
    {
     "data": {
      "text/plain": [
       "5"
      ]
     },
     "execution_count": 3,
     "metadata": {},
     "output_type": "execute_result"
    }
   ],
   "source": [
    "firstMissing(arr=[0,1,2,3,4], n=5)"
   ]
  }
 ],
 "metadata": {
  "kernelspec": {
   "display_name": "Python 3",
   "language": "python",
   "name": "python3"
  },
  "language_info": {
   "codemirror_mode": {
    "name": "ipython",
    "version": 3
   },
   "file_extension": ".py",
   "mimetype": "text/x-python",
   "name": "python",
   "nbconvert_exporter": "python",
   "pygments_lexer": "ipython3",
   "version": "3.11.5"
  }
 },
 "nbformat": 4,
 "nbformat_minor": 2
}
