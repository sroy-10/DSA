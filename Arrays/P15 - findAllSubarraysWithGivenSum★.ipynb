{
 "cells": [
  {
   "cell_type": "markdown",
   "metadata": {},
   "source": [
    "## Problem Statement\n",
    "\n",
    "You are given an integer array 'arr' of size 'N' and an integer 'K'.\n",
    "\n",
    "Your task is to find the total number of subarrays of the given array whose sum of elements is equal to k.\n",
    "A subarray is defined as a contiguous block of elements in the array.\n",
    "\n",
    "**Example:**\\\n",
    "Input: ‘N’ = 4, ‘arr’ = [3, 1, 2, 4], 'K' = 6\n",
    "\n",
    "**Output: 2**\\\n",
    "Explanation: The subarrays that sum up to '6' are: [3, 1, 2], and [2, 4].\n",
    "\n",
    "**Sample Input 1:**\\\n",
    "2\\\n",
    "4 6\\\n",
    "3 1 2 4\\\n",
    "3 3\\\n",
    "1 2 3\n",
    "\n",
    "**Sample output 1:**\\\n",
    "2\\\n",
    "2\n",
    "\n",
    "**Explanation:**\\\n",
    "**Test Case 1:**\\\n",
    "Input: ‘N’ = 4, ‘arr’ = [3, 1, 2, 4], 'K' = 6\n",
    "\n",
    "**Output: 2**\\\n",
    "Explanation: The subarrays that sum up to '6' are: [3, 1, 2], and [2, 4].\n",
    "\n",
    "**Test Case 2:**\\\n",
    "Input: ‘N’ = 3, ‘arr’ = [1, 2, 3], 'K' = 3\n",
    "\n",
    "**Output: 2**\\\n",
    "**Explanation:** The subarrays that sum up to '7' are: [1, 2], and [3].\n",
    "\n",
    "**Sample Input 2:**\\\n",
    "2\\\n",
    "3 7\\\n",
    "1 2 3\\\n",
    "4 9\\\n",
    "6 3 5 2\n",
    "\n",
    "**Sample output 2:**\\\n",
    "0\\\n",
    "1"
   ]
  },
  {
   "cell_type": "markdown",
   "metadata": {},
   "source": [
    "## Algorithm\n",
    "\n",
    "To solve this problem with optimal time and space complexity, we can use the concept of prefix sum and hashing. Specifically, we will use a hash map (also known as a dictionary in some programming languages) to store the number of times a particular cumulative sum has been encountered so far.\n",
    "\n",
    "The algorithm works as follows:\n",
    "1. Initialize a variable count to 0 to keep track of the number of subarrays with sum equal to K.\n",
    "2. Initialize a hash map sum_map with the key-value pair {0: 1} to indicate that there is one way to have a sum of 0 (which is an empty subarray).\n",
    "3. Initialize a variable current_sum to 0 to store the cumulative sum of elements from the start of the array.\n",
    "4. Iterate over each element in the array:\n",
    "\t- Add the current element to current_sum.\n",
    "\t- Check if current_sum - K is present in the hash map. If it is, it means there is a subarray ending at the current index with sum equal to K. Add the value of sum_map[current_sum - K] to count.\n",
    "\t- Update the hash map with the new current_sum. If current_sum is already in the hash map, increment its value by 1; otherwise, add it to the hash map with the value 1.\n",
    "\t- Return the value of count.\n",
    "\n",
    "**Time Complexity:** The time complexity of this algorithm is **O(N)**, where N is the size of the array, because we are iterating over the array once.\n",
    "\n",
    "**Space Complexity:** The space complexity is **O(N)** in the worst case because the hash map sum_map can grow up to size N if all cumulative sums are unique."
   ]
  },
  {
   "cell_type": "markdown",
   "metadata": {},
   "source": [
    "## Implementation"
   ]
  },
  {
   "cell_type": "code",
   "execution_count": 2,
   "metadata": {},
   "outputs": [
    {
     "data": {
      "text/plain": [
       "2"
      ]
     },
     "execution_count": 2,
     "metadata": {},
     "output_type": "execute_result"
    }
   ],
   "source": [
    "def findAllSubarraysWithGivenSum(arr, s):\n",
    "    d = {0: 1}\n",
    "    current_sum, count = 0, 0\n",
    "    for item in arr:\n",
    "        current_sum += item\n",
    "        if (current_sum - s) in d:\n",
    "            count += d[(current_sum - s)]\n",
    "        d[current_sum] = d.get(current_sum, 0) + 1\n",
    "    return count\n",
    "\n",
    "\n",
    "findAllSubarraysWithGivenSum(arr=[3, 1, 2, 4], s=6)"
   ]
  },
  {
   "cell_type": "code",
   "execution_count": null,
   "metadata": {},
   "outputs": [],
   "source": []
  }
 ],
 "metadata": {
  "kernelspec": {
   "display_name": "Python 3",
   "language": "python",
   "name": "python3"
  },
  "language_info": {
   "codemirror_mode": {
    "name": "ipython",
    "version": 3
   },
   "file_extension": ".py",
   "mimetype": "text/x-python",
   "name": "python",
   "nbconvert_exporter": "python",
   "pygments_lexer": "ipython3",
   "version": "3.11.5"
  }
 },
 "nbformat": 4,
 "nbformat_minor": 2
}
