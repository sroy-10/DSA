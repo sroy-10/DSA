{
 "cells": [
  {
   "cell_type": "markdown",
   "metadata": {},
   "source": [
    "## Problem statement:\n",
    "Given an array 'arr' with 'n' elements, the task is to rotate the array to the left by 'k' steps, where 'k' is non-negative.<br/>\n",
    "\n",
    "**Example:**<br/>\n",
    "'arr '= [1,2,3,4,5]<br/>\n",
    "'k' = 1  rotated array = [2,3,4,5,1]<br/>\n",
    "'k' = 2  rotated array = [3,4,5,1,2]<br/>\n",
    "'k' = 3  rotated array = [4,5,1,2,3] and so on.<br/>\n",
    "Detailed explanation ( Input/output format, Notes, Images )<br/>\n",
    "\n",
    "`Sample Input 1:`<br/>\n",
    "8<br/>\n",
    "7 5 2 11 2 43 1 1<br/>\n",
    "2<br/>\n",
    "`Sample Output 1:`<br/>\n",
    "2 11 2 43 1 1 7 5<br/>\n",
    "`Explanation of Sample Input 1:`<br/>\n",
    "Rotate 1 steps to the left: 5 2 11 2 43 1 1 7<br/>\n",
    "Rotate 2 steps to the left: 2 11 2 43 1 1 7 5<br/>\n",
    "\n",
    "\n",
    "`Sample Input 2:`<br/>\n",
    "4<br/>\n",
    "5 6 7 8<br/>\n",
    "3<br/>\n",
    "`Sample Output 2:`<br/>\n",
    "8 5 6 7<br/>\n",
    "`Explanation of Sample Input 2:`<br/>\n",
    "Rotate 1 steps to the left: 6 7 8 5<br/>\n",
    "Rotate 2 steps to the left: 7 8 5 6<br/>\n",
    "Rotate 2 steps to the left: 8 5 6 7<br/>\n",
    "`Expected Time Complexity:`<br/>\n",
    "O(n), where ‘n’ is the size of the array ‘arr’ and ‘k’ is the number of rotations.<br/>\n",
    "Constraints:<br/>\n",
    "1 <= 'n' <= 10^3<br/>\n",
    "1 <= 'arr'[i] <= 10^9<br/>\n",
    "1 <= 'k' < 'n'"
   ]
  },
  {
   "cell_type": "markdown",
   "metadata": {},
   "source": [
    "## Implementation"
   ]
  },
  {
   "cell_type": "code",
   "execution_count": 1,
   "metadata": {},
   "outputs": [],
   "source": [
    "def rotateArray(arr: list, k: int) -> list:\n",
    "    # Write your code here.\n",
    "    length = len(arr)\n",
    "    m = k % length\n",
    "    arr_1 = arr[0: m]\n",
    "    arr_final = arr[m:]\n",
    "    arr_final.extend(arr_1)\n",
    "    return arr_final"
   ]
  },
  {
   "cell_type": "code",
   "execution_count": 2,
   "metadata": {},
   "outputs": [
    {
     "data": {
      "text/plain": [
       "[8, 5, 6, 7]"
      ]
     },
     "execution_count": 2,
     "metadata": {},
     "output_type": "execute_result"
    }
   ],
   "source": [
    "rotateArray(arr=[5,6,7,8], k=3)"
   ]
  }
 ],
 "metadata": {
  "kernelspec": {
   "display_name": "Python 3",
   "language": "python",
   "name": "python3"
  },
  "language_info": {
   "codemirror_mode": {
    "name": "ipython",
    "version": 3
   },
   "file_extension": ".py",
   "mimetype": "text/x-python",
   "name": "python",
   "nbconvert_exporter": "python",
   "pygments_lexer": "ipython3",
   "version": "3.11.5"
  }
 },
 "nbformat": 4,
 "nbformat_minor": 2
}
