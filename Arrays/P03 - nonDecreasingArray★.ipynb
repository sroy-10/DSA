{
 "cells": [
  {
   "cell_type": "markdown",
   "metadata": {},
   "source": [
    "## Problem statement\n",
    "You have been given an integer array/list 'ARR' of size 'N'. Write a solution to check if it could become non-decreasing by modifying at most 1 element\\\n",
    "We define an array as non-decreasing, if ARR[i] <= ARR[i + 1] holds for every i (0-based) such that (0 <= i <= N - 2)\n",
    "\n",
    "**Detailed explanation ( Input/output format, Notes, Images )**\\\n",
    "Constraints :\\\n",
    "1 <= T <= 50\\\n",
    "1 <= N <= 10 ^ 4\\\n",
    "10 ^ 9 <= ARR[i] <= 10 ^ 9\n",
    "\n",
    "Where 'N' is the size of the given array/list\\\n",
    "And, ARR[i] denotes the i-th element in the array/list 'ARR'\n",
    "\n",
    "**Time Limit:** 1sec\\\n",
    "**Sample Input 1 :**\\\n",
    "2\\\n",
    "3\\\n",
    "8 4 6\\\n",
    "3\\\n",
    "8 4 2\\\n",
    "**Sample Output 1 :**\\\n",
    "true\\\n",
    "false\\\n",
    "Explanation to Sample Input 1 :\\\n",
    "For Test Case 1 we can have a possible non-decreasing array : 2 4 6\\\n",
    "Where only the element at index 0 has been modified\n",
    "\n",
    "For Test Case 2 there is no possible way to make the array non-decreasing by modifying at most 1 element\\\n",
    "**Sample Input 2 :**\\\n",
    "2\\\n",
    "6\\\n",
    "-2 7 -1 0 1 2\\\n",
    "5\\\n",
    "-10 10 0 10 3\\\n",
    "**Sample Output 2 :**\\\n",
    "true\\\n",
    "false\\\n",
    "Explanation to Sample Input 2 :\\\n",
    "For Test Case 1 we can have a possible non-decreasing array : -2 -2 -1 0 1 2\\\n",
    "Where only the element at index 1 has been modified\n",
    "\n",
    "For Test Case 2 there is no possible way to make the array non-decreasing by modifying at most 1 element"
   ]
  },
  {
   "cell_type": "markdown",
   "metadata": {},
   "source": [
    "## Algorithm\n",
    "To solve this problem efficiently, we can iterate through the array and check for the condition where a number is greater than the next one (i.e., ARR[i] > ARR[i + 1]). This is the point where the array fails to be non-decreasing. When we encounter such a scenario, we have two choices: either modify the current element (ARR[i]) or modify the next element (ARR[i + 1]). We can make a decision based on the previous element (ARR[i - 1] if it exists) to maintain the non-decreasing order with minimal change.\n",
    "\n",
    "The algorithm is as follows:<br/>\n",
    "1. Initialize a variable `count` to keep track of the number of modifications needed.\n",
    "2. Iterate through the array from the `first element` to the second to `last element`.\n",
    "3. Whenever you encounter a pair where `ARR[i] > ARR[i + 1]`, increment count.\n",
    "4. If `count` is greater than 1, return `false`, as more than one modification is required.\n",
    "5. If `count` is still 0 or 1, check the following to decide how to modify the array (if needed):\n",
    "\t- If i == 0, or `ARR[i - 1] <= ARR[i + 1]`, set `ARR[i] = ARR[i + 1]` because it's safe to modify the first element or make the current element equal to the next one when the previous element is not greater than the next one.\n",
    "\t- Else, set `ARR[i + 1] = ARR[i]` because the previous element is less than the current one, and we want to increase the next element to maintain the non-decreasing order.\n",
    "6. After the loop, if count is 0 or 1, return true, indicating that the array can become non-decreasing by modifying at most one element.\n"
   ]
  },
  {
   "cell_type": "markdown",
   "metadata": {},
   "source": [
    "## Implementation"
   ]
  },
  {
   "cell_type": "code",
   "execution_count": 2,
   "metadata": {},
   "outputs": [],
   "source": [
    "def isPossible(arr, n):  \n",
    "    count = 0  \n",
    "    for i in range(1, n):  \n",
    "        if arr[i] < arr[i-1]:  \n",
    "            count += 1  \n",
    "            if i > 1 and arr[i] < arr[i-2]:  \n",
    "                arr[i] = arr[i - 1]  # 'pretend' to increase the current element  \n",
    "            else:  \n",
    "                arr[i - 1] = arr[i]  # 'pretend' to decrease the previous element  \n",
    "        if count > 1:  \n",
    "            return False  \n",
    "    return True  "
   ]
  },
  {
   "cell_type": "code",
   "execution_count": 3,
   "metadata": {},
   "outputs": [
    {
     "data": {
      "text/plain": [
       "True"
      ]
     },
     "execution_count": 3,
     "metadata": {},
     "output_type": "execute_result"
    }
   ],
   "source": [
    "isPossible(arr=[-2, 7, -1, 0, 1, 2], n=6)"
   ]
  }
 ],
 "metadata": {
  "kernelspec": {
   "display_name": "Python 3",
   "language": "python",
   "name": "python3"
  },
  "language_info": {
   "codemirror_mode": {
    "name": "ipython",
    "version": 3
   },
   "file_extension": ".py",
   "mimetype": "text/x-python",
   "name": "python",
   "nbconvert_exporter": "python",
   "pygments_lexer": "ipython3",
   "version": "3.11.5"
  }
 },
 "nbformat": 4,
 "nbformat_minor": 2
}
