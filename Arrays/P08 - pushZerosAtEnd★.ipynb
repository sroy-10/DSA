{
 "cells": [
  {
   "cell_type": "markdown",
   "metadata": {},
   "source": [
    "## Problem Statement\n",
    "\n",
    "Given an unsorted array of integers, you have to move the array elements in a way such that all the zeroes are transferred to the end, and all the non-zero elements are moved to the front. The non-zero elements must be ordered in their order of appearance.\n",
    "\n",
    "**For example**, if the input array is: [0, 1, -2, 3, 4, 0, 5, -27, 9, 0], then the output array must be:\\\n",
    "[1, -2, 3, 4, 5, -27, 9, 0, 0, 0].\n",
    "\n",
    "**Expected Complexity:** Try doing it in O(n) time complexity and O(1) space complexity. Here, ‘n’ is the size of the array.\n",
    "\n",
    "**Sample Input 1:**\\\n",
    "2\\\n",
    "7\\\n",
    "2 0 4 1 3 0 28\\\n",
    "5\\\n",
    "0 0 0 0 1\n",
    "\n",
    "**Sample Output 1:**\\\n",
    "2 4 1 3 28 0 0\\\n",
    "1 0 0 0 0\n",
    "\n",
    "**The explanation for Sample Output 1 :**\\\n",
    "In the first testcase, All the zeros are moved towards the end of the array, and the non-zero elements are pushed towards the left, maintaining their order with respect to the original array.\n",
    "\n",
    "In the second testcase, All zero are moved towards the end, hence the only non-zero element i.e. 1 is in the starting of the array \n",
    "\n",
    "**Sample Input 2:**\\\n",
    "2\\\n",
    "5\\\n",
    "0 3 0 2 0\\\n",
    "4\\\n",
    "0 0 0 0\n",
    "\n",
    "**Sample Output 2:**\\\n",
    "3 2 0 0 0\\\n",
    "0 0 0 0"
   ]
  },
  {
   "cell_type": "markdown",
   "metadata": {},
   "source": [
    "## Algorithm\n",
    "\n",
    "To solve this problem with **O(n)** time complexity and **O(1)** space complexity, you can use the two-pointer approach.\n",
    "\n",
    "The idea is to maintain **two pointers**: **one** to iterate over the array and **another** to keep track of the position where the next non-zero element should be placed. \n",
    "\n",
    "**You can follow these steps:**\n",
    "\n",
    "1. Initialize a pointer nonZeroIndex to 0. This will track the index at which the next non-zero element should be placed.\n",
    "\n",
    "1. Iterate over the array with another pointer i. For each element:\n",
    "    - If the current element is non-zero, swap it with the element at nonZeroIndex, and then increment nonZeroIndex.\n",
    "\n",
    "1. The swapping can be done in-place to ensure that the space complexity remains O(1).\n",
    "\n",
    "Here's the **pseudocode** that implements the above algorithm:\n",
    "\n",
    "```python\n",
    "def push_zeros_to_end(arr):\n",
    "    nonZeroIndex = 0\n",
    "    \n",
    "    for i in range(len(arr)):\n",
    "        if arr[i] != 0:\n",
    "            # Swap arr[i] with the element at nonZeroIndex\n",
    "            arr[nonZeroIndex], arr[i] = arr[i], arr[nonZeroIndex]\n",
    "            # Increment nonZeroIndex\n",
    "            nonZeroIndex += 1\n",
    "    \n",
    "    return arr\n",
    "\n",
    "# Sample Input 1\n",
    "arrays = [[2, 0, 4, 1, 3, 0, 28], [0, 0, 0, 0, 1]]\n",
    "for array in arrays:\n",
    "    print(push_zeros_to_end(array))\n",
    "\n",
    "# Sample Input 2\n",
    "arrays = [[0, 3, 0, 2, 0], [0, 0, 0, 0]]\n",
    "for array in arrays:\n",
    "    print(push_zeros_to_end(array))\n",
    "```\n",
    "\n",
    "The swapping ensures that the relative order of non-zero elements is maintained since non-zero elements are only ever swapped with zero elements that came before them in the array. The zero elements are effectively \"bubbled\" to the end of the array, while the non-zero elements are collected from the start.\n",
    "\n",
    "This algorithm has a time complexity of **O(n)** because it makes a single pass over the array, and each element is considered once. The space complexity is **O(1)**because it uses a fixed amount of extra space (the nonZeroIndex pointer) regardless of the size of the input array.\n"
   ]
  },
  {
   "cell_type": "markdown",
   "metadata": {},
   "source": [
    "## Implementation"
   ]
  },
  {
   "cell_type": "code",
   "execution_count": 1,
   "metadata": {},
   "outputs": [],
   "source": [
    "def pushZerosAtEnd(arr):\n",
    "    # write your code here\n",
    "    non_zero_pos = 0\n",
    "    for i in range(len(arr)):\n",
    "        if arr[i] != 0:\n",
    "            arr[i], arr[non_zero_pos] = arr[non_zero_pos], arr[i]\n",
    "            non_zero_pos += 1\n",
    "    return arr"
   ]
  },
  {
   "cell_type": "code",
   "execution_count": 2,
   "metadata": {},
   "outputs": [
    {
     "name": "stdout",
     "output_type": "stream",
     "text": [
      "[3, 2, 0, 0, 0]\n"
     ]
    }
   ],
   "source": [
    "print(pushZerosAtEnd(arr=[0, 3, 0, 2, 0]))"
   ]
  }
 ],
 "metadata": {
  "kernelspec": {
   "display_name": "Python 3",
   "language": "python",
   "name": "python3"
  },
  "language_info": {
   "codemirror_mode": {
    "name": "ipython",
    "version": 3
   },
   "file_extension": ".py",
   "mimetype": "text/x-python",
   "name": "python",
   "nbconvert_exporter": "python",
   "pygments_lexer": "ipython3",
   "version": "3.11.5"
  }
 },
 "nbformat": 4,
 "nbformat_minor": 2
}
