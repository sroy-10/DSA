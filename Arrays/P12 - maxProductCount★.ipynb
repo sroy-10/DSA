{
 "cells": [
  {
   "cell_type": "markdown",
   "metadata": {},
   "source": [
    "## Problem Statement\n",
    "\n",
    "You are given an array 'ARR' of 'N' distinct integers.\\\n",
    "Your task is to find the product 'P' with the highest count('C') of quadruples which follow p * q = r * s where p, q, r, and s are elements of the array with different indexes.\n",
    "\n",
    "**Note:**\\\n",
    "1. Quadruple p*q = r*s is the same as r*s = p*q.\n",
    "\n",
    "2. If 2 or more products have the same count of quadruples, print the lowest value of the product i.e if (P1, P2) are the 2 products with the same count of such quadruples(C1 = C2) then 'P' = min(P1, P2).\n",
    "\n",
    "3. If no such quadruple exists('C' = 0), return 0.\n",
    "\n",
    "**Example:**\\\n",
    "If the given array is [3, 4, 6, 2, 1], then the answer would be 6 1. Because there are two products 'P' i.e 6 and 12 which have the highest and same count 'C' of quadruples, i.e 'C' = 1. Therefore the lowest value of the product 'P' is the answer i.e 6.\n",
    "\n",
    "**Constraints:**\\\n",
    "1 <= T <= 100\\\n",
    "4 <= N <= 10^2  \\\n",
    "1 <= ARR[i] <= 10^9\\\n",
    "Where 'ARR[i]' denotes the element at index 'i' in the array 'ARR'.\n",
    "\n",
    "**Time Limit:** 1 sec\n",
    "\n",
    "**Sample Input 1:**\\\n",
    "2\\\n",
    "6\\\n",
    "2 6 3 4 1 12 \\\n",
    "6\\\n",
    "4 1 7 2 6 5\n",
    "\n",
    "**Sample Output 1:**\\\n",
    "12 3\\\n",
    "0\n",
    "\n",
    "**Explanation for Sample 1:**\\\n",
    "In test case 1, there are a total of 3 quadruples for product 12 in the given array as given below:\\\n",
    "2 6 and 3 4, (p = 2, q = 6, r = 3 and s = 4). \\\n",
    "2 6 and 1 12, (p = 2, q = 6, r = 1 and s = 12). \\\n",
    "3 4 and 1 12, (p = 3, q = 4, r = 1 and s = 12).\n",
    "Thus, product('P') = 12, Count('C') = 3. \\\n",
    "No other value has 3 or more Quadruples.\n",
    "\n",
    "In test case 2, every pair of elements forms a different value on multiplying, and thus no Quadruple is formed by the given set of elements of the array. Hence 0 Quadruples formed. \\\n",
    "\n",
    "**Sample Input 2:**\\\n",
    "1\\\n",
    "8\\\n",
    "7 2 10 1 8 3 9 4\\\n",
    "5\\\n",
    "4 2 1 8 2\n",
    "\n",
    "**Sample Output 2:**\\\n",
    "8 1\\\n",
    "8 3\n",
    "\n",
    "**Explanation for Sample Output 2:**\\\n",
    "In test case 1, there is only one quadruple in the given array i.e (p = 2, q = 4, r = 8 and s = 1). Thus, Product('P') = 8 and Count('C') = 1. No other Quadruple is possible.\n",
    "\n",
    "In test case 2, there are a total of 3 quadruples for product 8 in the given array as given below:\n",
    "\n",
    "1 8 and 2i 4, (p = 1, q = 8, r = 2i and s = 4).\\\n",
    "1 8 and 2ii 4, (p = 1, q = 8, r = 2ii and s = 4).\\\n",
    "2i 4 and 2ii 4, (p = 2i, q = 4, r = 2ii and s = 4).\n",
    "\n",
    "Here, 2i and 2ii denote the two different occurrences of 2 in the array.\n",
    "\n",
    "Thus, Product('P') = 8, Count('C') = 3. No other value has 3 or more Quadruples."
   ]
  },
  {
   "cell_type": "markdown",
   "metadata": {},
   "source": [
    "## Algorithm\n",
    "\n",
    "To solve this problem efficiently, we can use hashing to store the products of all pairs and their frequencies. Here's a step-by-step solution:\n",
    "1. Create a hash map (in Python, a dictionary) to store the product of any two elements as keys and their count as values.\n",
    "2. Iterate through the array using two nested loops to generate all possible pairs of elements (without repeating pairs, and not using the same element twice).\n",
    "3. For each pair, calculate the product and increment its count in the hash map.\n",
    "4. Keep track of the product with the highest count and the lowest product value in case of a tie in counts.\n",
    "5. After checking all pairs, return the product with the highest count of quadruples or 0 if no quadruples were found.\n",
    "\n",
    "This solution has a time complexity of **O(N2)**, where N is the length of the array. This is because we are iterating through all pairs in the array. The space complexity is **O(N2)** in the worst case if all possible products are different.\n",
    "\n",
    "Keep in mind that the count of quadruples is not the same as the count of pairs. Since a quadruple consists of two different pairs that make the same product, the formula to calculate the count of quadruples from pairs is count * (count - 1) / 2, which accounts for the number of ways to choose two pairs out of the available pairs with the same product. This adjustment is applied before returning the result.\n",
    "\n",
    "Imagine you have count pairs, all of which have the same product. To form a quadruple, you need to choose two distinct pairs from these count pairs. The number of ways to choose two items from a set of count items is given by the combination formula which is count choose 2 or more formally:\n",
    "\n",
    "`C(count, 2) = count! / (2! * (count - 2)!)`\n",
    "\n",
    "This simplifies to: `C(count, 2) = count * (count - 1) / 2`"
   ]
  },
  {
   "cell_type": "markdown",
   "metadata": {},
   "source": [
    "## Implementation"
   ]
  },
  {
   "cell_type": "code",
   "execution_count": 1,
   "metadata": {},
   "outputs": [],
   "source": [
    "from os import *\n",
    "from sys import *\n",
    "from collections import *\n",
    "from math import *\n",
    "\n",
    "\n",
    "def maxProductCount(arr, n):\n",
    "    # If there are less than 4 elements, no quadruple can be formed\n",
    "    if n < 4:\n",
    "        return [0, 0]\n",
    "\n",
    "    # Dictionary to store the frequency of each product\n",
    "    d = {}\n",
    "\n",
    "    # Calculate all possible products of pairs (i, j)\n",
    "    for i in range(n - 1):\n",
    "        for j in range(i + 1, n):\n",
    "            p = arr[i] * arr[j]\n",
    "            d[p] = d.get(p, 0) + 1\n",
    "\n",
    "    # Find the product with the maximum number of quadruples\n",
    "    max_count = 0\n",
    "    min_product = float(\"inf\")\n",
    "\n",
    "    for product, count in d.items():\n",
    "        # The number of unique quadruples for this product is count * (count - 1) / 2\n",
    "        quadruples = count * (count - 1) // 2\n",
    "        if quadruples > max_count:\n",
    "            max_count = quadruples\n",
    "            min_product = product\n",
    "        elif quadruples == max_count and product < min_product:\n",
    "            min_product = product\n",
    "\n",
    "    # If no quadruples are found, return [0, 0]\n",
    "    if max_count == 0:\n",
    "        return [0, 0]\n",
    "\n",
    "    # Return the minimum product and the maximum count of quadruples\n",
    "    return [min_product, max_count]"
   ]
  },
  {
   "cell_type": "code",
   "execution_count": 2,
   "metadata": {},
   "outputs": [
    {
     "name": "stdout",
     "output_type": "stream",
     "text": [
      "[12, 3]\n"
     ]
    }
   ],
   "source": [
    "print(maxProductCount(arr=[2, 6, 3, 4, 1, 12], n=6))"
   ]
  },
  {
   "cell_type": "code",
   "execution_count": null,
   "metadata": {},
   "outputs": [],
   "source": []
  }
 ],
 "metadata": {
  "kernelspec": {
   "display_name": "Python 3",
   "language": "python",
   "name": "python3"
  },
  "language_info": {
   "codemirror_mode": {
    "name": "ipython",
    "version": 3
   },
   "file_extension": ".py",
   "mimetype": "text/x-python",
   "name": "python",
   "nbconvert_exporter": "python",
   "pygments_lexer": "ipython3",
   "version": "3.11.5"
  }
 },
 "nbformat": 4,
 "nbformat_minor": 2
}
