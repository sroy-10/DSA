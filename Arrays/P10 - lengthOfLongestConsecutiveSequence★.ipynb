{
 "cells": [
  {
   "cell_type": "markdown",
   "metadata": {},
   "source": [
    "## Problem Statement\n",
    "You are given an unsorted array/list 'ARR' of 'N' integers. Your task is to return the length of the longest consecutive sequence.\n",
    "\n",
    "The consecutive sequence is in the form ['NUM', 'NUM' + 1, 'NUM' + 2, ..., 'NUM' + L] where 'NUM' is the starting integer of the sequence and 'L' + 1 is the length of the sequence.\n",
    "\n",
    "**Note:** If there are any duplicates in the given array we will count only one of them in the consecutive sequence.\n",
    "\n",
    "**For example-**\n",
    "For the given 'ARR' [9,5,4,9,10,10,6].\n",
    "\n",
    "Output = 3\n",
    "\n",
    "The longest consecutive sequence is [4,5,6].\n",
    "\n",
    "**Follow Up:**\\\n",
    "Can you solve this in O(N) time and O(N) space complexity?\n",
    "\n",
    "**Constraints :**\\\n",
    "1 <= T <= 10\\\n",
    "1 <= N <= 10^5\\\n",
    "-10^9 <= ARR[i] <= 10^9\n",
    "\n",
    "**Time Limit:** 1 sec\n",
    "\n",
    "**Sample Input 1 :**\\\n",
    "1 \\\n",
    "5\\\n",
    "33 20 34 30 35\n",
    "\n",
    "**Sample Output 1 :**\\\n",
    "3\n",
    "\n",
    "**Explanation to Sample Input 1 :**\\\n",
    "The longest consecutive sequence is [33, 34, 35].\n",
    "\n",
    "**Sample Input 2 :**\\\n",
    "1\\\n",
    "7\\\n",
    "1 9 3 10 4 20 2    \n",
    "\n",
    "**Sample Output 2 :**\\\n",
    "4\n",
    "\n",
    "**Explanation to Sample Input 2 :**\\\n",
    "The consecutive sequence is in the form ['NUM', 'NUM' + 1, 'NUM' + 2,...,'NUM' + 'L']. So in the given array, the longest consecutive sequence is [1,2,3,4] where 'NUM' = 1 and 'L' = 3. And the length of the sequence will be 'L' + 1 = 4."
   ]
  },
  {
   "cell_type": "markdown",
   "metadata": {},
   "source": [
    "## Algorithm\n",
    "\n",
    "To solve this problem with **O(N)** time complexity and **O(N)** space complexity, you can use a hash set to keep track of all the unique elements in the array. \n",
    "\n",
    "**Here are the steps to solve the problem:**\n",
    "\n",
    "1. Initialize a hash set and add all the unique elements from the array into it.\n",
    "\n",
    "1. Iterate over each element in the array and for each element, check if it is the start of a sequence by looking for the element-1 in the hash set. If element-1 is not present, it means the current element could be the start of a sequence.\n",
    "\n",
    "1. If the current element is the start of a sequence, then keep checking for the next consecutive elements in the hash set (element+1, element+2, etc.) and increment a counter for each consecutive element found.\n",
    "\n",
    "1. Keep track of the maximum length of consecutive elements found in step 3.\n",
    "\n",
    "1. Return the maximum length after iterating through all elements of the array.\n",
    "\n",
    "The time complexity of this function is **O(N)** because every element is inserted into the hash set once, and each element is part of exactly one sequence. The while loop in the worst case will run N times for all elements, but that's only when we have one long sequence, and in that case, we will not enter the while loop for any other element.\n",
    "\n",
    "The space complexity is also **O(N)** to store the unique elements of the array in the hash set."
   ]
  },
  {
   "cell_type": "markdown",
   "metadata": {},
   "source": [
    "## Implementation"
   ]
  },
  {
   "cell_type": "code",
   "execution_count": 1,
   "metadata": {},
   "outputs": [],
   "source": [
    "def lengthOfLongestConsecutiveSequence(arr, n):\n",
    "    # Write your code here.\n",
    "    d = dict.fromkeys(arr)\n",
    "    length = 0\n",
    "    for i in range(n):\n",
    "        if arr[i] - 1 not in d: # ← important condition\n",
    "            cnt, num = 0, arr[i]\n",
    "            while num in d:\n",
    "                cnt += 1\n",
    "                num += 1\n",
    "\n",
    "            length = max(cnt, length)\n",
    "    return length"
   ]
  },
  {
   "cell_type": "code",
   "execution_count": 2,
   "metadata": {},
   "outputs": [
    {
     "name": "stdout",
     "output_type": "stream",
     "text": [
      "3\n"
     ]
    }
   ],
   "source": [
    "print(lengthOfLongestConsecutiveSequence(arr=[33, 20, 34, 30, 35], n=5))"
   ]
  },
  {
   "cell_type": "code",
   "execution_count": null,
   "metadata": {},
   "outputs": [],
   "source": []
  }
 ],
 "metadata": {
  "kernelspec": {
   "display_name": "Python 3",
   "language": "python",
   "name": "python3"
  },
  "language_info": {
   "codemirror_mode": {
    "name": "ipython",
    "version": 3
   },
   "file_extension": ".py",
   "mimetype": "text/x-python",
   "name": "python",
   "nbconvert_exporter": "python",
   "pygments_lexer": "ipython3",
   "version": "3.11.5"
  }
 },
 "nbformat": 4,
 "nbformat_minor": 2
}
