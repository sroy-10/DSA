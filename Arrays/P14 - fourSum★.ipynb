{
 "cells": [
  {
   "cell_type": "markdown",
   "metadata": {},
   "source": [
    "## Problem Statement\n",
    "\n",
    "You are given an array/list 'ARR' of ‘N’ integers and an integer value ‘TARGET’. You need to check whether there exist four numbers (ARR[i], ARR[j], ARR[k], ARR[l]) such that (0 <= i < j < k < l < N) and ARR[i] + ARR[j] + ARR[k] + ARR[l] = 'TARGET'.\n",
    "\n",
    "**Note:**\n",
    "1. All four numbers should exist at different indices in the given array.\n",
    "2. The answer is case-sensitive.\n",
    "\n",
    "**Constraints:**\\\n",
    "1 <= T <= 10^2\\\n",
    "4 <= N <= 2*10^2   \\\n",
    "-10^9 <= ARR[i] <= 10^9\\\n",
    "-10^9 <= TARGET<= 10^9 \n",
    "\n",
    "**Time Limit:** 1 sec\n",
    "\n",
    "**Follow Up:**\\\n",
    "Can you try solving the problem with less than **O(N^2 * log(N))** time complexity?\n",
    "\n",
    "**Sample Input 1:**\\\n",
    "2\\\n",
    "5 9\\\n",
    "1 3 3 10 2\\\n",
    "6 20\\\n",
    "2 4 6 3 1 1\n",
    "\n",
    "**Sample Output 1:**\\\n",
    "Yes\\\n",
    "No\n",
    "\n",
    "**Explanation For Sample Input 1:**\n",
    "\n",
    "**Test case 1:**\\\n",
    "The elements at indices (0, 1, 2, 4) gives sum 9 i.e, ARR[0] + ARR[1] + ARR[2] + ARR[4] = 9. Hence the answer is Yes.\n",
    "\n",
    "**Test case 2:**\\\n",
    "None of the combinations of 4 numbers gives 20 as 'TARGET'. Hence the answer is No.  \n",
    "\n",
    "**Sample Input 2:**\\\n",
    "2\\\n",
    "5 15\\\n",
    "0 10 1 2 2\\\n",
    "6 20\\\n",
    "-2 12 -1 1 20 1\n",
    "\n",
    "**Sample Output 2:**\\\n",
    "Yes\\\n",
    "Yes"
   ]
  },
  {
   "cell_type": "markdown",
   "metadata": {},
   "source": [
    "## Algorithm\n",
    "\n",
    "To solve this problem within the given constraints and aiming for a time complexity better than **O(N2 * log(N))**, we need to utilize a hashing technique combined with a two-pointer approach.\n",
    "\n",
    "We can solve this problem with a time complexity close to **O(N2)** using the following steps:\n",
    "\n",
    "1. Sort the array to use the two-pointer technique effectively.\n",
    "2. Create two nested loops to pick the first two elements (ARR[i] and ARR[j]) and to form a pair.\n",
    "3. Use a two-pointer approach to find the remaining two elements (ARR[k] and ARR[l]) such that their sum with ARR[i] and ARR[j] equals the TARGET.\n",
    "4. To avoid duplicates and unnecessary checks, skip repeating elements by incrementing the pointers appropriately.\n",
    "5. If at any point the sum of the four elements is equal to the TARGET, return \"Yes\".\n",
    "\n",
    "If no such quadruple is found, return \"No\"."
   ]
  },
  {
   "cell_type": "markdown",
   "metadata": {},
   "source": [
    "## Implementation"
   ]
  },
  {
   "cell_type": "markdown",
   "metadata": {},
   "source": [
    "### Time limit exceeded version"
   ]
  },
  {
   "cell_type": "code",
   "execution_count": 4,
   "metadata": {},
   "outputs": [
    {
     "name": "stdout",
     "output_type": "stream",
     "text": [
      "Yes\n"
     ]
    }
   ],
   "source": [
    "def fourSum(arr, target):\n",
    "    # Write your code here\n",
    "    arr = sorted(arr)\n",
    "    n = len(arr)\n",
    "\n",
    "    for i in range(n - 3):\n",
    "        if i > 0 and arr[i] == arr[i - 1]:\n",
    "            continue\n",
    "\n",
    "        for j in range(i + 1, n - 2):\n",
    "            if j > i + 1 and arr[j] == arr[j - 1]:\n",
    "                continue\n",
    "            k = j + 1\n",
    "            l = n - 1\n",
    "            while k < l:\n",
    "                current_sum = arr[i] + arr[j] + arr[k] + arr[l]\n",
    "                if current_sum == target:\n",
    "                    return \"Yes\"\n",
    "                elif current_sum < target:\n",
    "                    k += 1\n",
    "                    while k < l and k < n and arr[k] == arr[k - 1]:\n",
    "                        k += 1\n",
    "                else:\n",
    "                    l -= 1\n",
    "                    while k < l and l > 0 and arr[l] == arr[l + 1]:\n",
    "                        l -= 1\n",
    "    return \"No\"\n",
    "\n",
    "\n",
    "print(fourSum(arr=[1, 3, 3, 10, 2], target=9))"
   ]
  },
  {
   "cell_type": "markdown",
   "metadata": {},
   "source": [
    "### Optimized Version\n",
    "\n",
    "The Time Limit Exceeded (TLE) error occurs when your solution takes longer than the maximum allowed time to execute. This can happen if there are inefficient parts of your code or if the algorithm's time complexity is too high for the given input size.\n",
    "\n",
    "Looking at your code, the algorithm has a time complexity of **O(n^3)** in the worst case, which is because you are using three nested loops (two explicit for-loops and one while-loop). This might be too slow if the array size n is close to the upper limit of the given constraints (4 <= N <= 2*10^2).\n",
    "\n",
    "To optimize the solution, we need to ensure that we are not doing any unnecessary work. One thing to notice is that the while-loop contains inner while-loops to skip over duplicate values for `k` and `l`. These inner loops can potentially cause many iterations, especially if there are many duplicate values in the sorted array.\n",
    "\n",
    "One way to optimize this is to break out of the loop early if it's impossible to reach the target with the current set of numbers. For example, if the smallest possible sum with the current i and `j` already exceeds the target, you can break out of the `j` loop early. Similarly, if the largest possible sum with the current i and `j` is less than the target, you can also break out of the `j` loop early.\n",
    "\n",
    "Here's an updated version of your function with these optimizations:"
   ]
  },
  {
   "cell_type": "code",
   "execution_count": 8,
   "metadata": {},
   "outputs": [
    {
     "name": "stdout",
     "output_type": "stream",
     "text": [
      "Yes\n"
     ]
    }
   ],
   "source": [
    "def fourSum(arr, target):\n",
    "    arr.sort()\n",
    "    n = len(arr)\n",
    "\n",
    "    for i in range(n - 3):\n",
    "        if i > 0 and arr[i] == arr[i - 1]:\n",
    "            continue\n",
    "\n",
    "        # No possible solution\n",
    "        if arr[i] + arr[i + 1] + arr[i + 2] + arr[i + 3] > target:\n",
    "            break\n",
    "\n",
    "        # i is too small\n",
    "        if arr[i] + arr[n - 3] + arr[n - 2] + arr[n - 1] < target:\n",
    "            continue\n",
    "\n",
    "        for j in range(i + 1, n - 2):\n",
    "            if j > i + 1 and arr[j] == arr[j - 1]:\n",
    "                continue\n",
    "\n",
    "            # No possible solution\n",
    "            if arr[i] + arr[j] + arr[j + 1] + arr[j + 2] > target:\n",
    "                break\n",
    "\n",
    "            # j is too small\n",
    "            if arr[i] + arr[j] + arr[n - 2] + arr[n - 1] < target:\n",
    "                continue\n",
    "\n",
    "            k = j + 1\n",
    "            l = n - 1\n",
    "            while k < l:\n",
    "                current_sum = arr[i] + arr[j] + arr[k] + arr[l]\n",
    "                if current_sum == target:\n",
    "                    return \"Yes\"\n",
    "                elif current_sum < target:\n",
    "                    k += 1\n",
    "                else:\n",
    "                    l -= 1\n",
    "\n",
    "    return \"No\"\n",
    "\n",
    "print(fourSum(arr=[1, 3, 3, 10, 2], target=9))"
   ]
  },
  {
   "cell_type": "code",
   "execution_count": null,
   "metadata": {},
   "outputs": [],
   "source": []
  }
 ],
 "metadata": {
  "kernelspec": {
   "display_name": "Python 3",
   "language": "python",
   "name": "python3"
  },
  "language_info": {
   "codemirror_mode": {
    "name": "ipython",
    "version": 3
   },
   "file_extension": ".py",
   "mimetype": "text/x-python",
   "name": "python",
   "nbconvert_exporter": "python",
   "pygments_lexer": "ipython3",
   "version": "3.11.5"
  }
 },
 "nbformat": 4,
 "nbformat_minor": 2
}
