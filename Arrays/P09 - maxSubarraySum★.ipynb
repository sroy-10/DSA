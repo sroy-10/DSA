{
 "cells": [
  {
   "cell_type": "markdown",
   "metadata": {},
   "source": [
    "## Problem Statement\n",
    "\n",
    "You have been given a circular array/list ‘ARR’ containing ‘N’ integers. You have to find out the maximum possible sum of a non-empty subarray of ‘ARR’.\n",
    "\n",
    "A circular array is an array/list in which the end of the array connects to the beginning of the array.\n",
    "\n",
    "A subarray may only include each element of the fixed buffer of ‘ARR’ at most once. (Formally, for a subarray ‘ARR[i]’, ‘ARR[i+1]’, ..., ‘ARR[j]’, there does not exist ‘i’ <= ‘k1’, ‘k2’ <= ‘j’ with ‘k1’ % ‘N’ = k2 % ‘N’.)\n",
    "\n",
    "**For Example:**\n",
    "The ‘ARR’ = [1, 2, -3, -4, 5], the subarray [5, 1, 2] has the maximum possible sum which is 8. This is possible as 5 is connected to 1 because ‘ARR’ is a circular array.\n",
    "\n",
    "**Constraints:**\\\n",
    "1 <= T <= 100\\\n",
    "1 <= N <= 10^5\\\n",
    "-10^5 <= ARR[i] <= 10^5\n",
    "\n",
    "**Time Limit:** 1 sec \n",
    "\n",
    "**Sample Input 1:**\\\n",
    "2\\\n",
    "3\\\n",
    "-2 -3 -1\\\n",
    "4\\\n",
    "1 2 3 4\n",
    "\n",
    "**Sample Output 1:**\\\n",
    "-1\\\n",
    "10\n",
    "\n",
    "**Explanation Of Sample Input 1:**\\\n",
    "\n",
    "**For the first test case:**\\\n",
    "The sub-array [-1] in the given ‘ARR’ has the maximum sum which is -1.\n",
    "\n",
    "**For the second test case:**\\\n",
    "The sub-array [1, 2, 3, 4] in the given ‘ARR’ has the maximum sum which is 10.\n",
    "\n",
    "**Sample Input 2:**\\\n",
    "2\\\n",
    "4\\\n",
    "3 1 -2 9\\\n",
    "1\\\n",
    "10\n",
    "\n",
    "**Sample Output 2:**\\\n",
    "13\\\n",
    "10\n",
    "\n",
    "**Explanation Of Sample Input 2:**\n",
    "\n",
    "**For the first test case:**\\\n",
    "The sub-array [9, 3, 1]  in the given ‘ARR’ has the maximum sum which is 13. Since ‘ARR’ is a circular array/list,  9 is connected to 3.\n",
    "\n",
    "**For the second test case:**\\\n",
    "The sub-array [10] in the given  ‘ARR’ has the maximum sum which is 10. \n"
   ]
  },
  {
   "cell_type": "markdown",
   "metadata": {},
   "source": [
    "## Algorithm\n",
    "\n",
    "To solve this problem, you can employ an adaptation of Kadane's algorithm, which is typically used to find the maximum subarray sum in a non-circular array. However, because the array in this problem is circular, you need to consider two cases:\n",
    "\n",
    "1. The maximum subarray sum resides in a non-circular part of the array (handled by the standard Kadane's algorithm).\n",
    "\n",
    "1. The maximum subarray sum includes elements from both the end and the beginning of the array.\n",
    "\n",
    "**Here's a step-by-step approach:**\n",
    "\n",
    "1. Use Kadane's algorithm to find the maximum subarray sum in the non-circular part of the array. Let's call this max_normal.\n",
    "\n",
    "1. To handle the second case, find the total sum of the array and then invert the sign of each element. Apply Kadane's algorithm again to find the maximum subarray sum of this inverted array. This will effectively find the subarray with the minimum sum in the original array. Subtract this minimum subarray sum from the total sum of the array to get the maximum subarray sum that includes the end and the beginning of the array (because the minimum sum subarray will be 'cut out' from the circular array). Let's call this max_circular.\n",
    "\n",
    "1. The maximum possible sum of a non-empty subarray of the circular array will be the maximum of max_normal and max_circular.\n",
    "\n",
    "1. However, there is a special case to consider: if all numbers are negative, the maximum subarray sum found by the above method will be 0, which is incorrect since we need a non-empty subarray. To handle this case, we need to check if the maximum subarray found by the standard Kadane's algorithm is less than 0, then we return that value itself as the maximum subarray sum.\n",
    "\t\n",
    "**Here's the pseudocode for the above approach:**\n",
    "\n",
    "```python\n",
    "function kadane(arr):\n",
    "    max_ending_here = max_so_far = arr[0]\n",
    "    for i from 1 to length(arr):\n",
    "        max_ending_here = max(arr[i], max_ending_here + arr[i])\n",
    "        max_so_far = max(max_so_far, max_ending_here)\n",
    "    return max_so_far\n",
    "function maxCircularSubarray(arr):\n",
    "    max_normal = kadane(arr)\n",
    "    if max_normal < 0:\n",
    "        return max_normal\n",
    "    total_sum = sum(arr)\n",
    "    for i from 0 to length(arr):\n",
    "        arr[i] = -arr[i]\n",
    "    max_inverted = kadane(arr)\n",
    "    max_circular = total_sum + max_inverted  # Convert back to positive\n",
    "    return max(max_normal, max_circular)\n",
    "\n",
    "// Main\n",
    "for each test case:\n",
    "    arr = input array\n",
    "    result = maxCircularSubarray(arr)\n",
    "    print result\n",
    "```\n",
    "\n",
    "The time complexity of this solution is **O(N)** because Kadane's algorithm runs in linear time, and we are using it twice. The space complexity is **O(1)** as we are only using a constant amount of additional space (unless you count the input array, which is given).\n",
    "\n",
    "Please note that this is pseudocode and may require adjustments based on the specific programming language you're using for implementation."
   ]
  },
  {
   "cell_type": "markdown",
   "metadata": {},
   "source": [
    "## Implementation"
   ]
  },
  {
   "cell_type": "code",
   "execution_count": 1,
   "metadata": {},
   "outputs": [],
   "source": [
    "def maxSubarraySum(arr, n):\n",
    "    # Write your code here.\n",
    "    total_sum = sum(arr)\n",
    "    s, m1 = 0, 0\n",
    "    for i in range(n):\n",
    "        s += arr[i]\n",
    "        if s < 0:\n",
    "            s = 0\n",
    "        else:\n",
    "            m1 = max(s, m1)\n",
    "\n",
    "    arr = list(map(lambda x: -x, arr))\n",
    "    s, m2 = 0, 0\n",
    "    for i in range(n):\n",
    "        s += arr[i]\n",
    "        if s < 0:\n",
    "            s = 0\n",
    "        else:\n",
    "            m2 = max(s, m2)\n",
    "\n",
    "    m3 = total_sum - (m2 * -1)\n",
    "    m = max(m1, m3)\n",
    "    if m == 0:\n",
    "        return -1\n",
    "    else:\n",
    "        return m"
   ]
  },
  {
   "cell_type": "code",
   "execution_count": 2,
   "metadata": {},
   "outputs": [
    {
     "name": "stdout",
     "output_type": "stream",
     "text": [
      "13\n"
     ]
    }
   ],
   "source": [
    "print(maxSubarraySum(arr=[3, 1, -2, 9], n=4))"
   ]
  },
  {
   "cell_type": "code",
   "execution_count": null,
   "metadata": {},
   "outputs": [],
   "source": []
  }
 ],
 "metadata": {
  "kernelspec": {
   "display_name": "Python 3",
   "language": "python",
   "name": "python3"
  },
  "language_info": {
   "codemirror_mode": {
    "name": "ipython",
    "version": 3
   },
   "file_extension": ".py",
   "mimetype": "text/x-python",
   "name": "python",
   "nbconvert_exporter": "python",
   "pygments_lexer": "ipython3",
   "version": "3.11.5"
  }
 },
 "nbformat": 4,
 "nbformat_minor": 2
}
