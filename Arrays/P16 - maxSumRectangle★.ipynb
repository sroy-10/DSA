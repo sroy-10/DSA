{
 "cells": [
  {
   "cell_type": "markdown",
   "metadata": {},
   "source": [
    "## Problem Statement\n",
    "\n",
    "You are given a matrix ‘ARR’ with ‘N’ rows and ‘M’ columns. Your task is to find the maximum sum rectangle in the matrix.\n",
    "\n",
    "Maximum sum rectangle is a rectangle with the maximum value for the sum of integers present within its boundary, considering all the rectangles that can be formed from the elements of that matrix.\n",
    "\n",
    "**For Example**\\\n",
    "Consider following matrix:\n",
    "\n",
    "The rectangle (1,1) to (3,3) is the rectangle with the maximum sum, i.e. 29.\n",
    "\n",
    "**Constraints**\\\n",
    " 1 <= T <= 10\\\n",
    " 1 <= M, N <= 75\\\n",
    " -10^5 <= ARR[i][j] <= 10^5\n",
    "\n",
    "**Time Limit:** 1 sec\n",
    "\n",
    "**Sample Input 1**\\\n",
    "2\\\n",
    "1 2\\\n",
    "-1 1\\\n",
    "2 2\\\n",
    "-1 1\\\n",
    "2 2\n",
    "\n",
    "**Sample Output 1**\\\n",
    "1\\\n",
    "4\n",
    "\n",
    "**Explanation of Input 1**\\\n",
    "The maximum sum rectangle corresponding to the first test case is-\n",
    "\n",
    "The maximum sum rectangle corresponding to the second test case is-\n",
    "\n",
    "**Sample Input 2**\\\n",
    "1\\\n",
    "4 5\\\n",
    "1 2 -1 -4 -20\\\n",
    "-8 -3  4 2 1\\\n",
    "3  8 10 1 3\\\n",
    "-4 -1 1 7 -6\n",
    "\n",
    "**Sample Output 2**\\\n",
    "29"
   ]
  },
  {
   "cell_type": "markdown",
   "metadata": {},
   "source": [
    "## Algorithm\n",
    "\n",
    "To solve the problem of finding the maximum sum rectangle in a 2D matrix, you can use an algorithm based on dynamic programming and Kadane's algorithm. Kadane's algorithm is typically used to find the maximum sum contiguous subarray within a one-dimensional array.\n",
    "\n",
    "**Here's the approach to solve the problem for a 2D matrix:**\n",
    "\n",
    "Treat each pair of rows as a 1D array. By doing this, you reduce the 2D problem into a 1D problem.\n",
    "For each pair of rows, calculate the sum of elements in each column from the first row to the second row. This forms a temporary 1D array.\n",
    "\n",
    "Use Kadane's algorithm to find the maximum sum subarray within this temporary 1D array.\n",
    "Repeat the process for all possible pairs of rows. While doing this, keep track of the maximum sum encountered.\n",
    "\n",
    "The time complexity of this approach is **O(N2 * M)**, where N is the number of rows and M is the number of columns. This is because there are **O(N2)** pairs of rows and for each pair, Kadane's algorithm takes **O(M)** time.\n",
    "\n",
    "The space complexity is **O(M)** because we need an array of size M to store the sum of elements for the current pair of rows.\n",
    "\n",
    "Here's a **pseudo-code** for the approach:\n",
    "```python\n",
    "function maxSumRectangle(matrix):  \n",
    "    N = number of rows in matrix  \n",
    "    M = number of columns in matrix  \n",
    "    maxSum = -∞  \n",
    "      \n",
    "    for topRow in range(0, N):  \n",
    "        tempArray = array of size M initialized to 0  \n",
    "          \n",
    "        for bottomRow in range(topRow, N):  \n",
    "            # Calculate the sum between the two rows and update tempArray  \n",
    "            for col in range(0, M):  \n",
    "                tempArray[col] += matrix[bottomRow][col]  \n",
    "              \n",
    "            # Find the maximum sum subarray in tempArray using Kadane's algorithm  \n",
    "            maxSum = max(maxSum, kadane(tempArray))  \n",
    "      \n",
    "    return maxSum  \n",
    "  \n",
    "function kadane(array):  \n",
    "    maxSoFar = -∞  \n",
    "    maxEndingHere = 0  \n",
    "      \n",
    "    for value in array:  \n",
    "        maxEndingHere = maxEndingHere + value  \n",
    "        maxSoFar = max(maxSoFar, maxEndingHere)  \n",
    "        maxEndingHere = max(maxEndingHere, 0)  \n",
    "      \n",
    "    return maxSoFar  \n",
    "```\n",
    "\n",
    "You would call **maxSumRectangle(matrix)** with your 2D matrix to get the maximum sum rectangle. Remember that the pseudo-code above is a simplified version of the algorithm and does not handle some edge cases, such as when all numbers are negative. If that's a possibility in your input, you'll need to modify Kadane's algorithm to handle this case properly."
   ]
  },
  {
   "cell_type": "markdown",
   "metadata": {},
   "source": [
    "## Implementation"
   ]
  },
  {
   "cell_type": "markdown",
   "metadata": {},
   "source": [
    "### Approch #1: Column is fixed"
   ]
  },
  {
   "cell_type": "code",
   "execution_count": 12,
   "metadata": {},
   "outputs": [
    {
     "name": "stdout",
     "output_type": "stream",
     "text": [
      "4\n",
      "29\n"
     ]
    }
   ],
   "source": [
    "def kadane(arr):\n",
    "    max_sum = arr[0]\n",
    "    current_sum = arr[0]\n",
    "    for i in range(1, len(arr)):\n",
    "        current_sum = max(arr[i], current_sum + arr[i])\n",
    "        max_sum = max(max_sum, current_sum)\n",
    "    return max_sum\n",
    "\n",
    "\n",
    "def maxSumRectangle(arr, n, m):\n",
    "    # Initialize to negative infinity to handle all negative numbers\n",
    "    max_sum = float(\"-inf\")\n",
    "\n",
    "    for left in range(m):\n",
    "        temp = [0] * n\n",
    "        for right in range(left, m):\n",
    "            # Add the elements of the current column between left and right to temp\n",
    "            for i in range(n):\n",
    "                temp[i] += arr[i][right]\n",
    "            # Find the maximum sum subarray in temp using Kadane's algorithm\n",
    "            current_max = kadane(temp)\n",
    "            # Update max_sum if we found a new maximum\n",
    "            max_sum = max(max_sum, current_max)\n",
    "\n",
    "    return max_sum\n",
    "\n",
    "\n",
    "print(maxSumRectangle(arr=[[-1, 1], [2, 2]], n=2, m=2))\n",
    "print(\n",
    "    maxSumRectangle(\n",
    "        arr=[\n",
    "            [1, 2, -1, -4, -20],\n",
    "            [-8, -3, 4, 2, 1],\n",
    "            [3, 8, 10, 1, 3],\n",
    "            [-4, -1, 1, 7, -6],\n",
    "        ],\n",
    "        n=4,\n",
    "        m=5,\n",
    "    )\n",
    ")"
   ]
  },
  {
   "cell_type": "markdown",
   "metadata": {},
   "source": [
    "### Approch #2: Row is fixed"
   ]
  },
  {
   "cell_type": "code",
   "execution_count": 14,
   "metadata": {},
   "outputs": [
    {
     "name": "stdout",
     "output_type": "stream",
     "text": [
      "4\n",
      "29\n"
     ]
    }
   ],
   "source": [
    "def maxSumRectangle(arr, n, m):\n",
    "    current_max = float(\"-inf\")\n",
    "    for i in range(n):\n",
    "        temp = [0] * m\n",
    "        for row in range(i, n):\n",
    "            for col in range(m):\n",
    "                temp[col] += arr[row][col]\n",
    "            current_max = max(current_max, kadane(temp))\n",
    "    return current_max\n",
    "\n",
    "\n",
    "print(maxSumRectangle(arr=[[-1, 1], [2, 2]], n=2, m=2))\n",
    "print(\n",
    "    maxSumRectangle(\n",
    "        arr=[\n",
    "            [1, 2, -1, -4, -20],\n",
    "            [-8, -3, 4, 2, 1],\n",
    "            [3, 8, 10, 1, 3],\n",
    "            [-4, -1, 1, 7, -6],\n",
    "        ],\n",
    "        n=4,\n",
    "        m=5,\n",
    "    )\n",
    ")"
   ]
  }
 ],
 "metadata": {
  "kernelspec": {
   "display_name": "Python 3",
   "language": "python",
   "name": "python3"
  },
  "language_info": {
   "codemirror_mode": {
    "name": "ipython",
    "version": 3
   },
   "file_extension": ".py",
   "mimetype": "text/x-python",
   "name": "python",
   "nbconvert_exporter": "python",
   "pygments_lexer": "ipython3",
   "version": "3.11.5"
  }
 },
 "nbformat": 4,
 "nbformat_minor": 2
}
