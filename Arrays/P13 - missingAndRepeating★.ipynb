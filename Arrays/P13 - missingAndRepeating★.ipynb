{
 "cells": [
  {
   "cell_type": "markdown",
   "metadata": {},
   "source": [
    "## Problem Statement\n",
    "\n",
    "You are given an array of size ‘N’. The elements of the array are in the range from 1 to ‘N’.\n",
    "\n",
    "Ideally, the array should contain elements from 1 to ‘N’. But due to some miscalculations, there is a number R in the range [1, N] which appears in the array twice and another number M in the range [1, N] which is missing from the array.\n",
    "\n",
    "Your task is to find the missing number (M) and the repeating number (R).\n",
    "\n",
    "**For example:** Consider an array of size six. The elements of the array are { 6, 4, 3, 5, 5, 1 }.\n",
    "\n",
    "The array should contain elements from one to six. Here, 2 is not present and 5 is occurring twice. Thus, 2 is the missing number (M) and 5 is the repeating number (R). \n",
    "\n",
    "**Follow Up:**\\\n",
    "Can you do this in linear time and constant additional space?\n",
    "\n",
    "**Constraints:**\\\n",
    "2 <= N <= 5 * 10^4\\\n",
    "1 <= data <= N\\\n",
    "Where ‘N’ is the size of the array and ‘data’ denotes the value of the elements of the array. \n"
   ]
  },
  {
   "cell_type": "markdown",
   "metadata": {},
   "source": [
    "## Algorithm\n",
    "\n",
    "To solve this problem with optimal time and space complexity, we can apply an algorithm that utilizes the fact that the array contains integers from 1 to N and that there is exactly one repeating and one missing number.\n",
    "\n",
    "Here's a way to solve this problem in **O(N)** time and **O(1)** additional space (apart from the input array):\n",
    "\n",
    "1. Traverse the array. For each element, convert the value at the index corresponding to the current element's value (considering 1-based indexing) to its negative. If you encounter a negative value at the expected index, it means the number associated with that index has appeared before, and thus it is the repeating number (R).\n",
    "\n",
    "1. Traverse the array again to find the missing number (M) by looking for the first index with a positive value. The missing number is the index + 1 (considering 1-based indexing).\n",
    "\n",
    "Please note that this algorithm modifies the original array. If you need to preserve the array, you can create a copy of the array and apply the above operations on the copy, but doing so would increase the space complexity to **O(N)**. If you cannot modify the original array and still need to keep **O(1)** additional space complexity, you will need to use a different approach, such as using the sum and sum of squares of the numbers to find the missing and repeating numbers.\n",
    "\n",
    "However, the provided algorithm is the most space-efficient, as it adheres to the constraints of linear time complexity and constant additional space."
   ]
  },
  {
   "cell_type": "markdown",
   "metadata": {},
   "source": [
    "## Implementation"
   ]
  },
  {
   "cell_type": "code",
   "execution_count": 25,
   "metadata": {},
   "outputs": [],
   "source": [
    "def missingAndRepeating(arr, n):\n",
    "    m, r = 0, 0\n",
    "    for i in range(n):\n",
    "        pos = abs(arr[i]) - 1\n",
    "\n",
    "        if arr[pos] > 0:\n",
    "            arr[pos] *= -1\n",
    "        else:\n",
    "            r = abs(arr[i])\n",
    "        print(f\"arr={arr}, r={r}\")\n",
    "\n",
    "    for i in range(n):\n",
    "        if arr[i] > 0:\n",
    "            m = i + 1\n",
    "            break\n",
    "\n",
    "    print(m, \" \", r)"
   ]
  },
  {
   "cell_type": "code",
   "execution_count": 30,
   "metadata": {},
   "outputs": [
    {
     "name": "stdout",
     "output_type": "stream",
     "text": [
      "arr=[2, -3, 2], r=0\n",
      "arr=[2, -3, -2], r=0\n",
      "arr=[2, -3, -2], r=2\n",
      "1   2\n"
     ]
    }
   ],
   "source": [
    "missingAndRepeating(arr=[2, 3, 2], n=3)"
   ]
  },
  {
   "cell_type": "code",
   "execution_count": 31,
   "metadata": {},
   "outputs": [
    {
     "name": "stdout",
     "output_type": "stream",
     "text": [
      "arr=[6, 4, 3, 5, 5, -1], r=0\n",
      "arr=[6, 4, 3, -5, 5, -1], r=0\n",
      "arr=[6, 4, -3, -5, 5, -1], r=0\n",
      "arr=[6, 4, -3, -5, -5, -1], r=0\n",
      "arr=[6, 4, -3, -5, -5, -1], r=5\n",
      "arr=[-6, 4, -3, -5, -5, -1], r=5\n",
      "2   5\n"
     ]
    }
   ],
   "source": [
    "missingAndRepeating(arr=[6, 4, 3, 5, 5, 1], n=6)"
   ]
  },
  {
   "cell_type": "code",
   "execution_count": 32,
   "metadata": {},
   "outputs": [
    {
     "name": "stdout",
     "output_type": "stream",
     "text": [
      "arr=[5, 4, 2, 4, -1], r=0\n",
      "arr=[5, 4, 2, -4, -1], r=0\n",
      "arr=[5, -4, 2, -4, -1], r=0\n",
      "arr=[5, -4, 2, -4, -1], r=4\n",
      "arr=[-5, -4, 2, -4, -1], r=4\n",
      "3   4\n"
     ]
    }
   ],
   "source": [
    "missingAndRepeating(arr=[5, 4, 2, 4, 1], n=5)"
   ]
  },
  {
   "cell_type": "code",
   "execution_count": null,
   "metadata": {},
   "outputs": [],
   "source": []
  }
 ],
 "metadata": {
  "kernelspec": {
   "display_name": "Python 3",
   "language": "python",
   "name": "python3"
  },
  "language_info": {
   "codemirror_mode": {
    "name": "ipython",
    "version": 3
   },
   "file_extension": ".py",
   "mimetype": "text/x-python",
   "name": "python",
   "nbconvert_exporter": "python",
   "pygments_lexer": "ipython3",
   "version": "3.11.5"
  }
 },
 "nbformat": 4,
 "nbformat_minor": 2
}
