{
 "cells": [
  {
   "cell_type": "markdown",
   "metadata": {},
   "source": [
    "## Problem Statement\n",
    "\n",
    "You are given an array arr consisting of n integers, you need to find a valid triplet as explained below.\n",
    "\n",
    "An array is said to have a valid triplet {arr[i], arr[j], arr[k]} if there exists three indices i, j and k such that i != j, j != k and i != j and arr[i] + arr[j] = arr[k] or arr[i] + arr[k] = arr[j] or arr[k] + arr[j] = arr[i].\n",
    "\n",
    "**For Example:**\\\n",
    "arr = 10, 5, 5, 6, 2, \n",
    "\n",
    "In this array, the triplet {10, 5, 5} is valid triplet because, 5 + 5 = 10.\n",
    "\n",
    "**Note:** The elements in the array need not be distinct.\n",
    "\n",
    "**Constraints:**\\\n",
    "1 <= T <=  50\\\n",
    "1 <= N <= 10^3  \\\n",
    "1 <= arr[i] <= 10^4\n",
    "\n",
    "**Time Limit:** 1 sec\n",
    "\n",
    "**Sample Input 1:**\\\n",
    "2\\\n",
    "4\\\n",
    "1 1 1 1\\\n",
    "5\\\n",
    "10 5 5 6 2\n",
    "\n",
    "**Sample Output 1:**\\\n",
    "false\\\n",
    "true\n",
    "\n",
    "**Explanation For Sample Input 1:**\\\n",
    "In the first case, no valid triplet can be formed.\\\n",
    "5 5 10 is the triplet in which the sum of two elements {5,5} is equal to the third {10}.\\\n",
    "\n",
    "**Sample Input 2:**\\\n",
    "2\\\n",
    "6\\\n",
    "1 2 3 1 2 3\\\n",
    "6\\\n",
    "1 1 2 2 1 1\n",
    "\n",
    "**Sample Output 2:**\\\n",
    "true\\\n",
    "true"
   ]
  },
  {
   "cell_type": "markdown",
   "metadata": {},
   "source": [
    "## Implementation"
   ]
  },
  {
   "cell_type": "code",
   "execution_count": 1,
   "metadata": {},
   "outputs": [],
   "source": [
    "def findTriplet(arr, n):\n",
    "    # Write your code here\n",
    "    # Return a list containing either 3 or 0 elements.\n",
    "    d = dict()\n",
    "    for idx, val in enumerate(arr):\n",
    "        if val in d:\n",
    "            d[val].append(idx)\n",
    "        else:\n",
    "            d[val] = [idx]\n",
    "\n",
    "    for i in range(n - 1):\n",
    "        for j in range(i + 1, n):\n",
    "            s = arr[i] + arr[j]\n",
    "            if s in d:\n",
    "                for k in d[s]:\n",
    "                    if i != j and j != k:\n",
    "                        return [arr[i], arr[j], s]\n",
    "    return []"
   ]
  },
  {
   "cell_type": "code",
   "execution_count": 2,
   "metadata": {},
   "outputs": [
    {
     "data": {
      "text/plain": [
       "[5, 5, 10]"
      ]
     },
     "execution_count": 2,
     "metadata": {},
     "output_type": "execute_result"
    }
   ],
   "source": [
    "findTriplet(arr=[10, 5, 5, 6, 2], n=5)"
   ]
  },
  {
   "cell_type": "code",
   "execution_count": null,
   "metadata": {},
   "outputs": [],
   "source": []
  }
 ],
 "metadata": {
  "kernelspec": {
   "display_name": "Python 3",
   "language": "python",
   "name": "python3"
  },
  "language_info": {
   "codemirror_mode": {
    "name": "ipython",
    "version": 3
   },
   "file_extension": ".py",
   "mimetype": "text/x-python",
   "name": "python",
   "nbconvert_exporter": "python",
   "pygments_lexer": "ipython3",
   "version": "3.11.5"
  }
 },
 "nbformat": 4,
 "nbformat_minor": 2
}
