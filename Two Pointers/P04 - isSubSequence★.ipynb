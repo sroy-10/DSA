{
 "cells": [
  {
   "cell_type": "markdown",
   "metadata": {},
   "source": [
    "## Problem Statement\n",
    "\n",
    "You have been given two strings ‘STR1’ and ‘STR2’.\\\n",
    "Your task is to find if ‘STR1’ is a subsequence of ‘STR2’.\\\n",
    "A subsequence of a string is a new string that can be derived from the original string by deleting some characters (can be none) without changing the relative ordering of other characters.\n",
    "\n",
    "**Example:**\\\n",
    "‘ACE’ is a subsequence of ‘ABCDE’ because ‘ACE’ can be formed by deleting ‘B’ and ‘D’ without changing the relative order of characters. ‘ADB’ is not a subsequence of ‘ABCDE’ because we can get ‘ABD’ from ‘ABCDE’ but not ‘ADB’ and in ‘ADB’ relative order of ‘B’ and ‘D’ are different from original strings.\n",
    "\n",
    "**Note:**\\\n",
    "1.Strings ‘STR1’ and ‘STR2’ consists only of English uppercases.\\\n",
    "2.Length of string ‘STR2’ will always be greater than or equal to the length of string ‘STR1’.\n",
    "\n",
    "**Example:**\\\n",
    "For example, the given ‘STR1’ is ‘BAE’ and ‘STR2’ is ‘ABADE’. \\\n",
    "String ‘STR1’ is a subsequence of string ‘STR2’ because ‘BAE’ can be formed by deleting ‘A’ and ‘D’ from ‘ABADE’ and the relative ordering of the characters of the string ‘ABADE’ persists.\n",
    "\n",
    "**Constraints:**\\\n",
    "1 <= T <= 50\\\n",
    "1 <= N, M <= 10^4\\\n",
    "Where N and M denote the lengths of STR1 and STR2respectively. \n",
    "\n",
    "**Time limit:** 1 second\n",
    "\n",
    "**Sample Input 1:**\\\n",
    "2\\\n",
    "AE\\\n",
    "BADE\\\n",
    "AB\\\n",
    "AC\n",
    "\n",
    "**Sample Output 1:**\\\n",
    "True\\\n",
    "False\n",
    "\n",
    "**Explanation of sample input 1:**\n",
    "\n",
    "**Test Case 1:**\\\n",
    "String ‘STR1’ is ‘AE’ and ‘STR2’ is ‘BADE’. All possible subsequence of ‘BADE’ are- \\\n",
    "\n",
    "‘B’, ‘A’, ‘D’, ‘E’, ‘BA’, ‘BD’, ‘BE’, ‘AD’, ‘AE’, ‘DE’, ‘BAD’, ‘BAE’, ‘BDE’, ‘ADE’, ‘BADE’. \\\n",
    "Hence ‘AE’ one of the subsequence of ‘BADE’\n",
    "\n",
    "**Test case 2:**\\\n",
    "String  ‘STR1’ is ‘AB’ and ‘STR2’ is ‘AC’. \\\n",
    "There is no way to get string ‘AB’ from string ‘AC’ as character ‘B’ doesn’t exist in string ‘AC’.\n",
    "\n",
    "**Sample Input 2:**\\\n",
    "2\\\n",
    "CB\\\n",
    "BCDE\\\n",
    "ABC\\\n",
    "AHBDGC\n",
    "\n",
    "**Sample Output 2:**\\\n",
    "False\\\n",
    "True\n"
   ]
  },
  {
   "cell_type": "markdown",
   "metadata": {},
   "source": [
    "## Algorithm\n",
    "\n",
    "To solve this problem, we can use the two-pointer technique. The goal is to traverse both strings and check whether we can find the characters of `STR1` in `STR2` while maintaining their relative order. Here's how you can do this:\n",
    "\n",
    "1. Initialize two pointers, i and j, to point to the start of `STR1` and `STR2`, respectively.\n",
    "\n",
    "1. While i is less than the length of `STR1` and j is less than the length of `STR2`:\n",
    "\t- If the characters at `STR1[i]` and `STR2[j]` match, increment both i and j.\n",
    "\t- If they do not match, increment only j.\n",
    "\n",
    "1. After the loop, if i is equal to the length of `STR1`, it means all characters of `STR1` were found in `STR2` in the correct order, so `STR1` is a subsequence of `STR2`.\n",
    "\n",
    "1. If i is not equal to the length of `STR1` after the loop, then `STR1` is not a subsequence of `STR2`.\n",
    "\n",
    "For the given problem constraints:\n",
    "- The time complexity of this algorithm is **O(M)**, where M is the length of `STR2`, because in the worst case, we may need to traverse the entire `STR2` string.\n",
    "- The space complexity is **O(1)**, as we are only using two pointers and no additional data structures that grow with the input size.\n",
    "\n",
    "This is an optimal solution given the problem's constraints.\n"
   ]
  },
  {
   "cell_type": "markdown",
   "metadata": {},
   "source": [
    "## Implementation"
   ]
  },
  {
   "cell_type": "code",
   "execution_count": 2,
   "metadata": {},
   "outputs": [],
   "source": [
    "def isSubSequence(str1, str2):\n",
    "    c = 0\n",
    "    for i in str2:\n",
    "        if str1[c] == i:\n",
    "            c += 1\n",
    "        if c >= len(str1):\n",
    "            break\n",
    "    return len(str1) == c"
   ]
  },
  {
   "cell_type": "code",
   "execution_count": 3,
   "metadata": {},
   "outputs": [
    {
     "data": {
      "text/plain": [
       "True"
      ]
     },
     "execution_count": 3,
     "metadata": {},
     "output_type": "execute_result"
    }
   ],
   "source": [
    "isSubSequence(str1=\"BAE\", str2=\"BADE\")"
   ]
  }
 ],
 "metadata": {
  "kernelspec": {
   "display_name": "Python 3",
   "language": "python",
   "name": "python3"
  },
  "language_info": {
   "codemirror_mode": {
    "name": "ipython",
    "version": 3
   },
   "file_extension": ".py",
   "mimetype": "text/x-python",
   "name": "python",
   "nbconvert_exporter": "python",
   "pygments_lexer": "ipython3",
   "version": "3.11.5"
  }
 },
 "nbformat": 4,
 "nbformat_minor": 2
}
