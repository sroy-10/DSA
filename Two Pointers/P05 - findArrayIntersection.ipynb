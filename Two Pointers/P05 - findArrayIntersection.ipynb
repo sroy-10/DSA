{
 "cells": [
  {
   "cell_type": "markdown",
   "metadata": {},
   "source": [
    "## Problem Statement\n",
    "\n",
    "You are given two arrays 'A' and 'B' of size 'N' and 'M' respectively. Both these arrays are sorted in non-decreasing order. You have to find the intersection of these two arrays.\n",
    "\n",
    "Intersection of two arrays is an array that consists of all the common elements occurring in both arrays.\n",
    "\n",
    "**Note :**\n",
    "1. The length of each array is greater than zero.\n",
    "\n",
    "1. Both the arrays are sorted in non-decreasing order.\n",
    "\n",
    "1. The output should be in the order of elements that occur in the original arrays.\n",
    "\n",
    "1. If there is no intersection present then return an empty array.\n",
    "\n",
    "**Constraints :**\\\n",
    "1 <= T <= 100\\\n",
    "1 <= N, M <= 10^4\\\n",
    "0 <= A[i] <= 10^5\\\n",
    "0 <= B[i] <= 10^5\n",
    "\n",
    "**Time Limit:** 1 sec\n",
    "\n",
    "**Sample Input 1 :**\\\n",
    "2\\\n",
    "6 4\\\n",
    "1 2 2 2 3 4\\\n",
    "2 2 3 3\\\n",
    "3 2\\\n",
    "1 2 3\\\n",
    "3 4  \n",
    "\n",
    "**Sample Output 1 :**\\\n",
    "2 2 3\\\n",
    "3   \n",
    "\n",
    "**Explanation for Sample Input 1 :**\\\n",
    "For the first test case, the common elements are 2 2 3 in both the arrays, so we print it.\n",
    "\n",
    "For the second test case, only 3 is common so we print 3.\n",
    "\n",
    "**Sample Input 2 :**\\\n",
    "2\\\n",
    "3 3 \\\n",
    "1 4 5\\\n",
    "3 4 5\\\n",
    "1 1\\\n",
    "3\\\n",
    "6\n",
    "\n",
    "**Sample Output 2 :**\\\n",
    "4 5\\\n",
    "-1"
   ]
  },
  {
   "cell_type": "markdown",
   "metadata": {},
   "source": [
    "## Algorithm\n",
    "\n",
    "In the problem statement provided, you are required to find the intersection of two sorted arrays. The intersection consists of elements that are common to both arrays. If there is no common element, you should return an empty array, but in the sample output, it shows -1. Assuming that -1 is a typo and we need to return an empty array, let's proceed with the solution.\n",
    "\n",
    "To solve this problem, you can use two pointers method since both arrays are sorted.\n",
    "\n",
    "**Here is the general approach:**\n",
    "\n",
    "1. Initialize two pointers i and j to the start of arrays A and B respectively.\n",
    "\n",
    "1. While i < N and j < M:\n",
    "    - If A[i] is less than B[j], then increment i.\n",
    "    - If B[j] is less than A[i], then increment j.\n",
    "    - If A[i] is equal to B[j], then output A[i] and increment both i and j.\n",
    "\n",
    "1. If no common elements are found, return an empty array.\n",
    "\n",
    "**Here is a pseudo-code to implement the approach:**\n",
    "\n",
    "```python\n",
    "function findIntersection(A: array of integers, B: array of integers):\n",
    "    i = 0\n",
    "    j = 0\n",
    "    intersection = []\n",
    "    while i < length(A) and j < length(B):\n",
    "        if A[i] < B[j]:\n",
    "            i = i + 1\n",
    "        else if A[i] > B[j]:\n",
    "            j = j + 1\n",
    "        else:\n",
    "            intersection.append(A[i])\n",
    "            i = i + 1\n",
    "            j = j + 1\n",
    "    return intersection\n",
    "```\n",
    "\n",
    "Remember, this is a high-level approach and might need to be adapted depending on the programming language you are using. The above pseudo-code does not handle input/output operations and is meant to illustrate the core intersection-finding algorithm.\n"
   ]
  },
  {
   "cell_type": "markdown",
   "metadata": {},
   "source": [
    "## Implementation"
   ]
  },
  {
   "cell_type": "code",
   "execution_count": 3,
   "metadata": {},
   "outputs": [],
   "source": [
    "def findArrayIntersection(arr: list, n: int, brr: list, m: int):\n",
    "    # Write your code here\n",
    "    # Return a list containing all the common elements in arr and brr.\n",
    "    i, j, r = 0, 0, []\n",
    "    while i < n and j < m:\n",
    "        if arr[i] == brr[j]:\n",
    "            r.append(arr[i])\n",
    "            i += 1\n",
    "            j += 1\n",
    "        elif arr[i] < brr[j]:\n",
    "            i += 1\n",
    "        elif brr[j] < arr[i]:\n",
    "            j += 1\n",
    "    return r"
   ]
  },
  {
   "cell_type": "code",
   "execution_count": 4,
   "metadata": {},
   "outputs": [
    {
     "name": "stdout",
     "output_type": "stream",
     "text": [
      "[2, 2, 3]\n"
     ]
    }
   ],
   "source": [
    "print(findArrayIntersection(arr=[1, 2, 2, 2, 3, 4], n=6, brr=[2, 2, 3, 3], m=4))"
   ]
  }
 ],
 "metadata": {
  "kernelspec": {
   "display_name": "Python 3",
   "language": "python",
   "name": "python3"
  },
  "language_info": {
   "codemirror_mode": {
    "name": "ipython",
    "version": 3
   },
   "file_extension": ".py",
   "mimetype": "text/x-python",
   "name": "python",
   "nbconvert_exporter": "python",
   "pygments_lexer": "ipython3",
   "version": "3.11.5"
  }
 },
 "nbformat": 4,
 "nbformat_minor": 2
}
