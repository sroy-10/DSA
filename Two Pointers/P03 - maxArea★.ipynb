{
 "cells": [
  {
   "cell_type": "markdown",
   "metadata": {},
   "source": [
    "## Problem Statement\n",
    "\n",
    "Given a sequence of ‘N’ space-separated non-negative integers A[1],A[2],A[3],......A[i]…...A[n]. Where each number of the sequence represents the height of the line drawn at point 'i'. Hence on the cartesian plane, each line is drawn from coordinate ('i',0) to coordinate ('i', 'A[i]'), here ‘i’ ranges from 1 to ‘N’. Find two lines, which, together with the x-axis forms a container, such that the container contains the most area of water.\n",
    "\n",
    "**Note :**\n",
    "1. You cannot slant the container i.e. the height of the water is equal to the minimum height of the two lines which define the container.\n",
    "2. Do not print anything, you just need to return the area of the container with maximum water.\n",
    "\n",
    "**Example:**\n",
    "For the above Diagram, the first red marked line is formed between coordinates (2,0) and (2,10), and the second red-marked line is formed between coordinates (5,0) and (5,9). The area of water contained between these two lines is (height* width) = (5-2)* 9 = 27, which is the maximum area contained between any two lines present on the plane. So in this case, we will return 3* 9=27.\n",
    "\n",
    "**Constraints:**\\\n",
    "1 <= T <= 50\\\n",
    "0 <= N <= 10^4\\\n",
    "1 <= A[i] <= 10^5\n",
    "\n",
    "**Time Limit:** 1 sec\n",
    "\n",
    "**Sample Input 1 :**\\\n",
    "2\\\n",
    "5\\\n",
    "4 3 2 1 4\\\n",
    "3\\\n",
    "1 2 1\n",
    "\n",
    "**Sample Output 1 :**\\\n",
    "16\\\n",
    "2\n",
    "\n",
    "**Explanation of The Sample Input 1:**\\\n",
    "\n",
    "**For the first case:**\n",
    "\n",
    "We can create ‘n(n+1)/2’ different containers using ‘N' containers for example with 1st and 3rd line we can create a container of area = (3-1)*min(4,2)=4.\n",
    "\n",
    "All Possible Containers:  \n",
    "\n",
    "Lines used          Area\\\n",
    "4,3         area=min(4,3)*1=3\\\n",
    "4,2         area=min(4,2)*2=4\\\n",
    "4,1         area=min(4,1)*3=3\\\n",
    "4,4         area=min(4,4)*4=16\\\n",
    "3,2         area=min(3,2)*1=2\\\n",
    "3,1         area=min(3,1)*2=2\\\n",
    "3,4         area=min(3,4)*3=9\\\n",
    "2,1         area=min(2,1)*1=1\\\n",
    "2,4         area=min(2,4)*2=4\\\n",
    "1,4         area=min(1,4)*1=1\n",
    "\n",
    "But among all such containers the one with the maximum area will be formed by using the first and last line, the area of which is : (5-1)*min(4,4)=16.\n",
    "\n",
    "Hence we return 16.\n",
    "\n",
    "**For the second case:**\n",
    "\n",
    "We can take the first and third line to get an area of (3-1)*min(1,1)=2 which is the maximum possible area in this sequence.\n",
    "\n",
    "**Sample Input 2 :**\\\n",
    "2\\\n",
    "5\\\n",
    "12 4 6 8 1\\\n",
    "3\\\n",
    "1 2 3\n",
    "\n",
    "**Sample Output 2 :**\\\n",
    "24\\\n",
    "2\n"
   ]
  },
  {
   "cell_type": "markdown",
   "metadata": {},
   "source": [
    "## Algorithm\n",
    "\n",
    "To solve the problem described, we can use the two-pointer approach. We initialize two pointers, one at the beginning of the array and the other at the end. At each step, we calculate the area formed between the lines at the two pointers, update the maximum area if necessary, and then move the pointer pointing to the shorter line towards the other pointer, in an attempt to find a taller line that could possibly form a larger area.\n",
    "\n",
    "This function can be called with each test case's array of heights to find the maximum area of water that can be trapped. The outputs for the provided sample inputs would be 16 and 2 for the first case, and 24 and 2 for the second case, respectively.\n"
   ]
  },
  {
   "cell_type": "markdown",
   "metadata": {},
   "source": [
    "## Implementation"
   ]
  },
  {
   "cell_type": "code",
   "execution_count": 1,
   "metadata": {},
   "outputs": [],
   "source": [
    "def maxArea(height):\n",
    "    # Write your code here\\\n",
    "    i, j, area = 0, len(height) - 1, 0\n",
    "    while i < j:\n",
    "        temp_area = min(height[i], height[j]) * abs(i - j)\n",
    "        area = max(temp_area, area)\n",
    "        if height[i] < height[j]:\n",
    "            i += 1\n",
    "        else:\n",
    "            j -= 1\n",
    "    return area"
   ]
  },
  {
   "cell_type": "code",
   "execution_count": 2,
   "metadata": {},
   "outputs": [
    {
     "data": {
      "text/plain": [
       "16"
      ]
     },
     "execution_count": 2,
     "metadata": {},
     "output_type": "execute_result"
    }
   ],
   "source": [
    "maxArea(height=[4, 3, 2, 1, 4])"
   ]
  }
 ],
 "metadata": {
  "kernelspec": {
   "display_name": "Python 3",
   "language": "python",
   "name": "python3"
  },
  "language_info": {
   "codemirror_mode": {
    "name": "ipython",
    "version": 3
   },
   "file_extension": ".py",
   "mimetype": "text/x-python",
   "name": "python",
   "nbconvert_exporter": "python",
   "pygments_lexer": "ipython3",
   "version": "3.11.5"
  }
 },
 "nbformat": 4,
 "nbformat_minor": 2
}
