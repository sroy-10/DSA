{
 "cells": [
  {
   "cell_type": "markdown",
   "metadata": {},
   "source": [
    "## Problem Statement\n",
    "\n",
    "You are given an array 'ARR' consisting of 'N' integers. You need to rearrange the array elements such that all negative numbers appear before all positive numbers.\n",
    "\n",
    "**Note:**\\\n",
    "The order of elements in the resulting array is not important.\n",
    "\n",
    "**Example:**\\\n",
    "Let the array be [1, 2, -3, 4, -4, -5]. On rearranging the array such that all negative numbers appear before all positive numbers we get the resulting array [-3, -5, -4, 2, 4, 1].\n",
    "\n",
    "\n",
    "**Constraints:**\\\n",
    "1 <= T <= 10\\\n",
    "1 <= N <= 5 * 10^4\\\n",
    "-10^5 <= ARR[i] <= 10^5\n",
    "\n",
    "Where  ‘T’ represents the number of test cases and ‘N’ represents the number of elements present in the array.\n",
    "\n",
    "**Time Limit:** 1 sec\n",
    "\n",
    "**Sample Input 1:**\\\n",
    "2\\\n",
    "5\\\n",
    "1 -4 -2 5 3\\\n",
    "2\\\n",
    "2 1    \n",
    "\n",
    "**Sample Output 1:**\\\n",
    "Yes\\\n",
    "Yes\n",
    "\n",
    "**Explanation for Sample Input 1:**\\\n",
    "For the first test case we have, array: [1, -4, -2, 5, 3] and N = 5. On rearranging the array such that all negative numbers appear before all positive numbers we get the resulting array [-2, -4, 1, 5, 3].\n",
    "\n",
    "For the second test case we have, array: [2, 1] and N = 2. There are no negative numbers. Hence, we do not require any rearrangement.\n",
    "\n",
    "**Sample Input 2:**\\\n",
    "3\\\n",
    "4\\\n",
    "1 -5 -5 3\\\n",
    "5\\\n",
    "-1 -2 3 4 5\\\n",
    "1\\\n",
    "-2\n",
    "\n",
    "**Sample Output 2:**\\\n",
    "Yes \\\n",
    "Yes \\\n",
    "Yes\n",
    "\n",
    "**Explanation for Sample Input 2:**\\\n",
    "For the first test case we have, array: [1, -5, -5,  3] and N = 4. On rearranging the array such that all negative numbers appear before all positive numbers we get the resulting array [-5, -5, 1, 3].\n",
    "\n",
    "For the second test case we have, array: [-1, -2, 3, 4, 5] and N = 5. There are already arranged in required way. Hence, we do not require any rearrangement.\n",
    "\n",
    "For the third test case we have, array: [-2 ] and N = 1. The array is already arranged in required way. Hence, we do not require any rearrangement.\n"
   ]
  },
  {
   "cell_type": "markdown",
   "metadata": {},
   "source": [
    "## Algorithm\n",
    "\n",
    "To solve this problem, you can use a partitioning approach similar to the one used in the quicksort algorithm. The goal is to move all negative numbers to the `left` side of the array and all positive numbers to the `right` side, without concern for the order within each partition. The partitioning step can be done in linear time O(N) and constant space O(1).\n",
    "\n",
    "Here's a step-by-step algorithm for the partitioning process:\n",
    "1. Initialize two pointers: `left` at the start of the array and `right` at the end of the array.\n",
    "\n",
    "1. Iterate while `left` is less than `right`:\n",
    "\n",
    "    1. If the element at `left` is negative, increment `left` since it's already in the correct position.\n",
    "    1. If the element at `right` is positive, decrement `right` since it's already in the correct position.\n",
    "    1. If the element at `left` is positive and the element at `right` is negative, swap them, and then increment `left` and decrement `right`.\n",
    "\n",
    "1. Repeat this process until `left` is greater than or equal to `right`.\n",
    "\n",
    "This algorithm ensures that all negative numbers are moved to the `left` side and all positive numbers are moved to the `right` side. Since the problem does not require maintaining the original order of the elements, this approach is efficient and meets the problem constraints.\n"
   ]
  },
  {
   "cell_type": "markdown",
   "metadata": {},
   "source": [
    "## Implementation"
   ]
  },
  {
   "cell_type": "code",
   "execution_count": 1,
   "metadata": {},
   "outputs": [],
   "source": [
    "# def separateNegativeAndPositive(nums):\n",
    "# # write your code here\n",
    "# # return sorted(nums)\n",
    "# l, r = 0, len(nums)-1\n",
    "# while l < r:\n",
    "#     if nums[r] > 0:\n",
    "#         r -= 1\n",
    "#     elif nums[l] < 0:\n",
    "#         l += 1\n",
    "#     elif (nums[r] < 0 and nums [l] > 0) or (nums[l] > 0 and nums [r] < 0):\n",
    "#         # swap\n",
    "#         tmp = nums[r]\n",
    "#         nums[r] = nums[l]\n",
    "#         nums[l] = tmp\n",
    "#     elif nums[r] < 0 and nums[l] < 0:\n",
    "#         l += 1\n",
    "#         # swap\n",
    "#         tmp = nums[r]\n",
    "#         nums[r] = nums[l]\n",
    "#         nums[l] = tmp\n",
    "#     elif nums[l] > 0 and nums[r] < 0:\n",
    "#         r -= 1\n",
    "#         # swap\n",
    "#         tmp = nums[r]\n",
    "#         nums[r] = nums[l]\n",
    "#         nums[l] = tmp\n",
    "# return nums\n",
    "\n",
    "\n",
    "def separateNegativeAndPositive(nums):\n",
    "    l, r = 0, len(nums) - 1\n",
    "    while l < r:\n",
    "        while nums[l] < 0 and l < r:\n",
    "            l += 1\n",
    "        while nums[r] >= 0 and l < r:  # treat 0 as positive\n",
    "            r -= 1\n",
    "        if l < r:\n",
    "            nums[l], nums[r] = nums[r], nums[l]\n",
    "            l += 1\n",
    "            r -= 1\n",
    "    return nums"
   ]
  },
  {
   "cell_type": "code",
   "execution_count": 2,
   "metadata": {},
   "outputs": [
    {
     "data": {
      "text/plain": [
       "[-2, -4, 1, 5, 3]"
      ]
     },
     "execution_count": 2,
     "metadata": {},
     "output_type": "execute_result"
    }
   ],
   "source": [
    "separateNegativeAndPositive(nums=[1, -4, -2, 5, 3])"
   ]
  },
  {
   "cell_type": "code",
   "execution_count": null,
   "metadata": {},
   "outputs": [],
   "source": []
  }
 ],
 "metadata": {
  "kernelspec": {
   "display_name": "Python 3",
   "language": "python",
   "name": "python3"
  },
  "language_info": {
   "codemirror_mode": {
    "name": "ipython",
    "version": 3
   },
   "file_extension": ".py",
   "mimetype": "text/x-python",
   "name": "python",
   "nbconvert_exporter": "python",
   "pygments_lexer": "ipython3",
   "version": "3.11.5"
  }
 },
 "nbformat": 4,
 "nbformat_minor": 2
}
