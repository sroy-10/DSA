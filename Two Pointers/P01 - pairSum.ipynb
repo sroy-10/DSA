{
 "cells": [
  {
   "cell_type": "markdown",
   "metadata": {},
   "source": [
    "## Problem Statement\n",
    "\n",
    "You are given an array/list ‘ARR’ consisting of ‘N’ distinct integers arranged in ascending order. You are also given an integer ‘TARGET’. Your task is to count all the distinct pairs in ‘ARR’ such that their sum is equal to ‘TARGET’.\n",
    "\n",
    "**Note:**\n",
    "\n",
    "1. Pair (x,y) and Pair(y,x) are considered as the same pair. \n",
    "\n",
    "2. If there exists no such pair with sum equals to 'TARGET', then return -1.\n",
    "Example:\n",
    "\n",
    "Let ‘ARR’ = [1 2 3] and ‘TARGET’ = 4. Then, there exists only one pair in ‘ARR’ with a sum of 4 which is (1, 3). (1, 3) and (3, 1) are counted as only one pair.\n",
    "\n",
    "**Constraints:**\\\n",
    "1 <= ‘T’ <= 100\\\n",
    "2 <= ‘N’ <= 5000\\\n",
    "1 <= ‘ARR[i]’, ‘TARGET’ <= 10^5\n",
    "\n",
    "Where ARR[i]’ represents the elements of array/list ‘ARR’. \n",
    "\n",
    "**Time Limit:** 1 sec\n",
    "\n",
    "**Sample Input 1:**\\\n",
    "2\\\n",
    "5 6\\\n",
    "1 2 3 4 5\\\n",
    "6 7\\\n",
    "1 2 3 4 5 6\n",
    "\n",
    "**Sample Output 1:**\\\n",
    "2\\\n",
    "3\n",
    "\n",
    "**Explanation for Sample Output 1:**\\\n",
    "In test case 1, there exist only 2 pairs whose sum is equal to ‘TARGET’ i.e (1, 5) and (2, 4).\n",
    "\n",
    "In test case 2, there are 3 pairs whose sum is equal to ‘TARGET’ which are  (1, 6), (2, 5), and (3, 4).\n",
    "\n",
    "**Sample Input 2:**\\\n",
    "2\\\n",
    "4 10\\\n",
    "1 3 5 6\\\n",
    "5 12\\\n",
    "1 3 6 9 11\n",
    "\n",
    "**Sample Output 2:**\\\n",
    "-1\\\n",
    " 2\n",
    " \n",
    "**Explanation for Sample Output 2:**\\\n",
    "In test case 1, there is not a pair whose sum is equal to ‘TARGET’. So we return -1.\n",
    "\n",
    "In test case 2, there are 2 pairs whose sum is equal to ‘TARGET’, (1, 11) and (3, 9) respectively.\n"
   ]
  },
  {
   "cell_type": "markdown",
   "metadata": {},
   "source": [
    "## Algorithm\n",
    "\n",
    "To solve this problem optimally, we can use the two-pointer technique since the array is already sorted in ascending order. The two-pointer technique is a way to track two indices that move towards each other or away from each other to solve problems without the need for extra space or nested loops, resulting in an efficient solution.\n",
    "\n",
    "**Here's the algorithm in steps:**\n",
    "\n",
    "1. Initialize two pointers, `left` at the start of the array and `right` at the end of the array.\n",
    "\n",
    "1. Initialize a `count` variable to keep track of the number of valid pairs.\n",
    "\n",
    "1. Iterate through the array while `left` is less than `right`:\n",
    "    1. Calculate the sum of the elements at the `left` and `right` pointers.\n",
    "    1. If the sum is equal to `TARGET`, increment `count`, move `left` one step to the `right` and `right` one step to the `left` to find a new pair.\n",
    "    1. If the sum is less than `TARGET`, move `left` one step to the `right`, as we need a larger sum.\n",
    "    1. If the sum is greater than `TARGET`, move `right` one step to the `left`, as we need a smaller sum.\n",
    "\n",
    "1. If `count` is zero at the end of the iteration, meaning we found no valid pairs, return -1.\n",
    "Otherwise, return the `count` of valid pairs."
   ]
  },
  {
   "cell_type": "markdown",
   "metadata": {},
   "source": [
    "## Implementation"
   ]
  },
  {
   "cell_type": "code",
   "execution_count": 1,
   "metadata": {},
   "outputs": [],
   "source": [
    "def pairSum(arr, n, target):\n",
    "    # Write your code here.\n",
    "    l, r, pair = 0, n - 1, 0\n",
    "    while l < r:\n",
    "        if arr[l] + arr[r] < target:\n",
    "            l += 1\n",
    "        elif arr[l] + arr[r] > target:\n",
    "            r -= 1\n",
    "        else:\n",
    "            l += 1\n",
    "            r -= 1\n",
    "            pair += 1\n",
    "    if pair:\n",
    "        return pair\n",
    "    else:\n",
    "        return -1"
   ]
  },
  {
   "cell_type": "code",
   "execution_count": 2,
   "metadata": {},
   "outputs": [
    {
     "data": {
      "text/plain": [
       "2"
      ]
     },
     "execution_count": 2,
     "metadata": {},
     "output_type": "execute_result"
    }
   ],
   "source": [
    "pairSum(arr=[1, 2, 3, 4, 5], n=5, target=6)"
   ]
  },
  {
   "cell_type": "code",
   "execution_count": null,
   "metadata": {},
   "outputs": [],
   "source": []
  }
 ],
 "metadata": {
  "kernelspec": {
   "display_name": "Python 3",
   "language": "python",
   "name": "python3"
  },
  "language_info": {
   "codemirror_mode": {
    "name": "ipython",
    "version": 3
   },
   "file_extension": ".py",
   "mimetype": "text/x-python",
   "name": "python",
   "nbconvert_exporter": "python",
   "pygments_lexer": "ipython3",
   "version": "3.11.5"
  }
 },
 "nbformat": 4,
 "nbformat_minor": 2
}
