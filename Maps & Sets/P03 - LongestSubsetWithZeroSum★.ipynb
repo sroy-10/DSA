{
 "cells": [
  {
   "cell_type": "markdown",
   "metadata": {},
   "source": [
    "## Implementation"
   ]
  },
  {
   "cell_type": "code",
   "execution_count": 1,
   "metadata": {},
   "outputs": [],
   "source": [
    "def LongestSubsetWithZeroSum(arr):\n",
    "    d = {}\n",
    "    sum = 0\n",
    "    maxLength = 0\n",
    "\n",
    "    for idx, i in enumerate(arr):\n",
    "        sum += i\n",
    "        if sum != 0:\n",
    "            if d.get(sum):\n",
    "                maxLength = max(maxLength, idx - d.get(sum))\n",
    "            else:\n",
    "                d[sum] = idx\n",
    "        else:\n",
    "            maxLength = idx + 1\n",
    "    return maxLength"
   ]
  },
  {
   "cell_type": "code",
   "execution_count": 2,
   "metadata": {},
   "outputs": [
    {
     "data": {
      "text/plain": [
       "2"
      ]
     },
     "execution_count": 2,
     "metadata": {},
     "output_type": "execute_result"
    }
   ],
   "source": [
    "LongestSubsetWithZeroSum(arr=[1, 3, -1, 4, -4])"
   ]
  },
  {
   "cell_type": "code",
   "execution_count": null,
   "metadata": {},
   "outputs": [],
   "source": []
  }
 ],
 "metadata": {
  "kernelspec": {
   "display_name": "Python 3",
   "language": "python",
   "name": "python3"
  },
  "language_info": {
   "codemirror_mode": {
    "name": "ipython",
    "version": 3
   },
   "file_extension": ".py",
   "mimetype": "text/x-python",
   "name": "python",
   "nbconvert_exporter": "python",
   "pygments_lexer": "ipython3",
   "version": "3.11.5"
  }
 },
 "nbformat": 4,
 "nbformat_minor": 2
}
