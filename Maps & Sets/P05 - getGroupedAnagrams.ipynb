{
 "cells": [
  {
   "cell_type": "markdown",
   "metadata": {},
   "source": [
    "## Problem statement\n",
    "\n",
    "You have been given an array/list of strings 'inputStr'. You are supposed to return the strings as groups of anagrams such that strings belonging to a particular group are anagrams of one another.\n",
    "\n",
    "An anagram is a word or phrase formed by rearranging the letters of a different word or phrase. We can generalize this in string processing by saying that an anagram of a string is another string with the same quantity of each character in it, in any order.\n",
    "\n",
    "**Note:**\n",
    "The order in which the groups and members of the groups are printed does not matter.\n",
    "\n",
    "**For example:**\\\n",
    "inputStr = {\"eat\",\"tea\",\"tan\",\"ate\",\"nat\",\"bat\"}\\\n",
    "Here {“tea”, “ate”,” eat”} and {“nat”, “tan”} are grouped as anagrams.\\\n",
    "Since there is no such string in “inputStr” which can be an anagram of “bat”, thus, “bat” will be the only member in its group.\n",
    "\n",
    "**Constraints :**\\\n",
    "1<= T <= 50\\\n",
    "1<= N <= 100\\\n",
    "1<= K <= 10\n",
    "\n",
    "Where 'T' is the number of test cases, 'N' is the length of the given array/list of strings and ‘K’ is the maximum length of a string in the given array/list.\n",
    "\n",
    "**Time limit:** 1 sec.\n",
    "\n",
    "**Sample Input 1:**\\\n",
    "2\\\n",
    "4\\\n",
    "abab baba aabb abbc\\\n",
    "5\\\n",
    "aecd bcda acbd abdc acda\n",
    "\n",
    "**Sample Output 1 :**\\\n",
    "aabb abab baba\\\n",
    "abbc\\\n",
    "abdc acbd bcda\\\n",
    "acda\\\n",
    "aecd\n",
    "\n",
    "**Explanation of the Sample Input 1 :**\\\n",
    "In the first test case, in the first group [\"aabb\", \"abab\", \"baba\"], all the strings are anagrams of one another and in the second group [\"abbc\"] has no anagram, so it's the only member in its group.\n",
    "\n",
    "In the second test case, in the first group [\"abdc\", \"acbd\", \"bcda\"] all the strings are anagrams of one another, and in second and third group, both [\"acda\"] and [\"aecd\"] have no anagram, so they are the only member in their group \n",
    "\n",
    "**Sample Input 2:**\\\n",
    "2\\\n",
    "6\\\n",
    "eat tea tan ate nat bat\\\n",
    "5\\\n",
    "cat dog tac god act\n",
    "\n",
    "**Sample Output 2 :**\\\n",
    "ate eat tea \\\n",
    "bat\\\n",
    "nat tan\\\n",
    "act cat tac\\\n",
    "dog god\n",
    "\n",
    "**Explanation of the Sample Input 2 :**\\\n",
    "In the first test case, in the first group [\"ate\", \"eat\", \"tea\"] and the third group [“nat”, “tan”], all the strings are anagrams of one another and in the second group [\"bat\"] has no anagram, so it's the only member in its group and, \n",
    "\n",
    "In the second test case, in the first group [\"act\", \"cat\", \"tac\"] and in the second group [\"dog\", \"god\"], all the strings are anagrams of one another.\n",
    "\n"
   ]
  },
  {
   "cell_type": "markdown",
   "metadata": {},
   "source": [
    "## Implementation"
   ]
  },
  {
   "cell_type": "code",
   "execution_count": 1,
   "metadata": {},
   "outputs": [],
   "source": [
    "def getGroupedAnagrams(inputStr):\n",
    "    # Write your code here.\n",
    "\n",
    "    d = {}\n",
    "    for i in inputStr:\n",
    "        key = \"\".join(sorted(i))\n",
    "        if d.get(key):\n",
    "            d[key].append(i)\n",
    "        else:\n",
    "            d[key] = [i]\n",
    "\n",
    "    groups_list = []\n",
    "    f = \"\"\n",
    "    for v in d.values():\n",
    "        groups_list.append(v)\n",
    "        if f:\n",
    "            f = f + \"\\n\" + \" \".join(v)\n",
    "        else:\n",
    "            if len(v) == 1:\n",
    "                f = \"\".join(v)\n",
    "            else:\n",
    "                f = \" \".join(v)\n",
    "    return f"
   ]
  },
  {
   "cell_type": "code",
   "execution_count": 2,
   "metadata": {},
   "outputs": [
    {
     "data": {
      "text/plain": [
       "'a a\\nb b'"
      ]
     },
     "execution_count": 2,
     "metadata": {},
     "output_type": "execute_result"
    }
   ],
   "source": [
    "getGroupedAnagrams(inputStr=\"abab\")"
   ]
  },
  {
   "cell_type": "code",
   "execution_count": null,
   "metadata": {},
   "outputs": [],
   "source": []
  }
 ],
 "metadata": {
  "kernelspec": {
   "display_name": "Python 3",
   "language": "python",
   "name": "python3"
  },
  "language_info": {
   "codemirror_mode": {
    "name": "ipython",
    "version": 3
   },
   "file_extension": ".py",
   "mimetype": "text/x-python",
   "name": "python",
   "nbconvert_exporter": "python",
   "pygments_lexer": "ipython3",
   "version": "3.11.5"
  }
 },
 "nbformat": 4,
 "nbformat_minor": 2
}
