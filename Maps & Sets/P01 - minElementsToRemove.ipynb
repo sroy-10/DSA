{
 "cells": [
  {
   "cell_type": "markdown",
   "metadata": {},
   "source": [
    "## Problem Statement\n",
    "\n",
    "You are given an array ‘ARR’ of size ‘N,’ and you have to tell the minimum number of elements that need to be removed such that the array contains all distinct elements. More formally, there should not be any ‘I’ and ‘J’ such that ‘I’ != ‘J’ and ‘ARR’[‘I’] = ‘ARR’[‘J’].\n",
    "\n",
    "**For example:**\\\n",
    "Given ‘N’ = 4,\\\n",
    "'ARR' = { 1, 2, 1, 2} \\\n",
    "Then the answer is 2 because 1 and 2 are repeated once therefore we need to remove 2 elements.\n",
    "\n",
    "**Constraints:**\\\n",
    "1 <= ‘T’ <= 10\\\n",
    "1 <= ‘N’ <= 5000\\\n",
    "0 <= 'ARR[i]’ <= 10 ^ 6\n",
    "\n",
    "**Time Limit:** 1 sec.\\\n",
    "**Sample Input 1 :**\\\n",
    "2\\\n",
    "4\\\n",
    "1 2 1 2\\\n",
    "5\\\n",
    "3 6 7 12 13 \n",
    "\n",
    "**Sample Output 1 :**\\\n",
    "2\\\n",
    "0 \n",
    "\n",
    "**Explanation of the Sample Input 1:**\\\n",
    "In the first test case, there are 4 elements in the array and elements at index 2 and 3(0-based indexing) are repeated. Therefore we need to remove 2 elements to make this array of all distinct elements.\\\n",
    "In the second test case, there are 5 elements in the array and all the elements are unique therefore we don't need to remove any element from the array.\n",
    "\n",
    "**Sample Input 2 :**\\\n",
    "2\\\n",
    "4\\\n",
    "1 1 1 1\\\n",
    "5\\\n",
    "1 2 3 1 2\n",
    "\n",
    "**Sample Output 2 :**\\\n",
    "3\\\n",
    "2\n"
   ]
  },
  {
   "cell_type": "markdown",
   "metadata": {},
   "source": [
    "## Algorithm\n",
    "\n",
    "To solve this problem, we can use a hash map (or hash table) to count the occurrences of each element in the array. Once we have the count of each element, we need to find out how many elements are duplicates and should be removed to make all elements in the array distinct.\n",
    "\n",
    "Here's a step-by-step approach to solve the problem:\n",
    "1. Initialize a hash map to store the frequency of each element in the array.\n",
    "\n",
    "2. Iterate through the array, updating the frequency of each element in the hash map.\n",
    "\n",
    "3. Initialize a variable to keep track of the number of elements to be removed.\n",
    "\n",
    "4. For each element in the hash map, if the frequency is more than 1, it means there are duplicates of that element. To make the element unique, we need to remove frequency - 1 duplicates.\n",
    "\n",
    "5. Sum up all the frequency - 1 values for each element with a frequency greater than 1. This will give us the total number of elements that need to be removed.\n",
    "\n",
    "Return the total number of elements to be removed.\n",
    "\n",
    "The time complexity of this algorithm is **O(N)**, where N is the size of the array, because we iterate through the array once to fill the frequency map. The space complexity is also **O(N)** in the worst case when all elements are distinct, as we need to store each element in the hash map.\n",
    "\n",
    "This is an optimal solution for the given constraints and should work within the specified time limit of 1 second."
   ]
  },
  {
   "cell_type": "markdown",
   "metadata": {},
   "source": [
    "## Implementation"
   ]
  },
  {
   "cell_type": "markdown",
   "metadata": {},
   "source": [
    "### Approach #1"
   ]
  },
  {
   "cell_type": "code",
   "execution_count": 1,
   "metadata": {},
   "outputs": [],
   "source": [
    "def minElementsToRemove(arr):\n",
    "    # Write your Code here.\n",
    "    s = set(arr)\n",
    "    return len(arr) - len(s)"
   ]
  },
  {
   "cell_type": "code",
   "execution_count": 2,
   "metadata": {},
   "outputs": [
    {
     "data": {
      "text/plain": [
       "2"
      ]
     },
     "execution_count": 2,
     "metadata": {},
     "output_type": "execute_result"
    }
   ],
   "source": [
    "minElementsToRemove(arr=[1, 2, 1, 2])"
   ]
  },
  {
   "cell_type": "markdown",
   "metadata": {},
   "source": [
    "### Approach #2 (as per the algo)"
   ]
  },
  {
   "cell_type": "code",
   "execution_count": null,
   "metadata": {},
   "outputs": [],
   "source": [
    "def min_removals_to_make_distinct(arr):\n",
    "    # Step 1: Initialize the frequency map\n",
    "    frequency_map = {}\n",
    "    \n",
    "    # Step 2: Count the frequency of each element\n",
    "    for num in arr:\n",
    "        if num in frequency_map:\n",
    "            frequency_map[num] += 1\n",
    "        else:\n",
    "            frequency_map[num] = 1\n",
    "    \n",
    "    # Step 3: Initialize the count of elements to be removed\n",
    "    removals = 0\n",
    "    \n",
    "    # Step 4 & 5: Calculate the number of removals needed\n",
    "    for freq in frequency_map.values():\n",
    "        if freq > 1:\n",
    "            removals += freq - 1\n",
    "    \n",
    "    # Step 6: Return the total number of removals\n",
    "    return removals\n",
    "\n",
    "# Sample Input/Output\n",
    "T = int(input(\"Enter number of test cases: \"))\n",
    "for _ in range(T):\n",
    "    N = int(input(\"Enter size of array: \"))\n",
    "    ARR = list(map(int, input(\"Enter the elements of the array: \").split()))\n",
    "    print(min_removals_to_make_distinct(ARR))\n"
   ]
  },
  {
   "cell_type": "code",
   "execution_count": 3,
   "metadata": {},
   "outputs": [
    {
     "data": {
      "text/plain": [
       "2"
      ]
     },
     "execution_count": 3,
     "metadata": {},
     "output_type": "execute_result"
    }
   ],
   "source": [
    "minElementsToRemove(arr=[1, 2, 1, 2])"
   ]
  }
 ],
 "metadata": {
  "kernelspec": {
   "display_name": "Python 3",
   "language": "python",
   "name": "python3"
  },
  "language_info": {
   "codemirror_mode": {
    "name": "ipython",
    "version": 3
   },
   "file_extension": ".py",
   "mimetype": "text/x-python",
   "name": "python",
   "nbconvert_exporter": "python",
   "pygments_lexer": "ipython3",
   "version": "3.11.5"
  }
 },
 "nbformat": 4,
 "nbformat_minor": 2
}
