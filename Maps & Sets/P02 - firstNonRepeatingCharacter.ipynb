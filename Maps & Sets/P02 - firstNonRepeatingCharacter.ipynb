{
 "cells": [
  {
   "cell_type": "markdown",
   "metadata": {},
   "source": [
    "## Problem Statement\n",
    "\n",
    "Ninja is now bored with numbers and is now playing with characters but hates when he gets repeated characters. Ninja is provided a string, and he wants to return the first unique character in the string. The string will contain characters only from the English alphabet set, i.e., ('A' - 'Z') and ('a' - 'z'). If there is no non-repeating character, print the first character of the string. If there is no non-repeating character, return the first character of the string.\n",
    "\n",
    "**Constraints:**\\\n",
    "1 <= T <= 10\\\n",
    "1 <= Length of Input String <= 10^4\n",
    "\n",
    "**Time Limit:** 1 sec\n",
    "\n",
    "**Sample Input 1 :**\\\n",
    "2\\\n",
    "aDcadhc\\\n",
    "AabBcC\n",
    "\n",
    "**Sample Output 1:**\\\n",
    " D\\\n",
    " A\n",
    "\n",
    "**Explanation for Sample Input 1:**\\\n",
    "In the first test case, ‘a’ is repeated.’ D’ is the first non-repeating character in the string, so we return it.\n",
    "\n",
    "In the second test case, all the characters are non-repeating, so we return the first character.\n",
    "\n",
    "**Sample Input 2 :**\\\n",
    " 2\\\n",
    " ABcd\\\n",
    " AAAbcdb\n",
    "\n",
    "**Sample Output 2:**\\\n",
    " A\\\n",
    " c \n"
   ]
  },
  {
   "cell_type": "markdown",
   "metadata": {},
   "source": [
    "## Algorithm\n",
    "\n",
    "To solve this problem, we can use a hash map (or a dictionary in Python) to keep track of the count of each character in the string. We then iterate over the string a second time to find the first character with a count of 1 in the hash map. This approach ensures we have an optimal time complexity of O(N), where N is the length of the string since we are only iterating over the string twice. The space complexity is O(1) because the size of the hash map is bounded by the size of the English alphabet, which is constant.\n",
    "\n",
    "**Here's the step-by-step algorithm:**\n",
    "1. Initialize a hash map to store the count of each character in the string.\n",
    "\n",
    "2. Traverse the entire string:\n",
    "    - For each character, increment its count in the hash map.\n",
    "\n",
    "3. Traverse the string a second time:\n",
    "    - For each character, check its count in the hash map.\n",
    "    - If the count is 1, this is the first non-repeating character, return it.\n",
    "    \n",
    "If no non-repeating character is found, return the first character of the string."
   ]
  },
  {
   "cell_type": "markdown",
   "metadata": {},
   "source": [
    "## Implementation"
   ]
  },
  {
   "cell_type": "markdown",
   "metadata": {},
   "source": [
    "### Approach #1"
   ]
  },
  {
   "cell_type": "code",
   "execution_count": 1,
   "metadata": {},
   "outputs": [],
   "source": [
    "def firstNonRepeatingCharacter(s):\n",
    "    li = list(s)\n",
    "    for i in li:\n",
    "        if s.count(i) == 1:\n",
    "            return i\n",
    "    return s[0]"
   ]
  },
  {
   "cell_type": "code",
   "execution_count": 4,
   "metadata": {},
   "outputs": [
    {
     "name": "stdout",
     "output_type": "stream",
     "text": [
      "D\n",
      "A\n"
     ]
    }
   ],
   "source": [
    "print(firstNonRepeatingCharacter(s=\"aDcadhc\"))\n",
    "print(firstNonRepeatingCharacter(s=\"AabBcC\"))"
   ]
  },
  {
   "cell_type": "markdown",
   "metadata": {},
   "source": [
    "### Approach #2 (as per the algo)"
   ]
  },
  {
   "cell_type": "code",
   "execution_count": 7,
   "metadata": {},
   "outputs": [],
   "source": [
    "def first_unique_character(s):\n",
    "    # Step 1: Initialize a hash map to store character counts\n",
    "    char_count = {}\n",
    "\n",
    "    # Step 2: Traverse the string to populate the hash map\n",
    "    for char in s:\n",
    "        if char in char_count:\n",
    "            char_count[char] += 1\n",
    "        else:\n",
    "            char_count[char] = 1\n",
    "\n",
    "    # Step 3: Traverse the string a second time to find the first unique character\n",
    "    for char in s:\n",
    "        if char_count[char] == 1:\n",
    "            return char\n",
    "\n",
    "    # Step 4: If no unique character is found, return the first character\n",
    "    return s[0]"
   ]
  },
  {
   "cell_type": "code",
   "execution_count": 8,
   "metadata": {},
   "outputs": [
    {
     "name": "stdout",
     "output_type": "stream",
     "text": [
      "D\n",
      "A\n"
     ]
    }
   ],
   "source": [
    "print(firstNonRepeatingCharacter(s=\"aDcadhc\"))\n",
    "print(firstNonRepeatingCharacter(s=\"AabBcC\"))"
   ]
  }
 ],
 "metadata": {
  "kernelspec": {
   "display_name": "Python 3",
   "language": "python",
   "name": "python3"
  },
  "language_info": {
   "codemirror_mode": {
    "name": "ipython",
    "version": 3
   },
   "file_extension": ".py",
   "mimetype": "text/x-python",
   "name": "python",
   "nbconvert_exporter": "python",
   "pygments_lexer": "ipython3",
   "version": "3.11.5"
  }
 },
 "nbformat": 4,
 "nbformat_minor": 2
}
