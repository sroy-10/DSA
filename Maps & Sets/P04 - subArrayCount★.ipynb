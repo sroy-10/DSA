{
 "cells": [
  {
   "cell_type": "markdown",
   "metadata": {},
   "source": [
    "## Problem Statement:\n",
    "\n",
    "Given an array 'ARR' and an integer 'K', your task is to find all the count of all sub-arrays whose sum is divisible by the given integer 'K.\n",
    "\n",
    "**Note:**\n",
    "If there exists no subarray in the given sequence whose sum is divisible by 'K' then simply return \"O'.\n",
    "\n",
    "**Example:**\n",
    "Suppose the given array is 'ARR' = {5, 0, 2, 3, 1} and 'K = 5'. \\\n",
    "As we can see in below image, there are a total of 6 subarrays that have the total sum divisible by 'K'. So we return the integer 6.\n",
    "\n",
    "\n",
    "**Sample Input 1:**\\\n",
    "2  \n",
    "3 2  \n",
    "2 3 1  \n",
    "4 1  \n",
    "1 2 3 4  \n",
    "\n",
    "**Sample Output 1:**\\\n",
    "3  \\\n",
    "10  \n",
    "\n",
    "**Explanation of sample input 1:**\n",
    "\n",
    "**Test Case 1:**\\\n",
    "Given ‘ARR’ is { 2, 3,1 } and ‘K’ is ‘2’. \\  \n",
    "All the sub-array with sum is divided by ‘K’ are -  \\\n",
    "{ 2 }  because the sum is 2 and sum 2 is divisible by 2  \\\n",
    "{ 3, 1 } because the sum is 3 + 1 = 4 and sum 4 is divisible by 2.  \\\n",
    "{ 2, 3, 1 } because the sum is 2 + 3 + 1 = 6 and sum 6 is divisible by 2.  \\\n",
    "Hence there is a total of three subarrays that has sum divisible by 2.\n",
    "\n",
    "**Test Case 2:**\\\n",
    "Given ‘ARR’ is { 1, 2, 3, 4 } and ‘K’ is ‘1’.  \\\n",
    "Given ‘K’ is 1 that’s why each and every sub-arrays sum will be divisible by ‘1’ and with the size of ‘4’ array total number of subarray possible is ‘( 4*5 /2 ) = 20/2 = 10’.  \\\n",
    "All possible subarray -  \\\n",
    "{ 1 }, { 2 }, { 3 }, { 4 }, { 1, 2 }, { 2, 3 }, { 3, 4 }, { 1, 2, 3 }, { 2, 3, 4 }, { 1, 2, 3, 4 } and all subarray sum is divisible by ‘1’.  \\\n",
    "Hence there are overall 10 subarrays that has sum divisible by ‘1’.  \n",
    "\n",
    "**Sample Input 2:**\\\n",
    "2  \n",
    "4 3  \n",
    "1 4 5 2  \n",
    "3 2  \n",
    "1 1 2  \n",
    "\n",
    "**Sample Output 2:** \\\n",
    "2  \n",
    "3  \n"
   ]
  },
  {
   "cell_type": "markdown",
   "metadata": {},
   "source": [
    "## Algorithm\n",
    "\n",
    "Initialize a variable maxLength to 0, which will store the length of the longest subarray with sum zero.\n",
    "\n",
    "Initialize a variable currentSum to 0, which will keep track of the sum of elements from the start of the array.\n",
    "\n",
    "Create a hash map (or dictionary) to store the first occurrence of each prefix sum. The key will be the currentSum and the value will be the index at which this sum occurs.\n",
    "\n",
    "Iterate through the array, adding each element to currentSum.\n",
    "\n",
    "At each step, check:\n",
    "1. If currentSum is 0, then the subarray from the start to the current index has a sum of 0. Update maxLength if this subarray is longer than the current maxLength.\n",
    "\n",
    "1. If currentSum is already present in the hash map, it means there is a subarray with sum 0 between the first occurrence of currentSum and the current index. \n",
    "\n",
    "Calculate the length of this subarray and update maxLength if it's longer than the current maxLength.\n",
    "\n",
    "If currentSum is not present in the hash map, add it along with the current index.\n",
    "\n",
    "After the loop ends, maxLength will contain the length of the longest subarray with sum 0."
   ]
  },
  {
   "cell_type": "markdown",
   "metadata": {},
   "source": [
    "## Implementation"
   ]
  },
  {
   "cell_type": "code",
   "execution_count": 1,
   "metadata": {},
   "outputs": [],
   "source": [
    "from os import *\n",
    "from sys import *\n",
    "from collections import *\n",
    "from math import *\n",
    "\n",
    "\n",
    "def combination(n, r):\n",
    "    return factorial(n) // (factorial(r) * factorial(n - r))\n",
    "\n",
    "\n",
    "def subArrayCount(arr, k):\n",
    "    # Write your code here.\n",
    "    # Return count of all the subarray that have sum is divisible by 'k'.\n",
    "    mod = dict.fromkeys(range(k), 0)\n",
    "    s = 0\n",
    "    for i in arr:\n",
    "        s += i\n",
    "        # mod[(s % k)] += 1\n",
    "        mod[((s % k) + k) % k] += 1\n",
    "\n",
    "    count = mod[0]\n",
    "    for k, v in mod.items():\n",
    "        if v > 1:\n",
    "            count += combination(v, 2)\n",
    "    return count"
   ]
  },
  {
   "cell_type": "code",
   "execution_count": 2,
   "metadata": {},
   "outputs": [
    {
     "data": {
      "text/plain": [
       "3"
      ]
     },
     "execution_count": 2,
     "metadata": {},
     "output_type": "execute_result"
    }
   ],
   "source": [
    "subArrayCount(arr=[2, 3, 1], k=2)"
   ]
  }
 ],
 "metadata": {
  "kernelspec": {
   "display_name": "Python 3",
   "language": "python",
   "name": "python3"
  },
  "language_info": {
   "codemirror_mode": {
    "name": "ipython",
    "version": 3
   },
   "file_extension": ".py",
   "mimetype": "text/x-python",
   "name": "python",
   "nbconvert_exporter": "python",
   "pygments_lexer": "ipython3",
   "version": "3.11.5"
  }
 },
 "nbformat": 4,
 "nbformat_minor": 2
}
